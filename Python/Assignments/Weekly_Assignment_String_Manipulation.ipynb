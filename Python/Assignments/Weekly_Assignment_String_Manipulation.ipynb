{
  "nbformat": 4,
  "nbformat_minor": 0,
  "metadata": {
    "colab": {
      "provenance": []
    },
    "kernelspec": {
      "name": "python3",
      "display_name": "Python 3"
    },
    "language_info": {
      "name": "python"
    }
  },
  "cells": [
    {
      "cell_type": "markdown",
      "source": [
        "### Question 1: Reverse a String\n",
        "* **Write a Python function that takes a string as input and returns the string reversed.**"
      ],
      "metadata": {
        "id": "9gRxp4hhYkvK"
      }
    },
    {
      "cell_type": "code",
      "source": [
        "def reverse_string(s):\n",
        "    return s[::-1]\n",
        "\n",
        "inp = input(\"Write a word or sentence to reverse it:\")\n",
        "print(reverse_string(inp))"
      ],
      "metadata": {
        "colab": {
          "base_uri": "https://localhost:8080/"
        },
        "id": "VOgQSlPAY_7p",
        "outputId": "c28471e5-7093-443b-8cf6-c0faab278280"
      },
      "execution_count": 1,
      "outputs": [
        {
          "output_type": "stream",
          "name": "stdout",
          "text": [
            "Write a word or sentence to reverse it:My name is Jitesh\n",
            "hsetiJ si eman yM\n"
          ]
        }
      ]
    },
    {
      "cell_type": "markdown",
      "source": [
        "### Question2 : Check if a String is a Palindrome\n",
        "\n",
        "* **Write a Python function that checks if a given string is a palindrome. A palindrome is a word that reads the same backward as forward.**"
      ],
      "metadata": {
        "id": "6w7m7Wb0atHB"
      }
    },
    {
      "cell_type": "code",
      "source": [
        "def palindrome(s):\n",
        "    if s[::1] == s[::-1]:\n",
        "        return True\n",
        "    else:\n",
        "        False\n",
        "inp = input(\"Write string to check whether it is palindrome or not:\")\n",
        "print(palindrome(inp))"
      ],
      "metadata": {
        "colab": {
          "base_uri": "https://localhost:8080/"
        },
        "id": "gzLsSJI3Zlhk",
        "outputId": "fab7b69a-cb13-4e36-a7e9-947898e02596"
      },
      "execution_count": 2,
      "outputs": [
        {
          "output_type": "stream",
          "name": "stdout",
          "text": [
            "Write string to check whether it is palindrome or not:radar\n",
            "True\n"
          ]
        }
      ]
    },
    {
      "cell_type": "markdown",
      "source": [
        "### Question 3: Count Vowels in a String\n",
        "\n",
        "* **Write a Python function that counts the number of vowels in a given string. Vowels are 'a', 'e', 'i', 'o', 'u' (both uppercase and lowercase).**"
      ],
      "metadata": {
        "id": "475EaSeGbt8q"
      }
    },
    {
      "cell_type": "code",
      "source": [
        "def count_vowels(s):\n",
        "    count = 0\n",
        "    vowels = \"aeiouAEIOU\"\n",
        "    for i in s:\n",
        "        if i in vowels:\n",
        "            count += 1\n",
        "    print(count)\n",
        "\n",
        "inp = input(\"Write a word or sentence to count vowels in it:\")\n",
        "count_vowels(inp)\n"
      ],
      "metadata": {
        "colab": {
          "base_uri": "https://localhost:8080/"
        },
        "id": "x3xxDecfbmdF",
        "outputId": "c94b67bf-881b-40b4-e501-1524c5edfbc9"
      },
      "execution_count": 7,
      "outputs": [
        {
          "output_type": "stream",
          "name": "stdout",
          "text": [
            "Write a word or sentence to count vowels in it:My Name Is Jitesh\n",
            "5\n"
          ]
        }
      ]
    },
    {
      "cell_type": "markdown",
      "source": [
        "### Question 4: Find the Longest Word in a String\n",
        "* **Write a Python function that finds the longest word in a given sentence. The sentence contains only words separated by space**"
      ],
      "metadata": {
        "id": "BWN7pO58esWS"
      }
    },
    {
      "cell_type": "code",
      "source": [
        "def longest_word(s):\n",
        "    words = s.split()  # Spliting  the sentence into words in a list\n",
        "    print(words)\n",
        "    longest_word = max(words, key=len)  # Find the word with the maximum length\n",
        "    return longest_word\n",
        "\n",
        "inp = input(\"Write a sentence to find longest words  in it:\")\n",
        "longest_word(inp)\n",
        "\n"
      ],
      "metadata": {
        "colab": {
          "base_uri": "https://localhost:8080/",
          "height": 70
        },
        "id": "fv1SqkZfdhxu",
        "outputId": "10938c2c-a80b-414d-b8ab-fbac84cfa0b7"
      },
      "execution_count": 10,
      "outputs": [
        {
          "output_type": "stream",
          "name": "stdout",
          "text": [
            "Write a sentence to find longest words  in it:My name is Jitesh Srivastava\n",
            "['My', 'name', 'is', 'Jitesh', 'Srivastava']\n"
          ]
        },
        {
          "output_type": "execute_result",
          "data": {
            "text/plain": [
              "'Srivastava'"
            ],
            "application/vnd.google.colaboratory.intrinsic+json": {
              "type": "string"
            }
          },
          "metadata": {},
          "execution_count": 10
        }
      ]
    },
    {
      "cell_type": "markdown",
      "source": [
        "### Question 5: Replace a Substring in a String\n",
        "* **Write a Python function that replaces all occurrences of a specified substring in a string with another substring.**"
      ],
      "metadata": {
        "id": "y3dA9t4chUIL"
      }
    },
    {
      "cell_type": "code",
      "source": [
        "def replace_substring(org_str, substr, nsubstr):\n",
        "    return org_str.replace(substr, nsubstr)   #using replace method one substring with another\n",
        "\n",
        "\n",
        "org_str = \"Hello, world! Hello, everyone!\"\n",
        "substr = \"Hello\"\n",
        "nsubstr = \"Hi\"\n",
        "\n",
        "result = replace_substring(org_str, substr, nsubstr)\n",
        "print(result)\n"
      ],
      "metadata": {
        "colab": {
          "base_uri": "https://localhost:8080/"
        },
        "id": "jqiQ_UnUgn0X",
        "outputId": "b284c015-4b43-4d9a-c0da-4cd85174f3db"
      },
      "execution_count": 11,
      "outputs": [
        {
          "output_type": "stream",
          "name": "stdout",
          "text": [
            "Hi, world! Hi, everyone!\n"
          ]
        }
      ]
    },
    {
      "cell_type": "code",
      "source": [],
      "metadata": {
        "id": "PgXMYw6mjnlZ"
      },
      "execution_count": null,
      "outputs": []
    }
  ]
}