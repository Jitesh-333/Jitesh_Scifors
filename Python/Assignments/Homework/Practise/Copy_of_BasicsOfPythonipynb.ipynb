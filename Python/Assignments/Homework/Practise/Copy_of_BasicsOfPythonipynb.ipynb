{
  "nbformat": 4,
  "nbformat_minor": 0,
  "metadata": {
    "colab": {
      "provenance": []
    },
    "kernelspec": {
      "name": "python3",
      "display_name": "Python 3"
    },
    "language_info": {
      "name": "python"
    }
  },
  "cells": [
    {
      "cell_type": "code",
      "execution_count": null,
      "metadata": {
        "colab": {
          "base_uri": "https://localhost:8080/"
        },
        "id": "YtYT02lc0jM4",
        "outputId": "2eba4272-bd8e-4df9-a0ca-22e5af4eb33c"
      },
      "outputs": [
        {
          "output_type": "stream",
          "name": "stdout",
          "text": [
            "Hello World\n"
          ]
        }
      ],
      "source": [
        "print(\"Hello World\")"
      ]
    },
    {
      "cell_type": "code",
      "source": [
        "#VARIABLE - PLACEHOLDER / STORE DATA\n",
        "\n",
        "message = \"Hello World\"\n",
        "print(message)\n"
      ],
      "metadata": {
        "colab": {
          "base_uri": "https://localhost:8080/"
        },
        "id": "badca2Yd2lnE",
        "outputId": "62380938-e8b5-4565-d222-2d344d447426"
      },
      "execution_count": null,
      "outputs": [
        {
          "output_type": "stream",
          "name": "stdout",
          "text": [
            "Hello World\n"
          ]
        }
      ]
    },
    {
      "cell_type": "code",
      "source": [
        "#by default = string\n",
        "#DATA TYPES -\n",
        "\n",
        "# INTEGER = NUMERICAL VALUE = WHOLE NO = 1,2,3....\n",
        "# FLOAT = DECIMAL = 0.3, 0.5 , 0.8....\n",
        "# CHARACTER = a,b,c || A,B,C\n",
        "# STRING = COLLECTION OF CHARACTERS = Python, jupyter\n",
        "#BOLLEAN = YES OR NO , 0 OR 1\n"
      ],
      "metadata": {
        "id": "yyWalFKZ3kSr"
      },
      "execution_count": null,
      "outputs": []
    },
    {
      "cell_type": "code",
      "source": [
        "#CONDITIONAL MAKING STATEMENTS\n",
        "#IT HELPS US TO MAKE DECISION BASED ON CERTAIN CONDITIONS\n",
        "\n",
        "#TYPES OF CONDITIONAL STATEMENTS\n",
        "\n",
        "#1-IF-ELSE\n",
        "#2- NESTED - IF - STATEMENT\n",
        "#3 - MATCH CASE STATEMENT"
      ],
      "metadata": {
        "id": "cTH-0RbB4M7Z"
      },
      "execution_count": null,
      "outputs": []
    },
    {
      "cell_type": "code",
      "source": [
        "#IF-ELSE\n",
        "\n",
        "#IF CONDITION 1 :\n",
        "      STATEMENT 1\n",
        "#ELSE :\n",
        "    STATEMENT 2\n"
      ],
      "metadata": {
        "id": "vxSLLluZ6baR"
      },
      "execution_count": null,
      "outputs": []
    },
    {
      "cell_type": "code",
      "source": [
        "#EXAMPLE - IF-ELSE\n",
        "i = 5\n",
        "\n",
        "if (i>15):\n",
        "  print(\"20 is less than 15\")\n",
        "else :\n",
        "  print(\"stop\")"
      ],
      "metadata": {
        "colab": {
          "base_uri": "https://localhost:8080/"
        },
        "id": "ydNOsjrB63yX",
        "outputId": "64e4f58a-d5cc-4e4a-c0a0-62bab3abd7d9"
      },
      "execution_count": null,
      "outputs": [
        {
          "output_type": "stream",
          "name": "stdout",
          "text": [
            "stop\n"
          ]
        }
      ]
    },
    {
      "cell_type": "code",
      "source": [
        "#NESTED - IF\n",
        "\n",
        "# IF (CONDITION):\n",
        "# {\n",
        "#     IF\n",
        "#     STATEMENT WILL GET EXECUTED\n",
        "# }"
      ],
      "metadata": {
        "id": "RX-9hnwJ7nbP"
      },
      "execution_count": null,
      "outputs": []
    },
    {
      "cell_type": "code",
      "source": [
        "#NESTED - IF\n",
        "\n",
        "# IF (CONDITION):\n",
        "# {\n",
        "#     ELIF :\n",
        "#     STATEMENT WILL GET EXECUTED\n",
        "      ELIF :\n",
        "      STATEMENT:\n",
        "      ELSE :\n",
        "      STATEMENT :\n",
        "# }"
      ],
      "metadata": {
        "id": "EYMdEmSHDpvB"
      },
      "execution_count": null,
      "outputs": []
    },
    {
      "cell_type": "code",
      "source": [
        "value = 30\n",
        "\n",
        "if value <10 :\n",
        "  print(\"value is less than 10\")\n",
        "\n",
        "if value>20:\n",
        "  print(\"value ias greater than 20\")"
      ],
      "metadata": {
        "colab": {
          "base_uri": "https://localhost:8080/"
        },
        "id": "XD3fiJXy8UEt",
        "outputId": "703f86c2-4c3a-44fd-f1f5-73072f91e609"
      },
      "execution_count": null,
      "outputs": [
        {
          "output_type": "stream",
          "name": "stdout",
          "text": [
            "value ias greater than 20\n"
          ]
        }
      ]
    },
    {
      "cell_type": "code",
      "source": [
        "# #FUNCTION = THAT HELPS US TO RE-USE THE SAME PIECE OF CODE AGAIN AND AGAIN WITHOUT EXPLICITLY DEFINITING WHENEVER WE NEED\n",
        "# WE CALL THE FUNCTION WHENVER WE NEED IT INSTEAD OF MAKING IT SECOND TIME\n",
        "\n",
        "#ADD\n",
        "\n",
        "#SUBTRACTION\n",
        "\n",
        "#MULTIPLICATION\n",
        "\n",
        "#DIVISION\n",
        "\n",
        "#ADD - CODE AGAIN? (WITHOUT FUNCTION, AGAIN - MARK)\n",
        "\n",
        "#ADD - CODE AGAIN? (FUNCTON, ONLY BY THE NAME YOU CAN CALL FUNCTION)\n",
        "\n",
        "#DIVISON - CALL MY FUNCTION OF DIVISON\n",
        "\n",
        "\n",
        "#HOW TO INITILAIZE/ MAKE FUNCTION ?\n",
        "\n",
        "# def functioname\n"
      ],
      "metadata": {
        "id": "SD7owNIB9Bmt"
      },
      "execution_count": null,
      "outputs": []
    },
    {
      "cell_type": "code",
      "source": [
        "# def apporv:\n",
        "#   .......\n",
        "#   .......\n",
        "#   logic\n",
        "#   .......\n",
        "#   ......\n",
        "\n",
        "# call apporv"
      ],
      "metadata": {
        "id": "jkobpmaW_HTv"
      },
      "execution_count": null,
      "outputs": []
    },
    {
      "cell_type": "code",
      "source": [
        "def add(a,b,c):\n",
        "  return a+b+c\n",
        "\n",
        "result = add (5,3,2)\n",
        "print(result)"
      ],
      "metadata": {
        "colab": {
          "base_uri": "https://localhost:8080/"
        },
        "id": "h1tZfB4l_Wdc",
        "outputId": "3c2bfdf1-5e59-4756-921c-24786406bbbf"
      },
      "execution_count": null,
      "outputs": [
        {
          "output_type": "stream",
          "name": "stdout",
          "text": [
            "10\n"
          ]
        }
      ]
    },
    {
      "cell_type": "code",
      "source": [
        "#SWITCH CASE\n",
        "\n",
        "def number(a):\n",
        "  match a :\n",
        "    case 0 :\n",
        "      return \"zero\"\n",
        "    case 1:\n",
        "      return \"one\"\n",
        "    case 2:\n",
        "      return \"two\"\n",
        "    case default :\n",
        "      return \"defaultstatement\"\n",
        "\n",
        "head = number(5)\n",
        "print(head)\n"
      ],
      "metadata": {
        "colab": {
          "base_uri": "https://localhost:8080/"
        },
        "id": "IVc9sx6tA1Y4",
        "outputId": "6cc935bc-1f31-4741-b6cf-33a7248e8c61"
      },
      "execution_count": null,
      "outputs": [
        {
          "output_type": "stream",
          "name": "stdout",
          "text": [
            "defaultstatement\n"
          ]
        }
      ]
    },
    {
      "cell_type": "code",
      "source": [
        "# IF-ELIF-ELSE\n",
        "\n",
        "IF\n",
        "{\n",
        "# IF CONDITION 1 :\n",
        "#     PRINT(STATEMENT)\n",
        "# ELIF :\n",
        "#     PRINT\n",
        "# ELIF :\n",
        "#     PRINT()\n",
        "# ELSE :\n",
        "#   PRINT()\n",
        "}"
      ],
      "metadata": {
        "id": "-FBLDfp4DV11"
      },
      "execution_count": null,
      "outputs": []
    },
    {
      "cell_type": "code",
      "source": [
        "#HOMEWORK\n",
        "\n",
        "# 3 QUESTIONS OF CONDITIONAL STATEMENTS\n",
        "# 3 QUESTIONS OF FUNCTIONS\n"
      ],
      "metadata": {
        "id": "Rw6r6id3D9Hq"
      },
      "execution_count": null,
      "outputs": []
    },
    {
      "cell_type": "code",
      "source": [
        "#LOOPS IN PYTHON\n",
        "\n",
        "#THREE CATEGORIES :\n",
        "\n",
        "#FOR LOOP\n",
        "#DO WHILE LOOP\n",
        "#WHILE LOOP\n"
      ],
      "metadata": {
        "id": "WyKdfX0yDKyg"
      },
      "execution_count": null,
      "outputs": []
    },
    {
      "cell_type": "code",
      "source": [
        "#FOR LOOP # known - sequence by the help of range functions\n",
        "\n",
        "# range(1,11) (X,Y) -> X= INCLUSIVE, Y=>EXCLUSIVE\n",
        "# 1\n",
        "# 2\n",
        "# 3\n",
        "# 4\n",
        "# 5\n",
        "# 6\n",
        "# 7\n",
        "# 8\n",
        "# 9\n",
        "# 10\n",
        "\n",
        "# range(0,12,2)\n",
        "\n",
        "# 0\n",
        "# 2\n",
        "# 4\n",
        "# 6\n",
        "# 8\n",
        "# 10\n",
        "\n",
        "for i in range(0,10,2):\n",
        "  print(i)"
      ],
      "metadata": {
        "colab": {
          "base_uri": "https://localhost:8080/"
        },
        "id": "uECfgvDijKK-",
        "outputId": "0e936a12-d74d-4d16-9785-67ff62a7565e"
      },
      "execution_count": null,
      "outputs": [
        {
          "output_type": "stream",
          "name": "stdout",
          "text": [
            "0\n",
            "2\n",
            "4\n",
            "6\n",
            "8\n"
          ]
        }
      ]
    },
    {
      "cell_type": "code",
      "source": [
        "l=[\"python\", \"machine learning\", \"AI\"]\n",
        "\n",
        "for i in l :\n",
        "  print(i)"
      ],
      "metadata": {
        "colab": {
          "base_uri": "https://localhost:8080/"
        },
        "id": "81_HKjzwki5V",
        "outputId": "2318a89a-f6e2-4094-fad0-71d7e877c1fa"
      },
      "execution_count": null,
      "outputs": [
        {
          "output_type": "stream",
          "name": "stdout",
          "text": [
            "python\n",
            "machine learning\n",
            "AI\n"
          ]
        }
      ]
    },
    {
      "cell_type": "code",
      "source": [
        "#DIFFERENCE BETWEEN WHILE LOOP AND DO WHILE LOOP\n",
        "\n",
        "#WHILE LOOP = IT EXECUTE AS LONG AS THE CONDITION IS TRUE / THE NO OF EXECUTION OF INTERATION IS NOT KNOWN TO US BEFOREHEAD\n",
        "i=1\n",
        "while i<=5:\n",
        "  print(i)\n",
        "  i+=1"
      ],
      "metadata": {
        "colab": {
          "base_uri": "https://localhost:8080/"
        },
        "id": "0I20tMUmk_JY",
        "outputId": "583e4d57-1892-4858-efe5-efc28af1cf54"
      },
      "execution_count": null,
      "outputs": [
        {
          "output_type": "stream",
          "name": "stdout",
          "text": [
            "1\n",
            "2\n",
            "3\n",
            "4\n",
            "5\n"
          ]
        }
      ]
    },
    {
      "cell_type": "code",
      "source": [
        "#DO WHILE LOOP - EXECUTE ATLEAST ONCE BEFORE CHECKING\n",
        "\n",
        "int i = 10\n",
        "do\n",
        "{\n",
        "    while\n",
        "    print\n",
        "    i++\n",
        "    while\n",
        "}\n"
      ],
      "metadata": {
        "id": "mSvoBzAqmQYk"
      },
      "execution_count": null,
      "outputs": []
    },
    {
      "cell_type": "code",
      "source": [
        "#DO WHILE LOOP\n",
        "\n",
        "i = 1\n",
        "\n",
        "while True :\n",
        "  print(i)\n",
        "  i=i+1\n",
        "  if(i>5):\n",
        "    break"
      ],
      "metadata": {
        "colab": {
          "base_uri": "https://localhost:8080/"
        },
        "id": "jVcGcj86m-yl",
        "outputId": "4e05a9c8-e67f-4b49-8a04-2c753c3ab9ac"
      },
      "execution_count": null,
      "outputs": [
        {
          "output_type": "stream",
          "name": "stdout",
          "text": [
            "1\n",
            "2\n",
            "3\n",
            "4\n",
            "5\n"
          ]
        }
      ]
    },
    {
      "cell_type": "markdown",
      "source": [
        "##**OOPS**\n",
        "\n",
        "OOP is a powerful paradigm that provides a structured way to organize code, making it more modular, reusable, and easier to maintain. It helps in managing complexity, enhances collaboration, and provides a natural way to model real-world problems. By leveraging OOP principles, you can build robust and scalable software systems."
      ],
      "metadata": {
        "id": "P11LUxXcTLZ0"
      }
    },
    {
      "cell_type": "markdown",
      "source": [
        "\n",
        "Sure! Let's dive into Object-Oriented Programming (OOP) in Python in a simple and clear way. We'll go through the key concepts step by step: classes, objects, inheritance, encapsulation, and polymorphism.\n",
        "\n",
        "1. Classes and Objects\n",
        "Class: A class is like a blueprint for creating objects. It defines a set of attributes (data) and methods (functions) that the objects created from the class can have.\n",
        "\n",
        "Object: An object is an instance of a class. It's like a house built from the blueprint. Each object can have different attribute values, but they share the structure defined by the class.\n",
        "\n",
        "Example:"
      ],
      "metadata": {
        "id": "q-tMFA4XTVcK"
      }
    },
    {
      "cell_type": "code",
      "source": [
        "class Dog:\n",
        "  def __init__(self, name, age):\n",
        "    self.name = name\n",
        "    self.age = age\n",
        "\n",
        "  def bark(self):\n",
        "    print(self.name, \"says wooof\")\n",
        "\n",
        "  def pname(self):\n",
        "    print(self.name)\n",
        "\n",
        "  def page(self):\n",
        "    print(self.age)\n",
        "\n",
        "Dog1 = Dog(\"kitto\",5)\n",
        "Dog2 = Dog(\"Chotu\", 3)\n",
        "\n",
        "Dog1.bark()\n",
        "Dog2.bark()\n",
        "Dog1.page()\n",
        "Dog2.pname()\n",
        "\n",
        "\n"
      ],
      "metadata": {
        "id": "f-SyyQSioKdh",
        "colab": {
          "base_uri": "https://localhost:8080/"
        },
        "outputId": "2bf4f4f1-7298-4d0f-d2bd-a3e165fdf2d6"
      },
      "execution_count": null,
      "outputs": [
        {
          "output_type": "stream",
          "name": "stdout",
          "text": [
            "kitto says wooof\n",
            "Chotu says wooof\n",
            "5\n",
            "Chotu\n"
          ]
        }
      ]
    },
    {
      "cell_type": "markdown",
      "source": [
        "### **2. Inheritance**\n",
        "Inheritance allows a class (child class) to inherit attributes and methods from another class (parent class). This helps in reusing code and creating a hierarchical relationship between classes"
      ],
      "metadata": {
        "id": "3fL4PkIxY4vH"
      }
    },
    {
      "cell_type": "code",
      "source": [
        "class animal:\n",
        "  def __init__(self,name):\n",
        "    self.name = name\n",
        "\n",
        "  def eat(self):\n",
        "    print(self.name,\"is eating\")\n",
        "\n",
        "class dog(animal):\n",
        "    def bark(self):\n",
        "      print(self.name ,\"says whooof\")\n",
        "\n",
        "Dog = dog(\"kitto\")\n",
        "Dog.eat()\n",
        "Dog.bark()"
      ],
      "metadata": {
        "id": "Ps0o4zOVpVM1",
        "colab": {
          "base_uri": "https://localhost:8080/"
        },
        "outputId": "3a0c7150-89f0-489d-a893-598fc91413b7"
      },
      "execution_count": null,
      "outputs": [
        {
          "output_type": "stream",
          "name": "stdout",
          "text": [
            "kitto is eating\n",
            "kitto says whooof\n"
          ]
        }
      ]
    },
    {
      "cell_type": "markdown",
      "source": [
        "### **3. Encapsulation**\n",
        "Encapsulation is the concept of bundling data (attributes) and methods (functions) that operate on the data into a single unit (class). It also involves restricting access to some of the object's components, which means that the internal representation of an object is hidden from the outside."
      ],
      "metadata": {
        "id": "zjauIQ4xcxFz"
      }
    },
    {
      "cell_type": "code",
      "source": [
        "class person:\n",
        "  def __init__(self, name,age):\n",
        "    self.__name = name # instance atrribute & private attribute\n",
        "    self.__age = age   # private attribute\n",
        "\n",
        "  def display(self):\n",
        "    print(self.__name,self.__age )\n",
        "\n",
        "  def set_age(self, age):\n",
        "    if self.__age > 0:\n",
        "      print(self.__age)\n",
        "    else:\n",
        "      print(\"invalid age \")\n",
        "\n",
        "Person = person(\"virat\", 34)\n",
        "Person.set_age(34)\n",
        "Person.display()\n"
      ],
      "metadata": {
        "colab": {
          "base_uri": "https://localhost:8080/"
        },
        "id": "oXBZl7Nlb2dm",
        "outputId": "fc137f8b-76d2-463a-9b92-929529796ebc"
      },
      "execution_count": null,
      "outputs": [
        {
          "output_type": "stream",
          "name": "stdout",
          "text": [
            "34\n",
            "virat 34\n"
          ]
        }
      ]
    },
    {
      "cell_type": "markdown",
      "source": [
        "### **4. Polymorphism**\n",
        "Polymorphism means \"many forms\". In the context of OOP, it refers to the ability of different classes to respond to the same method in different ways. This is achieved by method overriding and method overloading (though Python doesn't support method overloading in the traditional sense)"
      ],
      "metadata": {
        "id": "rHpVeZGfiJ6T"
      }
    },
    {
      "cell_type": "code",
      "source": [
        "class animal:\n",
        "  def speaks(self):\n",
        "    pass\n",
        "\n",
        "class Dog(animal):\n",
        "  def speaks(self):\n",
        "    print(\"woof!\")\n",
        "\n",
        "class cat(animal):\n",
        "  def speaks(self):\n",
        "    print(\"meow!\")\n",
        "\n",
        "animals = [Dog(),cat()]\n",
        "for i in animals:\n",
        "  i.speaks()"
      ],
      "metadata": {
        "colab": {
          "base_uri": "https://localhost:8080/"
        },
        "id": "wmvOHj2eggaM",
        "outputId": "c5e64f8c-f142-4e86-d8bb-5f4b32037623"
      },
      "execution_count": null,
      "outputs": [
        {
          "output_type": "stream",
          "name": "stdout",
          "text": [
            "woof!\n",
            "meow!\n"
          ]
        }
      ]
    },
    {
      "cell_type": "code",
      "source": [
        "# Write a Python function named calculate_area that takes the radius of a circle as a parameter and returns its area. (Use π = 3.14)\n",
        "\n",
        "def calculate_area(r):\n",
        "  return (3.14)*r**2\n",
        "\n",
        "inp = int(input(\"Enter radius of circle to compute its area:\"))\n",
        "print(calculate_area(inp))"
      ],
      "metadata": {
        "id": "jU3aHVs4joSl",
        "colab": {
          "base_uri": "https://localhost:8080/"
        },
        "outputId": "1d756fa2-8253-469f-c0d8-09dcbcb52a6f"
      },
      "execution_count": 1,
      "outputs": [
        {
          "output_type": "stream",
          "name": "stdout",
          "text": [
            "Enter radius of circle to compute its area:5\n",
            "78.5\n"
          ]
        }
      ]
    },
    {
      "cell_type": "code",
      "source": [
        "#Write a Python function called unique_elements that takes a list as input and returns a new list containing only the unique elements of the input list.\n",
        "\n",
        "def unique_elements(lst):\n",
        "  newset = set(lst)\n",
        "  newlst = list(newset)\n",
        "  return newlst\n",
        "\n",
        "inp = list(input(\"Enter your elements\"))\n",
        "print(unique_elements(inp))"
      ],
      "metadata": {
        "colab": {
          "base_uri": "https://localhost:8080/"
        },
        "id": "UY5OWToc1PD0",
        "outputId": "df64bafa-3714-4ae5-880b-eb48c48f18a9"
      },
      "execution_count": 4,
      "outputs": [
        {
          "output_type": "stream",
          "name": "stdout",
          "text": [
            "Enter your elementsq,q,q,q,q,q,e,r,t,y.\n",
            "['e', '.', 'q', 'r', 'y', ',', 't']\n"
          ]
        }
      ]
    },
    {
      "cell_type": "code",
      "source": [],
      "metadata": {
        "id": "nH8rzG0J2xcr"
      },
      "execution_count": null,
      "outputs": []
    }
  ]
}