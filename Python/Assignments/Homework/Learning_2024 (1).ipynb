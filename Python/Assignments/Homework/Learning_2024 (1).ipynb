{
  "nbformat": 4,
  "nbformat_minor": 0,
  "metadata": {
    "colab": {
      "provenance": []
    },
    "kernelspec": {
      "name": "python3",
      "display_name": "Python 3"
    },
    "language_info": {
      "name": "python"
    }
  },
  "cells": [
    {
      "cell_type": "markdown",
      "source": [
        "**Variables**, **Expression**, **and** **Standards**\n",
        "\n",
        "\n",
        "*   Fixes values such as numbers, letters, and Strings are called constants because their values does not change\n",
        "*   String Constants use singles (') or (\") double quotes.\n",
        "\n"
      ],
      "metadata": {
        "id": "sJi1stKU1sk-"
      }
    },
    {
      "cell_type": "code",
      "source": [
        "print(\"Hello Jitesh welcome back, Do well\")"
      ],
      "metadata": {
        "colab": {
          "base_uri": "https://localhost:8080/"
        },
        "id": "IsyAV2mU1k8s",
        "outputId": "1a26f790-0326-4d44-8cc0-0dd7cdfe1efe"
      },
      "execution_count": null,
      "outputs": [
        {
          "output_type": "stream",
          "name": "stdout",
          "text": [
            "Hello Jitesh welcome back, Do well\n"
          ]
        }
      ]
    },
    {
      "cell_type": "code",
      "source": [
        "print(98*98*98*8)"
      ],
      "metadata": {
        "colab": {
          "base_uri": "https://localhost:8080/"
        },
        "id": "t2FOoxkg3KwZ",
        "outputId": "42bf3da4-1cce-4a4f-ccf1-16dadde6d488"
      },
      "execution_count": null,
      "outputs": [
        {
          "output_type": "stream",
          "name": "stdout",
          "text": [
            "7529536\n"
          ]
        }
      ]
    },
    {
      "cell_type": "code",
      "source": [],
      "metadata": {
        "id": "zf3Gdphh3WoO"
      },
      "execution_count": null,
      "outputs": []
    },
    {
      "cell_type": "markdown",
      "source": [
        "****RESERVE WORDS****\n",
        "\n",
        "\n",
        "**False, class, return, is, finally, None, if, for, lambda, continue, True, def, from, white, nonlocal, and, global, not, with, as elif, try, or, yield, assest, else, import, pass, break, except, in, raise**"
      ],
      "metadata": {
        "id": "kV1qZuMT3iS8"
      }
    },
    {
      "cell_type": "markdown",
      "source": [
        "****VARIABLES****\n",
        "\n",
        "\n",
        "*   A variable is a named place in the memory where a programmer can store data later retrive the data using the variable \"name\"\n",
        "*   Programmers get to choose the name of the variables\n",
        "\n",
        "*   You can change the contents of a variable in a later statements\n",
        "\n",
        "\n",
        "\n",
        "\n",
        "\n"
      ],
      "metadata": {
        "id": "CBvoi4HK8Xj6"
      }
    },
    {
      "cell_type": "code",
      "source": [
        "x = 12.2\n",
        "y = 14\n",
        "print(x,y)"
      ],
      "metadata": {
        "colab": {
          "base_uri": "https://localhost:8080/"
        },
        "id": "Nlm3oHEG4v6l",
        "outputId": "c9b905f5-abb4-4938-fbfe-20b673589f98"
      },
      "execution_count": null,
      "outputs": [
        {
          "output_type": "stream",
          "name": "stdout",
          "text": [
            "12.2 14\n"
          ]
        }
      ]
    },
    {
      "cell_type": "code",
      "source": [
        "x = 144\n",
        "y = 14\n",
        "print(x,y)"
      ],
      "metadata": {
        "colab": {
          "base_uri": "https://localhost:8080/"
        },
        "id": "kPSHx5J59iAB",
        "outputId": "a2108d9e-adc5-4024-f11f-521d71cd50da"
      },
      "execution_count": null,
      "outputs": [
        {
          "output_type": "stream",
          "name": "stdout",
          "text": [
            "144 14\n"
          ]
        }
      ]
    },
    {
      "cell_type": "markdown",
      "source": [
        "\n",
        "\n",
        "> **Python variable Name rules**\n",
        "\n",
        "\n",
        "1.   Must start with a letter or underscore_\n",
        "2.   Must consists of a letters, numbers and underscores\n",
        "\n",
        "1.   Case sensitive\n",
        "\n",
        "**GOOD** : spam, eggs, spam23 _spam\n",
        "\n",
        "**BAD** : 23spam,   #sign, var.12\n",
        "\n",
        "**DIFFERENT** : Spam, spam, SPAM\n",
        "\n",
        "\n",
        "\n",
        "\n",
        "\n"
      ],
      "metadata": {
        "id": "D599bOKb-Rnb"
      }
    },
    {
      "cell_type": "markdown",
      "source": [
        "##**ASSIGMENT STATEMENTS**\n",
        "\n",
        "We assign a value to a variable using the assignment statements (=)\n",
        "\n",
        "An assignments statements consists of an expression on the right hand side and a variable to store the results."
      ],
      "metadata": {
        "id": "iTVXh4QEGJc4"
      }
    },
    {
      "cell_type": "code",
      "source": [
        "x = 3.9*0.6*(1-0.6)\n",
        "print(x)"
      ],
      "metadata": {
        "id": "umu3k1Ki_6f7",
        "colab": {
          "base_uri": "https://localhost:8080/"
        },
        "outputId": "6a03460e-3924-489e-9bc7-b617f6fa9986"
      },
      "execution_count": null,
      "outputs": [
        {
          "output_type": "stream",
          "name": "stdout",
          "text": [
            "0.9359999999999999\n"
          ]
        }
      ]
    },
    {
      "cell_type": "markdown",
      "source": [
        "##**Order of Evaluation**\n",
        "\n",
        "\n",
        "\n",
        "1.   Parenthesis are always respected\n",
        "2.   Exponentation( Raise to a power)\n",
        "\n",
        "1.   Multiplication, Division and Remainder\n",
        "2.   Addition & substraction\n",
        "\n",
        "1.   Left to right\n",
        "\n",
        "\n",
        "\n",
        "\n",
        "\n",
        "\n",
        "\n"
      ],
      "metadata": {
        "id": "Y9CZ90-GJMNU"
      }
    },
    {
      "cell_type": "code",
      "source": [
        "inp = input('Write lift number of europe:')\n",
        "usf = int(inp)+1\n",
        "print('us floor', usf)"
      ],
      "metadata": {
        "colab": {
          "base_uri": "https://localhost:8080/"
        },
        "id": "1PWevyxsJH2A",
        "outputId": "3513094a-3f04-4aad-fb38-b8ff428f69b9"
      },
      "execution_count": null,
      "outputs": [
        {
          "output_type": "stream",
          "name": "stdout",
          "text": [
            "Write lift number of europe:66\n",
            "us floor 67\n"
          ]
        }
      ]
    },
    {
      "cell_type": "markdown",
      "source": [
        "##**CONDITIONAL EXECUTION**\n",
        "Boolean expressions ask a question and produce True or False\n",
        "\n",
        "\n",
        "*   \">\" less than\n",
        "*   \">=\" less than or equal to\n",
        "\n",
        "*   \"==\" equal to\n",
        "\n",
        "*   \"<\" greater than\n",
        "*   \"<=\" greater than or equal to\n",
        "\n",
        "\n",
        "*   \"!=\" Not equal\n",
        "\n",
        "\n",
        "\n",
        "\n"
      ],
      "metadata": {
        "id": "4KOLsc-P4GXD"
      }
    },
    {
      "cell_type": "markdown",
      "source": [
        "##**INDENTATION**\n",
        "\n",
        "\n",
        "*   **Increase indent** indent after an if statement or for statement (after:)\n",
        "*  **Maintain indent** to indicate the scope of the block(which lines are effected by the if/for)\n",
        "\n",
        "*   **Reduce indent** back to the level of the if statement or for statement to indicate the end of the block\n",
        "*   **Blank lines** are ignored- they do not affect identation\n",
        "\n",
        "*   **Comments** on a line by themselves are ignored with regard to identation\n",
        "\n",
        "\n",
        "\n",
        "\n",
        "\n",
        "\n"
      ],
      "metadata": {
        "id": "mXR3GFOn-EZb"
      }
    },
    {
      "cell_type": "code",
      "source": [
        "inp = int(input(\"enter an integer\"))\n",
        "x = inp\n",
        "if x==5:\n",
        "  print(x)\n",
        "elif x<5:\n",
        "  print(x,'is less than 5')\n",
        "else:\n",
        "  print(x, 'is greater than 5')\n"
      ],
      "metadata": {
        "colab": {
          "base_uri": "https://localhost:8080/"
        },
        "id": "D8jcEcOyHy0t",
        "outputId": "08cd65fa-fa67-4641-8f9e-4c53e6b8c611"
      },
      "execution_count": null,
      "outputs": [
        {
          "output_type": "stream",
          "name": "stdout",
          "text": [
            "enter an integer-2\n",
            "-2 is less than 5\n"
          ]
        }
      ]
    },
    {
      "cell_type": "markdown",
      "source": [
        "##**The Try and Except Statements**##\n",
        "\n",
        "\n",
        "*   You surround a dangerous section of code with try and except\n",
        "*   If the code in the try works- the except is skipped\n",
        "\n",
        "*   If the code in the try fails- it jumps to the except section\n",
        "\n",
        "\n",
        "\n"
      ],
      "metadata": {
        "id": "UFpCw12RqjsF"
      }
    },
    {
      "cell_type": "code",
      "source": [
        "astr = \"Hello Jitesh\"\n",
        "try:\n",
        "  istr = int(astr)\n",
        "except:\n",
        "  istr = -1\n",
        "print(\"first\", istr)"
      ],
      "metadata": {
        "id": "bXCQWckVExIl",
        "colab": {
          "base_uri": "https://localhost:8080/"
        },
        "outputId": "d41d3aa9-bd1d-492a-b7ab-637a46f0b15d"
      },
      "execution_count": null,
      "outputs": [
        {
          "output_type": "stream",
          "name": "stdout",
          "text": [
            "first -1\n"
          ]
        }
      ]
    },
    {
      "cell_type": "code",
      "source": [
        "astr = \"123\"\n",
        "try:\n",
        "  istr = int(astr)\n",
        "except:\n",
        "  istr = -1\n",
        "print('second',istr)"
      ],
      "metadata": {
        "colab": {
          "base_uri": "https://localhost:8080/"
        },
        "id": "F8yKygiuvLLk",
        "outputId": "47544b42-b01b-4e26-910a-185e2d65408c"
      },
      "execution_count": null,
      "outputs": [
        {
          "output_type": "stream",
          "name": "stdout",
          "text": [
            "second 123\n"
          ]
        }
      ]
    },
    {
      "cell_type": "code",
      "source": [
        "astr = \"Hello Jitesh\"\n",
        "try:\n",
        "  print(\"I am here\")\n",
        "  istr = int(astr)\n",
        "  print(\"I am after blown of code\")        #Beware of this technique as soon as try statements gets executed and it gets false,\n",
        "                                            #python will move directly to except: whether there is line of code or not.\n",
        "except:\n",
        "  istr = -1\n",
        "print(\"first\", istr)"
      ],
      "metadata": {
        "colab": {
          "base_uri": "https://localhost:8080/"
        },
        "id": "kAaIHMVBvrAZ",
        "outputId": "e7fca2dd-093e-495c-de9f-e4d253733602"
      },
      "execution_count": null,
      "outputs": [
        {
          "output_type": "stream",
          "name": "stdout",
          "text": [
            "I am here\n",
            "first -1\n"
          ]
        }
      ]
    },
    {
      "cell_type": "code",
      "source": [
        "rstr = input(\"Enter a number: \")\n",
        "\n",
        "try:\n",
        "    istr = int(rstr)\n",
        "except ValueError:\n",
        "    print(\"Not a number\")\n",
        "else:\n",
        "    if istr >= 0:\n",
        "        print(\"Entered numered is a positive\", istr)\n",
        "    elif istr < 0:\n",
        "        print(\"Entered number is negative\", istr)\n"
      ],
      "metadata": {
        "colab": {
          "base_uri": "https://localhost:8080/"
        },
        "id": "kykSFjlyzmQE",
        "outputId": "e036b84d-79b0-4dcf-fd8a-d7751c2cacc9"
      },
      "execution_count": null,
      "outputs": [
        {
          "output_type": "stream",
          "name": "stdout",
          "text": [
            "Enter a number: -222222\n",
            "Entered number is negative -222222\n"
          ]
        }
      ]
    },
    {
      "cell_type": "code",
      "source": [
        "rstr = input(\"Enter a number: \")\n",
        "try:\n",
        "    istr = int(rstr)\n",
        "except ValueError:\n",
        "    istr = -1\n",
        "\n",
        "if istr == -1:\n",
        "    print(\"Not a number\")\n",
        "elif istr >= 0:\n",
        "    print(\"Entered a positive number\", istr)\n",
        "else:\n",
        "    print(\"Entered number is negative\", istr)\n"
      ],
      "metadata": {
        "colab": {
          "base_uri": "https://localhost:8080/"
        },
        "id": "egH7P5g207Zr",
        "outputId": "03141735-f304-41a6-a802-e0f264b13380"
      },
      "execution_count": null,
      "outputs": [
        {
          "output_type": "stream",
          "name": "stdout",
          "text": [
            "Enter a number: -1\n",
            "Not a number\n"
          ]
        }
      ]
    },
    {
      "cell_type": "markdown",
      "source": [
        "##**PYTHON FUNCTION**##\n",
        "\n",
        "\n",
        "*   There are two kinds of functions in python.\n",
        "    \n",
        "*   Built_in function that are provided as a part of python- print(),input(),\n",
        "type(),float(),int()\n",
        "        \n",
        "* Functions that we define ourself and then use\n",
        "\n",
        "*  We treat buit-in function words as a new reserve word\n",
        "\n"
      ],
      "metadata": {
        "id": "Y85fIMP1l3As"
      }
    },
    {
      "cell_type": "markdown",
      "source": [
        "##**FUNCTION DEFINITION**##\n",
        "\n",
        "*   A function is some reusable code that takes arguments(s) as input and then returns a result or results\n",
        "* We call/invoke the functions by using the function name, parenthesis, and arguements in an expression\n",
        "* We define function by using reserve word def:\n",
        "\n"
      ],
      "metadata": {
        "id": "jl1UnYRln5a3"
      }
    },
    {
      "cell_type": "code",
      "source": [
        "big= max(\"Hello world\")\n",
        "print(big)\n"
      ],
      "metadata": {
        "colab": {
          "base_uri": "https://localhost:8080/"
        },
        "id": "TL9q8iYc5h9R",
        "outputId": "2ead3636-7998-4c60-e158-7059f97458c6"
      },
      "execution_count": null,
      "outputs": [
        {
          "output_type": "stream",
          "name": "stdout",
          "text": [
            "w\n",
            " \n"
          ]
        }
      ]
    },
    {
      "cell_type": "code",
      "source": [
        "tiny = min(\"Helloworld\")\n",
        "print(tiny)"
      ],
      "metadata": {
        "colab": {
          "base_uri": "https://localhost:8080/"
        },
        "id": "tztrbhjGpuKu",
        "outputId": "e1cc045e-1b48-441c-c558-e5c1828f8710"
      },
      "execution_count": null,
      "outputs": [
        {
          "output_type": "stream",
          "name": "stdout",
          "text": [
            "H\n"
          ]
        }
      ]
    },
    {
      "cell_type": "markdown",
      "source": [
        "##**ARGUEMENTS**\n",
        "\n",
        "\n",
        "\n",
        "*   An arguements is a value we pass into the function as its input when we call the function.\n",
        "*   We use arguements so we can direct the function to do different kinds of work when we call it at different times\n",
        "*   We put arguements in the parantheses after the name of the function.\n",
        "\n"
      ],
      "metadata": {
        "id": "Q5pL-U5fl2cv"
      }
    },
    {
      "cell_type": "markdown",
      "source": [
        "##**PARAMETERS**  \n",
        "\n",
        "A parametre is a variable which we use in the function definition. It is a \"handle\" that allows the codes in the function to access the arguemnets for a particular function invocations."
      ],
      "metadata": {
        "id": "kZuwCJoI1x44"
      }
    },
    {
      "cell_type": "code",
      "source": [
        "def greet(lang):\n",
        "  if lang == 'es':\n",
        "    print(\"hello\")\n",
        "  elif lang == \"hindi\":\n",
        "    print(\"Namaste\")\n",
        "  else:\n",
        "    print(\"Hello how are u\")\n",
        "\n",
        "print(greet(\"h\"))"
      ],
      "metadata": {
        "colab": {
          "base_uri": "https://localhost:8080/"
        },
        "id": "k6hvWk941j0u",
        "outputId": "109e2835-e0bd-4866-e323-c06b349b5e6a"
      },
      "execution_count": null,
      "outputs": [
        {
          "output_type": "stream",
          "name": "stdout",
          "text": [
            "Hello how are u\n",
            "None\n"
          ]
        }
      ]
    },
    {
      "cell_type": "markdown",
      "source": [
        "##**RETURN VALUES**\n",
        "\n",
        "often a function will takes its arguements, do some computation and return a value to be used as a value of the function call in the calling expression."
      ],
      "metadata": {
        "id": "E4YQzPR14lcc"
      }
    },
    {
      "cell_type": "code",
      "source": [
        "def greet():\n",
        "  return \"hello\"\n",
        "\n",
        "print(greet(), \"Jitesh\")\n",
        "print(greet(), \"Anoop\")"
      ],
      "metadata": {
        "colab": {
          "base_uri": "https://localhost:8080/"
        },
        "id": "ZdkJC5TI3oCv",
        "outputId": "ad93fd38-9104-4c74-92a1-7acfbba6bd62"
      },
      "execution_count": null,
      "outputs": [
        {
          "output_type": "stream",
          "name": "stdout",
          "text": [
            "hello Jitesh\n",
            "hello Anoop\n"
          ]
        }
      ]
    },
    {
      "cell_type": "markdown",
      "source": [
        "##**LOOPS AND ITERATIONS**\n",
        "\n",
        "**LOOPS**   have iterabale variables that change each time through a loop. Often these iterations variables go through a sequences of numbers"
      ],
      "metadata": {
        "id": "ATuzJ_Cg9Uvg"
      }
    },
    {
      "cell_type": "code",
      "source": [
        "n=5\n",
        "while n>0:\n",
        "  print(n)\n",
        "  n=n-1\n",
        "print(\"done\",n)"
      ],
      "metadata": {
        "colab": {
          "base_uri": "https://localhost:8080/"
        },
        "id": "QqvRoM3V54PI",
        "outputId": "bb9fdff0-4a5e-4ec6-8b62-8f2751395f97"
      },
      "execution_count": null,
      "outputs": [
        {
          "output_type": "stream",
          "name": "stdout",
          "text": [
            "5\n",
            "4\n",
            "3\n",
            "2\n",
            "1\n",
            "done 0\n"
          ]
        }
      ]
    },
    {
      "cell_type": "markdown",
      "source": [
        "##**BREAKING OUT OF LOOP**\n",
        "\n",
        "\n",
        "*   The break statements ends the current loop and jumps to the statements immediately following the loop\n",
        "*   It is like a loop test that can happen anywhere in the body of the loop\n",
        "\n"
      ],
      "metadata": {
        "id": "lgUtaf2OAUaj"
      }
    },
    {
      "cell_type": "code",
      "source": [
        "while True:\n",
        "  line = input('>')\n",
        "  if line ==\"done\":\n",
        "     break\n",
        "  print(line)\n",
        "print(\"done\")"
      ],
      "metadata": {
        "colab": {
          "base_uri": "https://localhost:8080/"
        },
        "id": "xZ5KBC6D-NC9",
        "outputId": "3628c2bc-e3d9-4a0e-d691-54701a695798"
      },
      "execution_count": null,
      "outputs": [
        {
          "output_type": "stream",
          "name": "stdout",
          "text": [
            ">I love my india \n",
            "I love my india \n",
            ">RCB\n",
            "RCB\n",
            ">DONE\n",
            "DONE\n",
            ">done\n",
            "done\n"
          ]
        }
      ]
    },
    {
      "cell_type": "markdown",
      "source": [
        "##**FINISHING AN ITERATIONS WITH CONTINUE**\n",
        "\n",
        "The contniue statements ends the current iterations and jumps to the top of the loops and statrs the next iterations"
      ],
      "metadata": {
        "id": "YIjO-dh3Dxqs"
      }
    },
    {
      "cell_type": "code",
      "source": [
        "while True:\n",
        "  line = input('>')\n",
        "  if line[0] == \"#\":\n",
        "    continue\n",
        "  if line == \"done\":\n",
        "    break\n",
        "  print(line)\n",
        "print(\"completed\")"
      ],
      "metadata": {
        "colab": {
          "base_uri": "https://localhost:8080/"
        },
        "id": "6NAK_CGJClKW",
        "outputId": "dd2b04a8-8ffc-4bdb-b286-dbbfb55241b5"
      },
      "execution_count": null,
      "outputs": [
        {
          "output_type": "stream",
          "name": "stdout",
          "text": [
            ">#Eeee\n",
            ">FFF\n",
            "FFF\n",
            ">#HHHDGH\n",
            ">done\n",
            "completed\n"
          ]
        }
      ]
    },
    {
      "cell_type": "markdown",
      "source": [
        "##**INDEFINITE LOOPS**\n",
        "\n",
        "\n",
        "*   While loops are called \"indefinite loops\" because they keep going until a logical condition becomes False\n",
        "*   The loops we have seen so far are pretty easy to examine to see if they will terminate or if they will be \"infinte loops\"\n",
        "* Sometimes it is a little harder to be sure if a loop will terminate\n",
        "\n"
      ],
      "metadata": {
        "id": "PYb2dQCfFzli"
      }
    },
    {
      "cell_type": "markdown",
      "source": [
        "##**DEFINITE LOOPS**\n",
        "\n",
        "\n",
        "*   Quite often we have a list of items of the lines in a file - effectiviely a finite set of things.\n",
        "*   We can write a loop to run the loop once for each of the items in a set using python for construct.\n",
        "* These loops are called definite loops because they execute an exact number of times.\n",
        "* We say that \" definite loops iterate through the members of a set.\n",
        "\n"
      ],
      "metadata": {
        "id": "Eq-VhiWRIMyt"
      }
    },
    {
      "cell_type": "code",
      "source": [
        "for i in range(1,10):\n",
        "  print(i**2)\n",
        "print(\"out of the loop\")"
      ],
      "metadata": {
        "colab": {
          "base_uri": "https://localhost:8080/"
        },
        "id": "FdM4mjk7FT3V",
        "outputId": "4869d12e-5171-4bd4-f3f7-e5639cc8e85f"
      },
      "execution_count": null,
      "outputs": [
        {
          "output_type": "stream",
          "name": "stdout",
          "text": [
            "1\n",
            "4\n",
            "9\n",
            "16\n",
            "25\n",
            "36\n",
            "49\n",
            "64\n",
            "81\n",
            "out of the loop\n"
          ]
        }
      ]
    },
    {
      "cell_type": "code",
      "source": [
        "friends = ['Abhishek', 'Anoop', 'Ravi B']\n",
        "for i in friends:\n",
        "  print(\"Happy new year\", i)\n",
        "print('Done doing this')"
      ],
      "metadata": {
        "colab": {
          "base_uri": "https://localhost:8080/"
        },
        "id": "iP1F1b08J3C9",
        "outputId": "245d0c7d-7a6d-466e-ca1d-ca65591a75d8"
      },
      "execution_count": null,
      "outputs": [
        {
          "output_type": "stream",
          "name": "stdout",
          "text": [
            "Happy new year Abhishek\n",
            "Happy new year Anoop\n",
            "Happy new year Ravi B\n",
            "Done doing this\n"
          ]
        }
      ]
    },
    {
      "cell_type": "code",
      "source": [
        "#2:32:34"
      ],
      "metadata": {
        "id": "7UKvOuGOKvTm"
      },
      "execution_count": null,
      "outputs": []
    },
    {
      "cell_type": "code",
      "source": [
        "#write a function to find factorial of a given number\n",
        "\n",
        "def factorial(n):\n",
        "  if n<0:\n",
        "    return \"factorial is not possible for negative number\"\n",
        "  elif n ==0 or n ==1:\n",
        "    return \" factorial is 1\"\n",
        "  else:\n",
        "    result =1\n",
        "    for i in range(2, n+1):\n",
        "      result = result *i\n",
        "    return result\n",
        "\n",
        "inp = int(input(\"Write a number to calculate the factorial:\"))\n",
        "fact = factorial(inp)\n",
        "print(\"the factorial of a given number\",inp,\"is\",fact)"
      ],
      "metadata": {
        "colab": {
          "base_uri": "https://localhost:8080/"
        },
        "id": "jVJZCluVyLc0",
        "outputId": "98326fd3-c3cf-4696-a812-d9eafd43a086"
      },
      "execution_count": 7,
      "outputs": [
        {
          "output_type": "stream",
          "name": "stdout",
          "text": [
            "Write a number to calculate the factorial:5\n",
            "the factorial of a given number 5 is 120\n"
          ]
        }
      ]
    },
    {
      "cell_type": "code",
      "source": [
        "# Write a function that takes two numbers and returns\n",
        "def add(a,b):\n",
        "  return (a+b)\n",
        "\n",
        "print(add(44,4))"
      ],
      "metadata": {
        "colab": {
          "base_uri": "https://localhost:8080/"
        },
        "id": "Nb-Buj5P0Vq6",
        "outputId": "5f9d6165-13e3-4976-ba4a-f81e8f8804c2"
      },
      "execution_count": 9,
      "outputs": [
        {
          "output_type": "stream",
          "name": "stdout",
          "text": [
            "48\n"
          ]
        }
      ]
    },
    {
      "cell_type": "code",
      "source": [
        "# Write a function is_even that takes a number\n",
        "def is_even(n):\n",
        "  if n%2==0:\n",
        "    return \"Number is even\"\n",
        "  else:\n",
        "    return \"number is odd\"\n",
        "\n",
        "inp = int(input(\"write a number to check whwteher it is even or odd:\"))\n",
        "chec = is_even(inp)\n",
        "print(chec)\n"
      ],
      "metadata": {
        "colab": {
          "base_uri": "https://localhost:8080/"
        },
        "id": "lTScFVb83uX7",
        "outputId": "e9497f6f-1ba7-485b-ba41-44827c68b794"
      },
      "execution_count": 11,
      "outputs": [
        {
          "output_type": "stream",
          "name": "stdout",
          "text": [
            "write a number to check whwteher it is even or odd:7\n",
            "number is odd\n"
          ]
        }
      ]
    },
    {
      "cell_type": "code",
      "source": [
        "#Write a function is_prime(n) that checks if a given number n is a prime number.\n",
        "\n",
        "def is_prime(n):\n",
        "  if n == 1:\n",
        "    return False\n",
        "  for i in range(2,n):\n",
        "    if n%i ==0:\n",
        "      return False\n",
        "    else:\n",
        "      return True\n",
        "inp = int(input(\"Write a number to check whether it is prime or not:\"))\n",
        "chec= is_prime(inp)\n",
        "print(chec)"
      ],
      "metadata": {
        "colab": {
          "base_uri": "https://localhost:8080/"
        },
        "id": "YSsO2NkW5iSC",
        "outputId": "c4e39e39-2834-48b7-9207-3f83f1aaf573"
      },
      "execution_count": 15,
      "outputs": [
        {
          "output_type": "stream",
          "name": "stdout",
          "text": [
            "Write a number to check whether it is prime or not:3\n",
            "True\n"
          ]
        }
      ]
    },
    {
      "cell_type": "code",
      "source": [
        "def factorial(n):\n",
        "  if n<0:\n",
        "    return \"Factorial of negative number is not defined\"\n",
        "  if n ==0 or n ==1:\n",
        "    return 1\n",
        "  else:\n",
        "    return n*factorial(n-1)\n",
        "inp = int(input(\"enter num to compute factorial:\"))\n",
        "print(factorial(inp))"
      ],
      "metadata": {
        "colab": {
          "base_uri": "https://localhost:8080/"
        },
        "id": "7nuo1a0d92i6",
        "outputId": "10126e0f-233d-4466-b2a6-1cb2221ace28"
      },
      "execution_count": 3,
      "outputs": [
        {
          "output_type": "stream",
          "name": "stdout",
          "text": [
            "enter num to compute factorial:-5\n",
            "Factorial of negative number is not defined\n"
          ]
        }
      ]
    },
    {
      "cell_type": "code",
      "source": [
        "def fibannouci(n):\n",
        "  if n ==0:\n",
        "    return 0\n",
        "  if n==1:\n",
        "    return 1\n",
        "  else:\n",
        "    return fibannouci(n-1) + fibannouci(n-2)\n",
        "inp = int(input(\"enter n:\"))\n",
        "print(fibannouci(inp))"
      ],
      "metadata": {
        "colab": {
          "base_uri": "https://localhost:8080/"
        },
        "id": "LUFg-VJOiXOO",
        "outputId": "471eddfe-9cd2-4ab3-a6ce-7b5fc89bb014"
      },
      "execution_count": 19,
      "outputs": [
        {
          "output_type": "stream",
          "name": "stdout",
          "text": [
            "enter n:2\n",
            "1\n"
          ]
        }
      ]
    },
    {
      "cell_type": "code",
      "source": [
        "def fact(n):\n",
        "  if n<0:\n",
        "    return \"factorial of negative number is not defined\"\n",
        "  elif n==0 or n==1:\n",
        "      return 1\n",
        "  else:\n",
        "    result =1\n",
        "    for i in range(2,n+1):\n",
        "      result = result *i\n",
        "      print(result)\n",
        "\n"
      ],
      "metadata": {
        "id": "6aWWtQmIpvyX"
      },
      "execution_count": 16,
      "outputs": []
    },
    {
      "cell_type": "code",
      "source": [
        "def factorial(n):\n",
        "  if n<0:\n",
        "    return \"factorial is not defined for negative number\"\n",
        "  elif n==0 or n==1:\n",
        "    return 1\n",
        "  else:\n",
        "    return n*factorial(n-1)\n",
        "inp = int(input(\"Enter number to compute factorial:\"))\n",
        "print(factorial(inp))"
      ],
      "metadata": {
        "colab": {
          "base_uri": "https://localhost:8080/"
        },
        "id": "0bJIOiqdsxNU",
        "outputId": "57281a18-6d74-44f9-a382-91c4a799a905"
      },
      "execution_count": 23,
      "outputs": [
        {
          "output_type": "stream",
          "name": "stdout",
          "text": [
            "Enter number to compute factorial:122\n",
            "98750442008336013624115798714482080125644041369783596059584700502676714572050143649033796427745042294071023050579626404736512939596842694895821378210620013388054747214795243520000000000000000000000000000\n"
          ]
        }
      ]
    },
    {
      "cell_type": "code",
      "source": [
        "def fibn(n):\n",
        "  if n == 0:\n",
        "    return 0\n",
        "  if n ==1:\n",
        "    return 1\n",
        "  else:\n",
        "    return fibn(n-1)+fibn(n-2)\n",
        "\n"
      ],
      "metadata": {
        "id": "uEJ6-_Spwy4J"
      },
      "execution_count": null,
      "outputs": []
    },
    {
      "cell_type": "code",
      "source": [],
      "metadata": {
        "id": "vZHKVNv-1io2"
      },
      "execution_count": null,
      "outputs": []
    }
  ]
}