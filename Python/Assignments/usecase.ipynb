{
  "nbformat": 4,
  "nbformat_minor": 0,
  "metadata": {
    "colab": {
      "provenance": []
    },
    "kernelspec": {
      "name": "python3",
      "display_name": "Python 3"
    },
    "language_info": {
      "name": "python"
    }
  },
  "cells": [
    {
      "cell_type": "code",
      "execution_count": 4,
      "metadata": {
        "colab": {
          "base_uri": "https://localhost:8080/"
        },
        "id": "6mfSHL9gLG0m",
        "outputId": "a50cf0e5-527f-451b-976f-68e66208684f"
      },
      "outputs": [
        {
          "output_type": "stream",
          "name": "stdout",
          "text": [
            "Enter initial balance: 20000\n",
            "Set your ATM PIN: 2580\n",
            "Enter the amount to withdraw: 1000\n",
            "Enter your PIN: 2580\n",
            "Money withdrawn: 1000.0. Balance after withdrawal: 19000.0.\n",
            "Enter the amount to deposit: 2000\n",
            "Enter your PIN: 2580\n",
            "Money deposited: 2000.0. Balance after deposit: 21000.0.\n"
          ]
        }
      ],
      "source": [
        "class Bank:\n",
        "    def __init__(self, pin, initial_balance=20000):\n",
        "        self.__pin = pin\n",
        "        self.balance = initial_balance  # Define the balance attribute\n",
        "\n",
        "    def __verify_pin(self, pin):\n",
        "        return self.__pin == pin\n",
        "\n",
        "    def withdraw(self, amount, pin):\n",
        "        if self.__verify_pin(pin):\n",
        "            if amount > self.balance:\n",
        "                print(\"Insufficient funds\")\n",
        "            else:\n",
        "                self.balance -= amount\n",
        "                print(f\"Money withdrawn: {amount}. Balance after withdrawal: {self.balance}.\")\n",
        "        else:\n",
        "            print(\"Invalid PIN. Try again\")\n",
        "\n",
        "    def deposit(self, amount, pin):\n",
        "        if self.__verify_pin(pin):\n",
        "            self.balance += amount\n",
        "            print(f\"Money deposited: {amount}. Balance after deposit: {self.balance}.\")\n",
        "        else:\n",
        "            print(\"Invalid PIN. Try again\")\n",
        "\n",
        "# Example usage\n",
        "initial_balance = float(input(\"Enter initial balance: \"))\n",
        "pin = int(input(\"Set your ATM PIN: \"))\n",
        "my_bank = Bank(pin=pin, initial_balance=initial_balance)\n",
        "\n",
        "amount = float(input(\"Enter the amount to withdraw: \"))\n",
        "entered_pin = int(input(\"Enter your PIN: \"))\n",
        "my_bank.withdraw(amount, entered_pin)\n",
        "\n",
        "amount = float(input(\"Enter the amount to deposit: \"))\n",
        "entered_pin = int(input(\"Enter your PIN: \"))\n",
        "my_bank.deposit(amount, entered_pin)\n",
        "\n"
      ]
    },
    {
      "cell_type": "code",
      "source": [],
      "metadata": {
        "id": "_a4RvmzTSbow"
      },
      "execution_count": null,
      "outputs": []
    }
  ]
}