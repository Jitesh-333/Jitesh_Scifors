{
  "nbformat": 4,
  "nbformat_minor": 0,
  "metadata": {
    "colab": {
      "provenance": []
    },
    "kernelspec": {
      "name": "python3",
      "display_name": "Python 3"
    },
    "language_info": {
      "name": "python"
    }
  },
  "cells": [
    {
      "cell_type": "markdown",
      "source": [
        "1.Explain Encapsulation with example and write python code."
      ],
      "metadata": {
        "id": "ykDB5YFH5p0e"
      }
    },
    {
      "cell_type": "markdown",
      "source": [
        "ANS) Encapsulation is defined as **bundling of attributes** and **methods** that operates on that attributes.\n",
        "\n",
        "\n",
        "*   It is used to restrict access to methods and attributes\n",
        "*   Combines data and methods into a single unit.\n",
        "*   Prefix with a single underscore '_' for internal use within the class and subclass\n",
        "\n",
        "**Example** of encapsulation is Capsules as it binds all its medicinal material with it\n",
        "\n"
      ],
      "metadata": {
        "id": "C2UkdPVr7jxC"
      }
    },
    {
      "cell_type": "code",
      "execution_count": 3,
      "metadata": {
        "colab": {
          "base_uri": "https://localhost:8080/"
        },
        "id": "Da5_7H_Q3m7j",
        "outputId": "5e2a7087-a1d4-424d-d8c6-9989f27a29a2"
      },
      "outputs": [
        {
          "output_type": "stream",
          "name": "stdout",
          "text": [
            "Virat\n",
            "21\n"
          ]
        }
      ],
      "source": [
        "# Example of Encapsulation with code\n",
        "class Student:\n",
        "  def __init__(self,name,age):\n",
        "    self.name = name      #public attribute\n",
        "    self._age = age       #protected attribute\n",
        "\n",
        "  def g_age(self):\n",
        "    return self._age\n",
        "\n",
        "  def s_age(self,age):\n",
        "    self._age = age\n",
        "\n",
        "students = Student(\"Virat\", 22)\n",
        "print(students.name)  # accessing public attribute\n",
        "\n",
        "students.s_age(21)    # Using method to set protected attributes\n",
        "\n",
        "print(students._age)"
      ]
    },
    {
      "cell_type": "markdown",
      "source": [
        "2.Explain Polymorphism with example and write python code.\n",
        "\n",
        "\n",
        "ANS) It is defined as programmimg that allows objects of **different classes to be treated as a object of common superclass.**\n",
        "\n",
        "It helps in\n",
        "\n",
        "* Code reusability\n",
        "* simplifies maintenance of code and Improves readability.\n",
        "\n",
        "Example A person is father, a brother, a husband, and a citizen of India at the same time.:\n",
        "\n"
      ],
      "metadata": {
        "id": "gt61WaQnBzcB"
      }
    },
    {
      "cell_type": "code",
      "source": [
        "# Example with code:\n",
        "class Shape:\n",
        "    def area(self):\n",
        "        pass\n",
        "\n",
        "class Circle(Shape):\n",
        "    def __init__(self, radius):\n",
        "        self.radius = radius\n",
        "\n",
        "    def area(self):\n",
        "        return 3.14 * self.radius * self.radius\n",
        "\n",
        "class Square(Shape):\n",
        "    def __init__(self, side):\n",
        "        self.side = side\n",
        "\n",
        "    def area(self):\n",
        "        return self.side * self.side\n",
        "\n",
        "shapes = [Circle(5), Square(4)]\n",
        "for shape in shapes:\n",
        "    print(shape.area())\n",
        "\n"
      ],
      "metadata": {
        "colab": {
          "base_uri": "https://localhost:8080/"
        },
        "id": "TMOlwsX6A4l6",
        "outputId": "3a24e1be-0a78-483f-d577-bde04979912f"
      },
      "execution_count": 8,
      "outputs": [
        {
          "output_type": "stream",
          "name": "stdout",
          "text": [
            "78.5\n",
            "16\n"
          ]
        }
      ]
    },
    {
      "cell_type": "markdown",
      "source": [
        "3.Explain Single Level Inheritance with python code.\n",
        "\n",
        "Ans) Single Level Inheritance is  defined as **where a class (derived class) inherits from another class (base class).**\n",
        "\n",
        "* **Base Class (Parent Class):** The class whose properties and methods are inherited.\n",
        "\n",
        "* **Derived Class (Child Class):** The class that inherits properties and methods from the base class"
      ],
      "metadata": {
        "id": "TUKq7sTYFGPE"
      }
    },
    {
      "cell_type": "code",
      "source": [
        "# Example with code:\n",
        "# Base class\n",
        "class Animal:\n",
        "    def __init__(self, name):\n",
        "        self.name = name\n",
        "\n",
        "    def speak(self):\n",
        "        return self.name, \"speaks\"\n",
        "\n",
        "# Derived class\n",
        "class Dog(Animal):\n",
        "    def __init__(self, name, breed):\n",
        "        super().__init__(name)  # Initialize the base class constructor\n",
        "        self.breed = breed\n",
        "\n",
        "    def speak(self):\n",
        "        return self.name,\"barks.\"\n",
        "\n",
        "# Create an instance of the base class\n",
        "animal = Animal(\"AAAnimal\")\n",
        "print(animal.speak())\n",
        "\n",
        "# Create an instance of the derived class\n",
        "dog = Dog(\"Kitto\", \"Germanshepherd\")\n",
        "print(dog.speak())\n",
        "print(dog.name)\n",
        "print(dog.breed)\n"
      ],
      "metadata": {
        "colab": {
          "base_uri": "https://localhost:8080/"
        },
        "id": "MyMYYE2ZEkuX",
        "outputId": "e78f5ea7-b45f-44df-a6fe-bcf73064ae81"
      },
      "execution_count": 10,
      "outputs": [
        {
          "output_type": "stream",
          "name": "stdout",
          "text": [
            "('AAAnimal', 'speaks')\n",
            "('Kitto', 'barks.')\n",
            "Kitto\n",
            "Germanshepherd\n"
          ]
        }
      ]
    },
    {
      "cell_type": "markdown",
      "source": [
        "4. Explain Multiple inheritance with python code.\n",
        "\n",
        "Ans) Multiple inheritance is defined as **where a class can inherit attributes and methods from more than one parent class**.\n",
        "\n",
        "* **Method Resolution Order (MRO):** To determine the method resolution order, ensuring a consistent order for searching methods and attributes.\n",
        "\n",
        "\n",
        "* **Use Case:** It is useful when a class needs to combine behaviors from multiple sources.\n"
      ],
      "metadata": {
        "id": "56qDW2cpG0N6"
      }
    },
    {
      "cell_type": "code",
      "source": [
        "# Example with codes\n",
        "\n",
        "# Base class 1\n",
        "class Animal:\n",
        "    def eat(self):\n",
        "        print(\"Eating\")\n",
        "\n",
        "# Base class 2\n",
        "class Bird:\n",
        "    def fly(self):\n",
        "        print(\"Flying\")\n",
        "\n",
        "# Derived class inheriting from both Animal and Bird\n",
        "class FlyingFish(Animal, Bird):\n",
        "    def swim(self):\n",
        "        print(\"Swimming\")\n",
        "\n",
        "# Creating an object of the derived class\n",
        "ff = FlyingFish()\n",
        "\n",
        "# Calling methods from both base classes and the derived class\n",
        "ff.eat()\n",
        "ff.fly()\n",
        "ff.swim()\n"
      ],
      "metadata": {
        "colab": {
          "base_uri": "https://localhost:8080/"
        },
        "id": "J9R9pvh6GqWR",
        "outputId": "475c3d21-1706-455d-fbc9-9731fce313f9"
      },
      "execution_count": 11,
      "outputs": [
        {
          "output_type": "stream",
          "name": "stdout",
          "text": [
            "Eating\n",
            "Flying\n",
            "Swimming\n"
          ]
        }
      ]
    },
    {
      "cell_type": "markdown",
      "source": [
        "5.Explain Muti-level inheritance with python code\n",
        "\n",
        "ANS) Multi-level inheritance is a type of inheritance **where a class is derived from another derived class, forming a chain of classes.**\n",
        "\n",
        "* In multi-level inheritance, the child class (derived class) inherits from a parent class, and another class inherits from this child class.\n",
        "* Each derived class inherits all properties and behaviors of its parent class.\n",
        "."
      ],
      "metadata": {
        "id": "2AMDVkQMIKhZ"
      }
    },
    {
      "cell_type": "code",
      "source": [
        "# Example with code\n",
        "\n",
        "# Base class\n",
        "class Animal:\n",
        "    def __init__(self, name):\n",
        "        self.name = name\n",
        "\n",
        "    def speak(self):\n",
        "        return self.name, \"makes a sound.\"\n",
        "\n",
        "# Intermediate derived class\n",
        "class Mammal(Animal):\n",
        "    def __init__(self, name, fur_color):\n",
        "        super().__init__(name)\n",
        "        self.fur_color = fur_color\n",
        "\n",
        "    def describe(self):\n",
        "        return f\"{self.name} has {self.fur_color} fur.\"\n",
        "\n",
        "# Final derived class\n",
        "class Dog(Mammal):\n",
        "    def __init__(self, name, fur_color, breed):\n",
        "        super().__init__(name, fur_color)\n",
        "        self.breed = breed\n",
        "\n",
        "    def bark(self):\n",
        "        return f\"{self.name} barks.\"\n",
        "\n",
        "# Creating an instance of the final derived class\n",
        "my_dog = Dog(\"Buddy\", \"brown\", \"Labrador\")\n",
        "\n",
        "# Accessing methods from each level of inheritance\n",
        "print(my_dog.speak())    # Inherited from Animal class\n",
        "print(my_dog.describe()) # Inherited from Mammal class\n",
        "print(my_dog.bark())     # Defined in Dog class\n"
      ],
      "metadata": {
        "colab": {
          "base_uri": "https://localhost:8080/"
        },
        "id": "UD5tbq2-IILZ",
        "outputId": "9c244fa9-4494-4ceb-cbee-03dd95d73e90"
      },
      "execution_count": 12,
      "outputs": [
        {
          "output_type": "stream",
          "name": "stdout",
          "text": [
            "('Buddy', 'makes a sound.')\n",
            "Buddy has brown fur.\n",
            "Buddy barks.\n"
          ]
        }
      ]
    },
    {
      "cell_type": "markdown",
      "source": [
        "6. What do you mean by conditional statements. Explain with python code\n",
        "\n",
        "ANS)\n",
        "* **Conditional statements** are used to perform different actions based on different conditions.\n",
        "* **if statement**: Executes a block of code if the condition is true.\n",
        "* **else statement**: Executes a block of code if the condition in the if statement is false.\n",
        "* **elif statement**: Short for \"else if,\" checks another condition if the previous conditions are false."
      ],
      "metadata": {
        "id": "PMKWBI7zJZ2b"
      }
    },
    {
      "cell_type": "code",
      "source": [
        "# code\n",
        "x = 10\n",
        "\n",
        "# If statement\n",
        "if x > 5:\n",
        "    print(\"x is greater than 5\")\n",
        "\n",
        "# Elif statement\n",
        "elif x == 5:\n",
        "    print(\"x is equal to 5\")\n",
        "\n",
        "# Else statement\n",
        "else:\n",
        "    print(\"x is less than 5\")\n"
      ],
      "metadata": {
        "colab": {
          "base_uri": "https://localhost:8080/"
        },
        "id": "Qh3FbkvOKAxm",
        "outputId": "c67c9ca7-3327-48c7-89eb-7ae33a1ebc40"
      },
      "execution_count": 13,
      "outputs": [
        {
          "output_type": "stream",
          "name": "stdout",
          "text": [
            "x is greater than 5\n"
          ]
        }
      ]
    },
    {
      "cell_type": "markdown",
      "source": [
        "7. What do you mean by decision making statements. Explain with python code.\n",
        "\n",
        "ANS)Key Points of Decision-Making Statements:\n",
        "\n",
        "* **if statement:** Tests a condition, and if it evaluates to True, executes a block of code.\n",
        "\n",
        "* **elif statement:** Short for \"else if,\" it tests another condition if the previous if or elif statement's condition was False.\n",
        "\n",
        "* **else statement:** Executes a block of code if none of the preceding if or elif conditions are True."
      ],
      "metadata": {
        "id": "u-y9WVGhKIth"
      }
    },
    {
      "cell_type": "code",
      "source": [
        "# code\n",
        "number = 5\n",
        "\n",
        "if number > 0:\n",
        "    print(\"The number is positive.\")\n",
        "elif number == 0:\n",
        "    print(\"The number is zero.\")\n",
        "else:\n",
        "    print(\"The number is negative.\")\n"
      ],
      "metadata": {
        "colab": {
          "base_uri": "https://localhost:8080/"
        },
        "id": "PyfkZpP3KFNA",
        "outputId": "2986f8c4-026c-45d8-b354-d9d66ff0c41b"
      },
      "execution_count": 14,
      "outputs": [
        {
          "output_type": "stream",
          "name": "stdout",
          "text": [
            "The number is positive.\n"
          ]
        }
      ]
    },
    {
      "cell_type": "code",
      "source": [
        "#8 write a code in pyton for factorial:\n",
        "def factorial(n):\n",
        "  if n<0:\n",
        "    return \"factorial is not defined for negative number\"\n",
        "  elif n==0 or n==1:\n",
        "    return 1\n",
        "  else:\n",
        "    return n*factorial(n-1)\n",
        "inp = int(input(\"Enter number to compute factorial:\"))\n",
        "print(factorial(inp))"
      ],
      "metadata": {
        "colab": {
          "base_uri": "https://localhost:8080/"
        },
        "id": "Teh5g1nqKwB0",
        "outputId": "57d9dfef-c0e0-4a1e-b4e4-25f2d8fcd146"
      },
      "execution_count": 15,
      "outputs": [
        {
          "output_type": "stream",
          "name": "stdout",
          "text": [
            "Enter number to compute factorial:5\n",
            "120\n"
          ]
        }
      ]
    },
    {
      "cell_type": "markdown",
      "source": [
        "9.What do you understand by Functions? Explain with python code.\n",
        "\n",
        "ANS) Function is a **reusable block of code that performs a specific task. Functions help in organizing code, making it more readable, modular, and easier to maintain**"
      ],
      "metadata": {
        "id": "v6xtjiEBLMec"
      }
    },
    {
      "cell_type": "code",
      "source": [
        "# Write a function is_even that takes a number\n",
        "def is_even(n):\n",
        "  if n%2==0:\n",
        "    return \"Number is even\"\n",
        "  else:\n",
        "    return \"number is odd\"\n",
        "\n",
        "inp = int(input(\"write a number to check whwteher it is even or odd:\"))\n",
        "chec = is_even(inp)\n",
        "print(chec)\n"
      ],
      "metadata": {
        "colab": {
          "base_uri": "https://localhost:8080/"
        },
        "id": "yUe-QNWzLkiW",
        "outputId": "422f135e-e201-4e07-c823-d943d585fb22"
      },
      "execution_count": 18,
      "outputs": [
        {
          "output_type": "stream",
          "name": "stdout",
          "text": [
            "write a number to check whwteher it is even or odd:6\n",
            "Number is even\n"
          ]
        }
      ]
    },
    {
      "cell_type": "markdown",
      "source": [
        "10) How many pillars of Oops we have in Python?\n",
        "\n",
        "ANS) There are four main pillars of object-oriented programming (OOP):\n",
        "\n",
        "* **Encapsulation:** The **bundling of data and methods that operate on the data into a single unit (class)**\n",
        "\n",
        "* **Abstraction:** The concept of hiding complex implementation details and showing only the essential features of the object. It allows programmers to focus on what an object does rather than how it achieves it.\n",
        "\n",
        "* **Inheritance:** The mechanism where a class (subclass or derived class) inherits properties and behaviors (methods) from another class (superclass or base class).\n",
        "\n",
        "* **Polymorphism:** It allows objects of different classes to be treated as objects of a common superclass, providing a way to use a single interface for different data types"
      ],
      "metadata": {
        "id": "R5WLqGEOMBoV"
      }
    },
    {
      "cell_type": "code",
      "source": [],
      "metadata": {
        "id": "_oAkWzqQLqzU"
      },
      "execution_count": null,
      "outputs": []
    }
  ]
}