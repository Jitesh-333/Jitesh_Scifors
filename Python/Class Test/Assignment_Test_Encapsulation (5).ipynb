{
  "nbformat": 4,
  "nbformat_minor": 0,
  "metadata": {
    "colab": {
      "provenance": []
    },
    "kernelspec": {
      "name": "python3",
      "display_name": "Python 3"
    },
    "language_info": {
      "name": "python"
    }
  },
  "cells": [
    {
      "cell_type": "markdown",
      "source": [
        "###Write a documentation in python which have encapsulation basics, real life example, and implementation?"
      ],
      "metadata": {
        "id": "nwg8fwYzIfs0"
      }
    },
    {
      "cell_type": "markdown",
      "source": [
        "*  **Encapsulation is the concept of bundling data (attributes) and methods (functions) into single unit called a class**.\n",
        "\n",
        "* **In a Simple language it is defined as Hiding implementation details of an object from the user of the class**\n",
        "\n",
        "Benefits of Encapsulation\n",
        "* Controlled Access\n",
        "* Information hiding\n",
        "* Reusability\n",
        "* Abstraction\n",
        "\n",
        "**Public Attributes and methods**\n",
        "* Accessible from outside the class without any restrictions. By default all methods and attributes are public.\n",
        "\n",
        "**Protected Attributes and Methods**\n",
        "* Attributes and methods that are **used only within the class and its subclasses**.\n",
        " Protected attribute or method is denoted by prefixing it with **single underscore**\n",
        " as: **_protected**.\n",
        "\n",
        "**Private Attributes and Methods\n",
        "* Attributes and methods that are used only within the class. It is denoted by prefixing it with a **double underscore** as: **__private**."
      ],
      "metadata": {
        "id": "DUGzhhiOJDCp"
      }
    },
    {
      "cell_type": "code",
      "source": [
        "# Example to understand the basic of encapsulation:\n",
        "class Student:\n",
        "    def __init__(self,name,age,gender):\n",
        "        self.name = name       #public attribute\n",
        "        self._age = age        #protected attribute\n",
        "        self.__gender = gender #private attribute\n",
        "\n",
        "    def stud_name(self):       #public method\n",
        "        return self.name\n",
        "\n",
        "    def stud_age(self):        #Protected method\n",
        "        return self._age\n",
        "\n",
        "    def stud_gender(self):     #private method\n",
        "        return self.__gender\n",
        "\n",
        "\n",
        "s1 = Student(\"Virat\", 28 , \"M\")\n",
        "\n",
        "print(s1.name)          # Accessing public attribute\n",
        "print(s1._age)          # Accessing protected attribute\n",
        "print(s1.stud_name())   # Calling public method\n",
        "print(s1.stud_age())    # Calling protected method\n",
        "print(s1.stud_gender()) # Calling private method\n",
        "\n",
        "# Attempting to access private attribute directly (will raise AttributeError)\n",
        "try:\n",
        "    print(s1.__gender)\n",
        "except AttributeError as e:\n",
        "    print(e)  # Output the error message\n",
        "\n",
        "\n"
      ],
      "metadata": {
        "colab": {
          "base_uri": "https://localhost:8080/"
        },
        "id": "cRloy3qcIzjN",
        "outputId": "e14579b4-0757-452f-8277-3e5992c37a36"
      },
      "execution_count": null,
      "outputs": [
        {
          "output_type": "stream",
          "name": "stdout",
          "text": [
            "Virat\n",
            "28\n",
            "Virat\n",
            "28\n",
            "M\n",
            "'Student' object has no attribute '__gender'\n"
          ]
        }
      ]
    },
    {
      "cell_type": "code",
      "source": [
        "# Example 2\n",
        "\n",
        "class Employee:\n",
        "\n",
        "    def __init__(self,name,age,salary):\n",
        "        self.name = name              #public attribute\n",
        "        self._age = age               #protected attribute\n",
        "        self.__salary = salary        #private attribute\n",
        "\n",
        "\n",
        "    def emp_name(self):               #public method\n",
        "        return self.name\n",
        "\n",
        "    def emp_age(self):                #protected method\n",
        "        return self._age\n",
        "\n",
        "    def emp_salary(self):             #private method\n",
        "        return self.__salary\n",
        "\n",
        "    def set_salary(self, new_salary): #public method to change private attribute\n",
        "        self.__salary = new_salary\n",
        "\n",
        "\n",
        "e = Employee(\"Rohit\",34,70000)\n",
        "\n",
        "# Accessing attribute directly\n",
        "print(e.name)\n",
        "print(e._age)\n",
        "# Attempting to access private attribute directly (will raise AttributeError)\n",
        "try:\n",
        "    print(e.__salary)\n",
        "\n",
        "except AttributeError as a:\n",
        "    print(a)\n",
        "\n",
        "# Accessing attributes via methods\n",
        "print(e.emp_name())\n",
        "print(e.emp_age())\n",
        "print(e.emp_salary())\n",
        "\n",
        "# Private method after changing the attribute\n",
        "e.set_salary(80000)\n",
        "print(e.emp_salary())\n",
        "\n"
      ],
      "metadata": {
        "colab": {
          "base_uri": "https://localhost:8080/"
        },
        "id": "GdITRiC5a8Bd",
        "outputId": "31447d5c-9057-4b35-c1f8-24c3b8399273"
      },
      "execution_count": null,
      "outputs": [
        {
          "output_type": "stream",
          "name": "stdout",
          "text": [
            "Rohit\n",
            "34\n",
            "'Employee' object has no attribute '__salary'\n",
            "Rohit\n",
            "34\n",
            "70000\n",
            "80000\n"
          ]
        }
      ]
    },
    {
      "cell_type": "code",
      "source": [
        "#Real life example of encapsulation is Medicalreport of a particular patient. Sensitive information of a patient should be protected in control manner\n",
        "\n",
        "\n",
        "class Medicalreport:\n",
        "\n",
        "    def __init__(self, name, age, medical_history):\n",
        "        self.name = name                              #public attribute\n",
        "        self._age = age                               #protected attribute\n",
        "        self.__medical_history = medical_history      #private attribute\n",
        "\n",
        "\n",
        "    def patient_name(self):                           #public method\n",
        "        return self.name\n",
        "\n",
        "    def patient_age(self):                            #protected method\n",
        "        return self._age\n",
        "\n",
        "    def patient_history(self):                        #private method\n",
        "        return self.__medical_history\n",
        "\n",
        "    def update_disease(self, new_disease):\n",
        "        self.__medical_history = new_disease\n",
        "\n",
        "\n",
        "pat = Medicalreport(\"Sunil\", 55,\"Hypertension, Allergies\")\n",
        "\n",
        "# Accessing attributes directly\n",
        "print(pat.name)\n",
        "print(pat._age)\n",
        "\n",
        "# Accessing attributes via methods\n",
        "print(pat.patient_name())\n",
        "print(pat.patient_age())\n",
        "print(pat.patient_history())\n",
        "\n",
        "# After medical report it is found that patient is now suffering from Diabitis, So we need to update the patient record of mrdical history\n",
        "\n",
        "pat.update_disease(\"Hypertension,Allergies, Diabitis\")\n",
        "print(pat.patient_history())\n",
        "\n",
        "\n",
        "\n"
      ],
      "metadata": {
        "colab": {
          "base_uri": "https://localhost:8080/"
        },
        "id": "Bl-D3jXFjKXY",
        "outputId": "03f26b60-516e-4d35-84dd-acc16ce8040e"
      },
      "execution_count": null,
      "outputs": [
        {
          "output_type": "stream",
          "name": "stdout",
          "text": [
            "Sunil\n",
            "55\n",
            "Sunil\n",
            "55\n",
            "Hypertension, Allergies\n",
            "Hypertension,Allergies, Diabitis\n"
          ]
        }
      ]
    },
    {
      "cell_type": "code",
      "source": [
        "class Bank:\n",
        "\n",
        "    def __init__(self,account_num = 1234567890, balance = 0):\n",
        "        self.account_holder = \"Jitesh Kumar Srivastava\"\n",
        "        self._account_num = account_num\n",
        "        self.__balance = balance                       #private attribute\n",
        "\n",
        "    def deposit(self,amount):\n",
        "        if amount > 0:\n",
        "            self.__balance += amount\n",
        "            print(f\"The amount credited is {amount} and Total balance is {self.__balance} \")\n",
        "        else:\n",
        "            print(\"Amount should be Positive\")\n",
        "\n",
        "    def withdraw(self,amount):\n",
        "        if amount > self.__balance:\n",
        "            print(\"Insufficient balance\")\n",
        "        elif 0<amount <= self.__balance:\n",
        "            self.__balance -= amount\n",
        "            print(f\"The debited amount is {amount} and Balance left is {self.__balance}\")\n",
        "        else:\n",
        "            print(\"Please enter positive amount\")\n",
        "\n",
        "    def get_balance(self):\n",
        "        return self.__balance\n",
        "\n",
        "\n",
        "    def account_num(self):\n",
        "        return self._account_num\n",
        "\n",
        "\n",
        "a1 = Bank()\n",
        "\n",
        "# Taking the input from user\n",
        "print(f\"Account Holder: {a1.account_holder}\")\n",
        "print(f\"Account Number: {a1._account_num}\")\n",
        "\n",
        "# Taking input for deposit\n",
        "deposit_amount = float(input(\"Enter amount to deposit: \"))\n",
        "a1.deposit(deposit_amount)\n",
        "\n",
        "# Checking the balance after deposit\n",
        "print(f\"Balance after deposit: {a1.get_balance()}\")\n",
        "\n",
        "# Taking input for withdrawal\n",
        "withdraw_amount = float(input(\"Enter amount to withdraw: \"))\n",
        "a1.withdraw(withdraw_amount)\n",
        "\n",
        "# Checking the balance after withdrawal\n",
        "print(f\"Balance after withdrawal: {a1.get_balance()}\")\n"
      ],
      "metadata": {
        "id": "k52spRYVp3Mr",
        "colab": {
          "base_uri": "https://localhost:8080/"
        },
        "outputId": "9dfcbe2b-1b11-4f40-c543-205fd8364463"
      },
      "execution_count": 2,
      "outputs": [
        {
          "output_type": "stream",
          "name": "stdout",
          "text": [
            "Account Holder: Jitesh Kumar Srivastava\n",
            "Account Number: 1234567890\n",
            "Enter amount to deposit: 4444\n",
            "The amount credited is 4444.0 and Total balance is 4444.0 \n",
            "Balance after deposit: 4444.0\n",
            "Enter amount to withdraw: 444\n",
            "The debited amount is 444.0 and Balance left is 4000.0\n",
            "Balance after withdrawal: 4000.0\n"
          ]
        }
      ]
    },
    {
      "cell_type": "markdown",
      "source": [
        "**Key Points:**\n",
        "* Encapsulation: The BankAccount class **encapsulates the account balance to protect sensitive financial information**.\n",
        "* **Controlled Access**: Methods are provided to access and update the private attribute in a controlled manner, ensuring that sensitive data is not exposed or altered unintentionally.\n",
        "* **Real-Life Applicability**: This example mirrors real-life scenarios in banking systems where account details and balances need to be protected while allowing transactions to be performed securely."
      ],
      "metadata": {
        "id": "ZV5rI5bHQZSZ"
      }
    },
    {
      "cell_type": "markdown",
      "source": [
        "###SUMMARY\n",
        "* Encapsulation: It is the concept of bundling data and methods that operate on that data within one unit, like a class.\n",
        "* Public Methods and Attributes: Accessible from anywhere, like public information.\n",
        "* Protected Methods and Attributes: Meant for access within the class and its subclasses, handled carefully.\n",
        "* Private Methods and Attributes: Accessible only within the class, like confidential information protected from outside access"
      ],
      "metadata": {
        "id": "lNnD4ghQRnTs"
      }
    },
    {
      "cell_type": "code",
      "source": [],
      "metadata": {
        "id": "uCgk0s_qKsjW"
      },
      "execution_count": null,
      "outputs": []
    }
  ]
}