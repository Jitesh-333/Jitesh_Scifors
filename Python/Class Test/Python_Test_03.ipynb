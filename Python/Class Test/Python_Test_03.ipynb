{
  "nbformat": 4,
  "nbformat_minor": 0,
  "metadata": {
    "colab": {
      "provenance": []
    },
    "kernelspec": {
      "name": "python3",
      "display_name": "Python 3"
    },
    "language_info": {
      "name": "python"
    }
  },
  "cells": [
    {
      "cell_type": "code",
      "source": [
        "# Write a code of Method Overloading\n",
        "# Given below is a basics calculator that perform only four operations Addition,Substraction, Multiplication and Division\n",
        "class Calculator:\n",
        "    def add(self, a=0, b=0):\n",
        "        return a + b\n",
        "\n",
        "    def subtract(self, a=0, b=0):\n",
        "        return a - b\n",
        "\n",
        "    def multiply(self, a=0, b=0):\n",
        "        return a * b\n",
        "\n",
        "    def divide(self, a=0, b=1):\n",
        "        if b == 0:\n",
        "            return \"Division by zero is not allowed\"\n",
        "        return a / b\n",
        "\n",
        "c1 = Calculator()\n",
        "\n",
        "print(c1.add(10, 20))\n",
        "print(c1.add(10))\n",
        "\n",
        "print(c1.subtract(30, 10))\n",
        "print(c1.subtract(30))\n",
        "\n",
        "print(c1.multiply(2, 3))\n",
        "print(c1.multiply(2))\n",
        "\n",
        "print(c1.divide(20, 5))\n",
        "print(c1.divide(20))\n",
        "print(c1.divide(20, 0))\n",
        "\n"
      ],
      "metadata": {
        "colab": {
          "base_uri": "https://localhost:8080/"
        },
        "id": "766UCS0lLEZP",
        "outputId": "fe6b026a-9481-4060-f672-2dd85a3c57ec"
      },
      "execution_count": 7,
      "outputs": [
        {
          "output_type": "stream",
          "name": "stdout",
          "text": [
            "30\n",
            "10\n",
            "20\n",
            "30\n",
            "6\n",
            "0\n",
            "4.0\n",
            "20.0\n",
            "Division by zero is not allowed\n"
          ]
        }
      ]
    },
    {
      "cell_type": "code",
      "source": [
        "#Write a code of Method Overriding .\n",
        "\n",
        "class Vehicle:\n",
        "    def max_speed(self):\n",
        "        return \"Speed is not defined for a pseudo vehicle\"\n",
        "\n",
        "class Car(Vehicle):\n",
        "    def __init__(self, speed):\n",
        "        self.speed = speed\n",
        "\n",
        "    def max_speed(self):\n",
        "        return f\"The car's maximum speed is {self.speed} km/h\"\n",
        "\n",
        "class Bike(Vehicle):\n",
        "    def __init__(self, speed):\n",
        "        self.speed = speed\n",
        "\n",
        "    def max_speed(self):\n",
        "        return f\"The bike's maximum speed is {self.speed} km/h\"\n",
        "\n",
        "\n",
        "# This is a pseudo vehicle.\n",
        "pseudo_vehicle = Vehicle()\n",
        "\n",
        "# Creating a Car instance with a specific maximum speed\n",
        "car = Car(170)\n",
        "\n",
        "# Creating a Bike instance with a specific maximum speed\n",
        "bike = Bike(75)\n",
        "\n",
        "# Calling the methods\n",
        "print(pseudo_vehicle.max_speed())\n",
        "print(car.max_speed())\n",
        "print(bike.max_speed())\n"
      ],
      "metadata": {
        "colab": {
          "base_uri": "https://localhost:8080/"
        },
        "id": "j3XKrvliT3rf",
        "outputId": "0c01eefd-9cb5-4091-9feb-0a8312ae2476"
      },
      "execution_count": 5,
      "outputs": [
        {
          "output_type": "stream",
          "name": "stdout",
          "text": [
            "Speed is not defined for a pseudo vehicle\n",
            "The car's maximum speed is 170 km/h\n",
            "The bike's maximum speed is 75 km/h\n"
          ]
        }
      ]
    },
    {
      "cell_type": "code",
      "execution_count": 6,
      "metadata": {
        "colab": {
          "base_uri": "https://localhost:8080/"
        },
        "id": "vQPARIVWBJK5",
        "outputId": "e634592f-19a9-4496-a764-e50526a5926f"
      },
      "outputs": [
        {
          "output_type": "stream",
          "name": "stdout",
          "text": [
            "Single Inheritance - Student info: This is a student\n",
            "Hierarchical Inheritance - Teacher info: This is a teacher\n",
            "Multiple Inheritance - WorkingStudent info: This is a working student\n",
            "Multiple Inheritance - WorkingStudent job: Has a job\n",
            "Multilevel Inheritance - PartTimeStudent info: This is a part-time working student\n",
            "Multilevel Inheritance - PartTimeStudent job: Has a job\n",
            "Hybrid Inheritance - NightShiftStudent info: This is a part-time working student\n",
            "Hybrid Inheritance - NightShiftStudent shift: Works night shift\n",
            "Hybrid Inheritance - NightShiftStudent job: Has a job\n"
          ]
        }
      ],
      "source": [
        "# Write a code in python to show all level of inheritance\n",
        "\n",
        "# Base class\n",
        "class Person:\n",
        "    def info(self):\n",
        "        return \"This is a person\"\n",
        "\n",
        "# Single Inheritance\n",
        "# Derived class 1 (Single Inheritance)\n",
        "class Student(Person):\n",
        "    def info(self):\n",
        "        return \"This is a student\"\n",
        "\n",
        "# Hierarchical Inheritance\n",
        "# Derived class 2 (Hierarchical Inheritance)\n",
        "class Teacher(Person):\n",
        "    def info(self):\n",
        "        return \"This is a teacher\"\n",
        "\n",
        "# Multiple Inheritance\n",
        "# Another base class\n",
        "class Worker:\n",
        "    def job(self):\n",
        "        return \"Has a job\"\n",
        "\n",
        "# Derived class (Multiple Inheritance)\n",
        "class WorkingStudent(Student, Worker):\n",
        "    def info(self):\n",
        "        return \"This is a working student\"\n",
        "\n",
        "# Multilevel Inheritance\n",
        "# Derived class (Multilevel Inheritance)\n",
        "class PartTimeStudent(WorkingStudent):\n",
        "    def info(self):\n",
        "        return \"This is a part-time working student\"\n",
        "\n",
        "# Hybrid Inheritance\n",
        "# Derived class (combines Multiple and Multilevel)\n",
        "class NightShiftStudent(PartTimeStudent):\n",
        "    def shift(self):\n",
        "        return \"Works night shift\"\n",
        "\n",
        "# Create objects of each class to demonstrate inheritance\n",
        "\n",
        "# Single Inheritance\n",
        "student = Student()\n",
        "print(\"Single Inheritance - Student info:\", student.info())\n",
        "\n",
        "# Hierarchical Inheritance\n",
        "teacher = Teacher()\n",
        "print(\"Hierarchical Inheritance - Teacher info:\", teacher.info())\n",
        "\n",
        "# Multiple Inheritance\n",
        "working_student = WorkingStudent()\n",
        "print(\"Multiple Inheritance - WorkingStudent info:\", working_student.info())\n",
        "print(\"Multiple Inheritance - WorkingStudent job:\", working_student.job())\n",
        "\n",
        "# Multilevel Inheritance\n",
        "part_time_student = PartTimeStudent()\n",
        "print(\"Multilevel Inheritance - PartTimeStudent info:\", part_time_student.info())\n",
        "print(\"Multilevel Inheritance - PartTimeStudent job:\", part_time_student.job())\n",
        "\n",
        "# Hybrid Inheritance\n",
        "night_shift_student = NightShiftStudent()\n",
        "print(\"Hybrid Inheritance - NightShiftStudent info:\", night_shift_student.info())\n",
        "print(\"Hybrid Inheritance - NightShiftStudent shift:\", night_shift_student.shift())\n",
        "print(\"Hybrid Inheritance - NightShiftStudent job:\", night_shift_student.job())"
      ]
    },
    {
      "cell_type": "code",
      "source": [],
      "metadata": {
        "id": "7atUYowAWp3r"
      },
      "execution_count": null,
      "outputs": []
    }
  ]
}