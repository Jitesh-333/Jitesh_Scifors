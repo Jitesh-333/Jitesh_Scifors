{
  "nbformat": 4,
  "nbformat_minor": 0,
  "metadata": {
    "colab": {
      "provenance": []
    },
    "kernelspec": {
      "name": "python3",
      "display_name": "Python 3"
    },
    "language_info": {
      "name": "python"
    }
  },
  "cells": [
    {
      "cell_type": "code",
      "execution_count": null,
      "metadata": {
        "colab": {
          "base_uri": "https://localhost:8080/"
        },
        "id": "lSl_tNRf4ukc",
        "outputId": "35549a77-750b-4282-aae4-f134b7f3a860"
      },
      "outputs": [
        {
          "output_type": "stream",
          "name": "stdout",
          "text": [
            "[1, 2, 3, 4, 5, 6, 7, 8, 9]\n",
            "[1, 4, 9, 16, 25, 36, 49, 64, 81]\n"
          ]
        }
      ],
      "source": [
        "# Write a code to square a given number\n",
        "given_number = list(range(1,10))\n",
        "print(given_number)\n",
        "\n",
        "squared_number = []\n",
        "\n",
        "for numbers in given_number:\n",
        "  squared_number.append(numbers**2)\n",
        "\n",
        "print(squared_number)\n"
      ]
    },
    {
      "cell_type": "code",
      "source": [
        "given_number = list(range(10))\n",
        "given_number"
      ],
      "metadata": {
        "colab": {
          "base_uri": "https://localhost:8080/"
        },
        "id": "ekwkysTC8XO7",
        "outputId": "1862472f-c002-4c91-d993-c3cab8aa55db"
      },
      "execution_count": null,
      "outputs": [
        {
          "output_type": "execute_result",
          "data": {
            "text/plain": [
              "[0, 1, 2, 3, 4, 5, 6, 7, 8, 9]"
            ]
          },
          "metadata": {},
          "execution_count": 2
        }
      ]
    },
    {
      "cell_type": "code",
      "source": [
        "list_of_numbers = [1, 2, 4, 6, 11, 14, 17, 20]\n",
        "\n",
        "even_squared_number = []\n",
        "for every_number in list_of_numbers:\n",
        "  if every_number % 2 == 0:\n",
        "   even_squared_number.append(every_number**2)\n",
        "print(even_squared_number)"
      ],
      "metadata": {
        "colab": {
          "base_uri": "https://localhost:8080/"
        },
        "id": "xFwhOCNo82VF",
        "outputId": "8c639e40-d330-4194-aa54-9c00eb63c835"
      },
      "execution_count": null,
      "outputs": [
        {
          "output_type": "stream",
          "name": "stdout",
          "text": [
            "[4, 16, 36, 196, 400]\n"
          ]
        }
      ]
    },
    {
      "cell_type": "code",
      "source": [
        "squared_number =[numbers**2 for numbers in given_number ]\n",
        "print(squared_number)"
      ],
      "metadata": {
        "colab": {
          "base_uri": "https://localhost:8080/"
        },
        "id": "-n8t_DfpBw0s",
        "outputId": "455d270a-56d5-4528-9601-f11f14d2533b"
      },
      "execution_count": null,
      "outputs": [
        {
          "output_type": "stream",
          "name": "stdout",
          "text": [
            "[0, 1, 4, 9, 16, 25, 36, 49, 64, 81]\n"
          ]
        }
      ]
    },
    {
      "cell_type": "code",
      "source": [
        "even_squared_number =[every_number**2 for every_number in list_of_numbers if every_number % 2 == 0]\n",
        "print(even_squared_number)"
      ],
      "metadata": {
        "colab": {
          "base_uri": "https://localhost:8080/"
        },
        "id": "lc4i5JmqJPd9",
        "outputId": "3933b65e-148f-48cb-bd99-03e7012cd956"
      },
      "execution_count": null,
      "outputs": [
        {
          "output_type": "stream",
          "name": "stdout",
          "text": [
            "[4, 16, 36, 196, 400]\n"
          ]
        }
      ]
    },
    {
      "cell_type": "code",
      "source": [
        "odd_numbered_square = [numbers**2 if numbers % 2 !=0 else numbers**3 for numbers in list_of_numbers]\n",
        "print(odd_numbered_square)"
      ],
      "metadata": {
        "colab": {
          "base_uri": "https://localhost:8080/"
        },
        "id": "W5gJLt49K9Cn",
        "outputId": "983269b5-0620-40bb-c608-5a9eb12e4302"
      },
      "execution_count": null,
      "outputs": [
        {
          "output_type": "stream",
          "name": "stdout",
          "text": [
            "[1, 8, 64, 216, 121, 2744, 289, 8000]\n"
          ]
        }
      ]
    },
    {
      "cell_type": "code",
      "source": [
        "user_input = input()\n",
        "\n",
        "if user_input[::1] == user_input[::-1]:\n",
        "  print('Given word is palindrome')\n",
        "else:\n",
        "  print('Given word is not palindrome')"
      ],
      "metadata": {
        "colab": {
          "base_uri": "https://localhost:8080/"
        },
        "id": "I-CxIwAH_Jci",
        "outputId": "82fa5ba8-57a8-4e75-c6a3-d1eb03f1d73b"
      },
      "execution_count": null,
      "outputs": [
        {
          "output_type": "stream",
          "name": "stdout",
          "text": [
            "5555\n",
            "Given word is palindrome\n"
          ]
        }
      ]
    },
    {
      "cell_type": "code",
      "source": [
        "print(given_number)"
      ],
      "metadata": {
        "colab": {
          "base_uri": "https://localhost:8080/"
        },
        "id": "NrG63NUgBsqC",
        "outputId": "d14d2ded-5526-4f62-f30b-5d089a2c29bf"
      },
      "execution_count": null,
      "outputs": [
        {
          "output_type": "stream",
          "name": "stdout",
          "text": [
            "[0, 1, 2, 3, 4, 5, 6, 7, 8, 9]\n"
          ]
        }
      ]
    },
    {
      "cell_type": "code",
      "source": [
        "given_number[4] = 8\n",
        "print(given_number)"
      ],
      "metadata": {
        "colab": {
          "base_uri": "https://localhost:8080/"
        },
        "id": "pcrmjNzqCVL4",
        "outputId": "cc323587-a35e-44f3-f834-929948f665eb"
      },
      "execution_count": null,
      "outputs": [
        {
          "output_type": "stream",
          "name": "stdout",
          "text": [
            "[0, 1, 2, 3, 8, 5, 6, 7, 8, 9]\n"
          ]
        }
      ]
    },
    {
      "cell_type": "code",
      "source": [
        "alphabet_position = list(range(0,27))\n",
        "print(alphabet_position)\n",
        "alphabet =' ,a,b,c,d,e,f,g,h,i,j,k,l,m,n,o,p,q,r,s,t,u,v,w,x,y,z'\n",
        "alphabet_list = alphabet.split(',')\n",
        "print(alphabet_list)\n",
        "dictionary = dict(zip(alphabet_position,alphabet_list))\n",
        "print(dictionary)\n",
        "list_of_keys = list(dictionary.keys())\n",
        "print(list_of_keys)\n",
        "list_of_values = list(dictionary.values())\n",
        "print(list_of_values)\n",
        "index_h = list_of_values.index('h')\n",
        "print(index_h)\n",
        "list_of_keys.index(index_h)\n",
        "\n"
      ],
      "metadata": {
        "colab": {
          "base_uri": "https://localhost:8080/"
        },
        "id": "quCC5abFDFAn",
        "outputId": "e7f817b6-a6ee-45bf-87fa-723f5b86fcda"
      },
      "execution_count": null,
      "outputs": [
        {
          "output_type": "stream",
          "name": "stdout",
          "text": [
            "[0, 1, 2, 3, 4, 5, 6, 7, 8, 9, 10, 11, 12, 13, 14, 15, 16, 17, 18, 19, 20, 21, 22, 23, 24, 25, 26]\n",
            "[' ', 'a', 'b', 'c', 'd', 'e', 'f', 'g', 'h', 'i', 'j', 'k', 'l', 'm', 'n', 'o', 'p', 'q', 'r', 's', 't', 'u', 'v', 'w', 'x', 'y', 'z']\n",
            "{0: ' ', 1: 'a', 2: 'b', 3: 'c', 4: 'd', 5: 'e', 6: 'f', 7: 'g', 8: 'h', 9: 'i', 10: 'j', 11: 'k', 12: 'l', 13: 'm', 14: 'n', 15: 'o', 16: 'p', 17: 'q', 18: 'r', 19: 's', 20: 't', 21: 'u', 22: 'v', 23: 'w', 24: 'x', 25: 'y', 26: 'z'}\n",
            "[0, 1, 2, 3, 4, 5, 6, 7, 8, 9, 10, 11, 12, 13, 14, 15, 16, 17, 18, 19, 20, 21, 22, 23, 24, 25, 26]\n",
            "[' ', 'a', 'b', 'c', 'd', 'e', 'f', 'g', 'h', 'i', 'j', 'k', 'l', 'm', 'n', 'o', 'p', 'q', 'r', 's', 't', 'u', 'v', 'w', 'x', 'y', 'z']\n",
            "8\n"
          ]
        },
        {
          "output_type": "execute_result",
          "data": {
            "text/plain": [
              "8"
            ]
          },
          "metadata": {},
          "execution_count": 10
        }
      ]
    },
    {
      "cell_type": "code",
      "source": [
        "import numpy as np\n",
        "\n",
        "prime_array = np.array([2,3,5,7,11])\n",
        "print(prime_array)"
      ],
      "metadata": {
        "colab": {
          "base_uri": "https://localhost:8080/"
        },
        "id": "eIv7C25osuOD",
        "outputId": "50327d5e-f645-4231-e0cb-0c1c95486b60"
      },
      "execution_count": null,
      "outputs": [
        {
          "output_type": "stream",
          "name": "stdout",
          "text": [
            "[ 2  3  5  7 11]\n"
          ]
        }
      ]
    },
    {
      "cell_type": "code",
      "source": [
        "type(prime_array)"
      ],
      "metadata": {
        "colab": {
          "base_uri": "https://localhost:8080/"
        },
        "id": "JxNhbNitueCi",
        "outputId": "4e909725-eee4-4b82-af93-959806d7f22c"
      },
      "execution_count": null,
      "outputs": [
        {
          "output_type": "execute_result",
          "data": {
            "text/plain": [
              "numpy.ndarray"
            ]
          },
          "metadata": {},
          "execution_count": 12
        }
      ]
    },
    {
      "cell_type": "code",
      "source": [
        "l =[2,3,5,7,11]\n",
        "type(l)"
      ],
      "metadata": {
        "colab": {
          "base_uri": "https://localhost:8080/"
        },
        "id": "6IWgNHHvunIk",
        "outputId": "75c405b2-eaf2-4447-fab6-0f3712be06e8"
      },
      "execution_count": null,
      "outputs": [
        {
          "output_type": "execute_result",
          "data": {
            "text/plain": [
              "list"
            ]
          },
          "metadata": {},
          "execution_count": 13
        }
      ]
    },
    {
      "cell_type": "code",
      "source": [
        "another_array = np.array([[2,3],[5,7]])\n",
        "print(another_array)"
      ],
      "metadata": {
        "colab": {
          "base_uri": "https://localhost:8080/"
        },
        "id": "kGhokXhsvAdd",
        "outputId": "fcc11b45-b265-44cc-af94-a048cff1ab69"
      },
      "execution_count": null,
      "outputs": [
        {
          "output_type": "stream",
          "name": "stdout",
          "text": [
            "[[2 3]\n",
            " [5 7]]\n"
          ]
        }
      ]
    },
    {
      "cell_type": "code",
      "source": [
        "type(another_array)"
      ],
      "metadata": {
        "colab": {
          "base_uri": "https://localhost:8080/"
        },
        "id": "7uxa1zX0vndM",
        "outputId": "2b56262b-d5af-4461-a2ef-b8292d815128"
      },
      "execution_count": null,
      "outputs": [
        {
          "output_type": "execute_result",
          "data": {
            "text/plain": [
              "numpy.ndarray"
            ]
          },
          "metadata": {},
          "execution_count": 15
        }
      ]
    },
    {
      "cell_type": "code",
      "source": [
        "three_D_array = np.array([[[1,2],[3,4]],[[5,6],[7,8]]])\n",
        "print(three_D_array)\n",
        "print(three_D_array.shape)\n",
        "print(three_D_array.ndim)"
      ],
      "metadata": {
        "colab": {
          "base_uri": "https://localhost:8080/"
        },
        "id": "uZH3JYRy5FIR",
        "outputId": "dedd271d-63e8-4112-c7af-ec057de6173c"
      },
      "execution_count": null,
      "outputs": [
        {
          "output_type": "stream",
          "name": "stdout",
          "text": [
            "[[[1 2]\n",
            "  [3 4]]\n",
            "\n",
            " [[5 6]\n",
            "  [7 8]]]\n",
            "(2, 2, 2)\n",
            "3\n"
          ]
        }
      ]
    },
    {
      "cell_type": "code",
      "source": [
        "fourD_array = np.array([[[[1,2],[3,4]],[[5,6],[7,8]]],[[[1,2],[3,4]],[[5,6],[7,8]]]])\n",
        "print(fourD_array)\n",
        "print(fourD_array.shape)\n",
        "print(fourD_array.ndim)\n",
        "print(fourD_array.size)"
      ],
      "metadata": {
        "colab": {
          "base_uri": "https://localhost:8080/"
        },
        "id": "k3OkY-Up58zx",
        "outputId": "5a37319b-2774-40fb-b251-ad715c9f18a3"
      },
      "execution_count": null,
      "outputs": [
        {
          "output_type": "stream",
          "name": "stdout",
          "text": [
            "[[[[1 2]\n",
            "   [3 4]]\n",
            "\n",
            "  [[5 6]\n",
            "   [7 8]]]\n",
            "\n",
            "\n",
            " [[[1 2]\n",
            "   [3 4]]\n",
            "\n",
            "  [[5 6]\n",
            "   [7 8]]]]\n",
            "(2, 2, 2, 2)\n",
            "4\n",
            "16\n"
          ]
        }
      ]
    },
    {
      "cell_type": "code",
      "source": [
        "array_of_integers = np.array([0,1,2,3,4,5,6,7,8,9])\n",
        "print(array_of_integers)\n",
        "print(array_of_integers.shape)\n",
        "print(array_of_integers.ndim)\n",
        "print(array_of_integers.ndim)\n",
        "print(array_of_integers.dtype)\n"
      ],
      "metadata": {
        "colab": {
          "base_uri": "https://localhost:8080/"
        },
        "id": "NndmNKtdx1Y9",
        "outputId": "01c2598d-192d-43b7-80b2-dbace4d5f901"
      },
      "execution_count": null,
      "outputs": [
        {
          "output_type": "stream",
          "name": "stdout",
          "text": [
            "[0 1 2 3 4 5 6 7 8 9]\n",
            "(10,)\n",
            "1\n",
            "1\n",
            "int64\n"
          ]
        }
      ]
    },
    {
      "cell_type": "code",
      "source": [
        "class car():\n",
        "  def __init__(self,modelname,yearm,price):\n",
        "    self.modelname = modelname\n",
        "    self.yearm = yearm\n",
        "    self.price = price\n",
        "  def price_inc(self):\n",
        "     self.price = self.price*1.15\n",
        "\n",
        "     return self.price\n",
        "\n",
        "\n",
        "\n",
        "\n",
        "\n",
        "\n",
        "\n",
        "honda = car('City',2020,1000000)\n",
        "tata = car('Nexon',2019,1200000)\n",
        "\n",
        "honda.cc = 1500\n",
        "tata.cc = 1900\n",
        "'''honda.modelname = 'City'\n",
        "honda.yearm = 2020\n",
        "honda.price = 1000000\n",
        "\n",
        "tata.modelname = 'Nexon'\n",
        "tata.yearm = 2019\n",
        "tata.price = 1200000'''\n",
        "\n",
        "print(honda.__dict__)\n",
        "print(tata.__dict__)\n",
        "print(honda.price)\n",
        "\n",
        "(honda.price_inc())"
      ],
      "metadata": {
        "colab": {
          "base_uri": "https://localhost:8080/"
        },
        "id": "O0lDkLkZXoiS",
        "outputId": "9e781a48-d053-4a99-b91a-aff913384a8b"
      },
      "execution_count": null,
      "outputs": [
        {
          "output_type": "stream",
          "name": "stdout",
          "text": [
            "{'modelname': 'City', 'yearm': 2020, 'price': 1000000, 'cc': 1500}\n",
            "{'modelname': 'Nexon', 'yearm': 2019, 'price': 1200000, 'cc': 1900}\n",
            "1000000\n"
          ]
        },
        {
          "output_type": "execute_result",
          "data": {
            "text/plain": [
              "1150000.0"
            ]
          },
          "metadata": {},
          "execution_count": 19
        }
      ]
    },
    {
      "cell_type": "code",
      "source": [
        "#def area_rectangle(length, breadth):\n",
        "  #area_of_rectangle =(length*breadth)\n",
        "  #return area_of_rectangle\n",
        "\n",
        "\n",
        "\n"
      ],
      "metadata": {
        "id": "ar9ceboy7fet"
      },
      "execution_count": null,
      "outputs": []
    },
    {
      "cell_type": "code",
      "source": [
        "#sample_retangle = area_rectangle(2.5,3)\n",
        "#sample_retangle"
      ],
      "metadata": {
        "id": "aqAh38Z99SbA"
      },
      "execution_count": null,
      "outputs": []
    },
    {
      "cell_type": "code",
      "source": [
        "class rectangle():\n",
        "  def __init__(self,length,breadth):\n",
        "    self.length = length\n",
        "    self.breadth = breadth\n",
        "\n",
        "  def area_of_rectangle(self):\n",
        "    return self.length*self.breadth\n",
        "\n",
        "  def perimetre_of_rectangle(self):\n",
        "    return 2*self.length + 2 * self.breadth"
      ],
      "metadata": {
        "id": "s0GyjRhn-Ge9"
      },
      "execution_count": null,
      "outputs": []
    },
    {
      "cell_type": "code",
      "source": [
        "sample_retangle = rectangle(2,3)\n",
        "\n",
        "sample_retangle.area_of_rectangle()\n"
      ],
      "metadata": {
        "colab": {
          "base_uri": "https://localhost:8080/"
        },
        "id": "4SQlKGCn_611",
        "outputId": "130c784f-90c6-402c-81a2-a490c3ef8cb4"
      },
      "execution_count": null,
      "outputs": [
        {
          "output_type": "execute_result",
          "data": {
            "text/plain": [
              "6"
            ]
          },
          "metadata": {},
          "execution_count": 23
        }
      ]
    },
    {
      "cell_type": "code",
      "source": [
        "j=10\n",
        "k=10"
      ],
      "metadata": {
        "id": "IXsMFROuwfIb"
      },
      "execution_count": null,
      "outputs": []
    },
    {
      "cell_type": "code",
      "source": [
        "print(j,k)"
      ],
      "metadata": {
        "colab": {
          "base_uri": "https://localhost:8080/"
        },
        "id": "udf1y69tC4eL",
        "outputId": "d61d6c1b-61b5-4983-e3d4-0a432fbf34a9"
      },
      "execution_count": null,
      "outputs": [
        {
          "output_type": "stream",
          "name": "stdout",
          "text": [
            "10 10\n"
          ]
        }
      ]
    },
    {
      "cell_type": "code",
      "source": [
        "print(id(j),id(k))"
      ],
      "metadata": {
        "colab": {
          "base_uri": "https://localhost:8080/"
        },
        "id": "0_Dt8CihC7sa",
        "outputId": "c686bb7b-6392-4e67-fcd6-5807921b6799"
      },
      "execution_count": null,
      "outputs": [
        {
          "output_type": "stream",
          "name": "stdout",
          "text": [
            "133785205064208 133785205064208\n"
          ]
        }
      ]
    },
    {
      "cell_type": "code",
      "source": [
        "a = 'hello'\n",
        "c = ' 20'\n",
        "b = 'jitesh'\n",
        "print(a+c+b)"
      ],
      "metadata": {
        "colab": {
          "base_uri": "https://localhost:8080/"
        },
        "id": "x1owGv1aDLnC",
        "outputId": "f9baeef4-4f9b-4eea-8c32-a8c25f29dca3"
      },
      "execution_count": null,
      "outputs": [
        {
          "output_type": "stream",
          "name": "stdout",
          "text": [
            "hello 20jitesh\n"
          ]
        }
      ]
    },
    {
      "cell_type": "markdown",
      "source": [
        "##Arithmetic operator"
      ],
      "metadata": {
        "id": "RBPzscrrEdPt"
      }
    },
    {
      "cell_type": "code",
      "source": [
        "a = 10\n",
        "b = 20\n",
        "print(a*b,a/b,b%3,a**b,a//3)\n",
        "print(a/b)\n",
        "print(a%b)\n",
        "print(a**b)\n",
        "print(a//b)"
      ],
      "metadata": {
        "id": "n6NRGgEhFUNL",
        "colab": {
          "base_uri": "https://localhost:8080/"
        },
        "outputId": "9c72a9a8-0d20-4e6f-8eb7-bd5a9a54be9b"
      },
      "execution_count": null,
      "outputs": [
        {
          "output_type": "stream",
          "name": "stdout",
          "text": [
            "200 0.5 2 100000000000000000000 3\n",
            "0.5\n",
            "10\n",
            "100000000000000000000\n",
            "0\n"
          ]
        }
      ]
    },
    {
      "cell_type": "code",
      "source": [],
      "metadata": {
        "id": "SSJStDq1CYmw"
      },
      "execution_count": null,
      "outputs": []
    },
    {
      "cell_type": "markdown",
      "source": [
        "## Assignment operator"
      ],
      "metadata": {
        "id": "TT1u9H2kE_E-"
      }
    },
    {
      "cell_type": "code",
      "source": [
        "x = 5\n",
        "x += 3\n",
        "x"
      ],
      "metadata": {
        "colab": {
          "base_uri": "https://localhost:8080/"
        },
        "id": "scb9-wvNFCh6",
        "outputId": "b12c8936-084a-42ac-c180-8dab3c7a0f79"
      },
      "execution_count": null,
      "outputs": [
        {
          "output_type": "execute_result",
          "data": {
            "text/plain": [
              "8"
            ]
          },
          "metadata": {},
          "execution_count": 29
        }
      ]
    },
    {
      "cell_type": "code",
      "source": [
        "x-=2\n",
        "x"
      ],
      "metadata": {
        "colab": {
          "base_uri": "https://localhost:8080/"
        },
        "id": "e9Z-XkhEFtR0",
        "outputId": "a57bf243-e1d9-476b-89bf-a85e0ee6d5cb"
      },
      "execution_count": null,
      "outputs": [
        {
          "output_type": "execute_result",
          "data": {
            "text/plain": [
              "6"
            ]
          },
          "metadata": {},
          "execution_count": 30
        }
      ]
    },
    {
      "cell_type": "markdown",
      "source": [
        "## Comparisons operator"
      ],
      "metadata": {
        "id": "Q35tEOeoHbL-"
      }
    },
    {
      "cell_type": "code",
      "source": [
        "x = 10\n",
        "y= 20\n",
        "print(x==y)\n",
        "print(x!=y)\n",
        "print(x>y)\n",
        "print(x<y)\n",
        "print(x>=y)\n",
        "print(x<=y)"
      ],
      "metadata": {
        "colab": {
          "base_uri": "https://localhost:8080/"
        },
        "id": "V_ZmkVs_F5Cg",
        "outputId": "daed376f-f2cb-49ff-cd9a-fa8d4cb8c6ca"
      },
      "execution_count": null,
      "outputs": [
        {
          "output_type": "stream",
          "name": "stdout",
          "text": [
            "False\n",
            "True\n",
            "False\n",
            "True\n",
            "False\n",
            "True\n"
          ]
        }
      ]
    },
    {
      "cell_type": "markdown",
      "source": [
        "###Logical Operators"
      ],
      "metadata": {
        "id": "4R5Cxu8VKJfj"
      }
    },
    {
      "cell_type": "code",
      "source": [
        "x = 10\n",
        "y = 20\n",
        "\n",
        "print(x==10 and x<y)\n",
        "print(x==10 or x>y)\n",
        "print(not(x==5 and x>y))\n"
      ],
      "metadata": {
        "colab": {
          "base_uri": "https://localhost:8080/"
        },
        "id": "B8L82-Y_I82B",
        "outputId": "a3060738-b450-4462-a7c3-ad7fc4cc3beb"
      },
      "execution_count": null,
      "outputs": [
        {
          "output_type": "stream",
          "name": "stdout",
          "text": [
            "True\n",
            "True\n",
            "True\n"
          ]
        }
      ]
    },
    {
      "cell_type": "code",
      "source": [
        "k = int(input(\"Write a number:\"))\n",
        "print(k**2)"
      ],
      "metadata": {
        "id": "zDsIDpcHMZ86",
        "colab": {
          "base_uri": "https://localhost:8080/"
        },
        "outputId": "90f75f0c-4b64-4cf7-a5aa-844d09758711"
      },
      "execution_count": null,
      "outputs": [
        {
          "output_type": "stream",
          "name": "stdout",
          "text": [
            "Write a number:555\n",
            "308025\n"
          ]
        }
      ]
    },
    {
      "cell_type": "code",
      "source": [
        "k = int(input(\"Write a number: \"))\n",
        "print(k**2)\n"
      ],
      "metadata": {
        "colab": {
          "base_uri": "https://localhost:8080/"
        },
        "id": "B47cbY8iCKQA",
        "outputId": "30197092-b73c-41a2-aab9-ff7cc8adf267"
      },
      "execution_count": null,
      "outputs": [
        {
          "output_type": "stream",
          "name": "stdout",
          "text": [
            "Write a number: 3232\n",
            "10445824\n"
          ]
        }
      ]
    },
    {
      "cell_type": "code",
      "source": [
        "def factorial(n):\n",
        "    if n < 0:\n",
        "        return \"Factorial is not defined for negative numbers\"\n",
        "    elif n == 0 or n == 1:\n",
        "        return 1\n",
        "    else:\n",
        "        result = 1\n",
        "        for i in range(2, n + 1):\n",
        "            result *= i\n",
        "        return result\n",
        "\n",
        "num = int(input(\"Enter a number: \"))\n",
        "print(f\"The factorial of {num} is {factorial(num)}\")\n"
      ],
      "metadata": {
        "colab": {
          "base_uri": "https://localhost:8080/"
        },
        "id": "HWo_kajwCq_s",
        "outputId": "3ecdb2aa-9693-4be6-87b1-b44c5bc9950d"
      },
      "execution_count": null,
      "outputs": [
        {
          "output_type": "stream",
          "name": "stdout",
          "text": [
            "Enter a number: 7\n",
            "The factorial of 7 is 5040\n"
          ]
        }
      ]
    },
    {
      "cell_type": "code",
      "source": [
        "string1 = \"Hello\"\n",
        "print('H' in string1)"
      ],
      "metadata": {
        "id": "vr64qi7SO9Lu",
        "colab": {
          "base_uri": "https://localhost:8080/"
        },
        "outputId": "9b95e374-dc3b-4e00-bfd6-d355271f6f48"
      },
      "execution_count": null,
      "outputs": [
        {
          "output_type": "stream",
          "name": "stdout",
          "text": [
            "True\n"
          ]
        }
      ]
    },
    {
      "cell_type": "code",
      "source": [
        "print(range(1,10))"
      ],
      "metadata": {
        "id": "4IAxeaM-Af25",
        "colab": {
          "base_uri": "https://localhost:8080/"
        },
        "outputId": "f33744a0-419a-4e36-f0ea-8ac9520c36f5"
      },
      "execution_count": null,
      "outputs": [
        {
          "output_type": "stream",
          "name": "stdout",
          "text": [
            "range(1, 10)\n"
          ]
        }
      ]
    },
    {
      "cell_type": "code",
      "source": [
        "for i in range(1,10):\n",
        "  print(i*i)"
      ],
      "metadata": {
        "colab": {
          "base_uri": "https://localhost:8080/"
        },
        "id": "oWGqUjYFkwVO",
        "outputId": "c5c3b1e5-4166-4f2c-d309-db755cb4e187"
      },
      "execution_count": null,
      "outputs": [
        {
          "output_type": "stream",
          "name": "stdout",
          "text": [
            "1\n",
            "4\n",
            "9\n",
            "16\n",
            "25\n",
            "36\n",
            "49\n",
            "64\n",
            "81\n"
          ]
        }
      ]
    },
    {
      "cell_type": "code",
      "source": [
        "class rectangle():\n",
        "  def __init__(self,length,breadth):\n",
        "    self.length = length\n",
        "    self.breadth = breadth\n",
        "\n",
        "  def area_of_rectangle(self):\n",
        "    return self.length*self.breadth\n",
        "\n",
        "  def perimetre_of_rectangle(self):\n",
        "    return 2*self.length + 2 * self.breadth\n",
        "\n"
      ],
      "metadata": {
        "id": "AJEafaymnzLc"
      },
      "execution_count": null,
      "outputs": []
    },
    {
      "cell_type": "code",
      "source": [
        "class Product:\n",
        "    def __init__(self, price):\n",
        "        self.__price = price  # Private attribute\n",
        "\n",
        "    def get_price(self):\n",
        "        return self.__price\n",
        "\n",
        "    def set_price(self, price):\n",
        "        if price > 0:\n",
        "            self.__price = price\n",
        "        else:\n",
        "            print(\"Invalid price\")"
      ],
      "metadata": {
        "id": "SHqOLf5yKPhl"
      },
      "execution_count": null,
      "outputs": []
    },
    {
      "cell_type": "code",
      "source": [
        "class Person:\n",
        "    def __init__(self, name, age):\n",
        "        self.name = name            # Public attribute\n",
        "        self._age = age             # Protected attribute\n",
        "\n",
        "    def display_info(self):\n",
        "        print(f\"Name: {self.name}, Age: {self._age}\")\n",
        "\n",
        "    def _display_age(self):\n",
        "        print(f\"Age: {self._age}\")\n",
        "person = Person(\"Alice\", 30)\n",
        "person.display_info()  # Output: Name: Alice, Age: 30\n",
        "\n",
        "# Accessing public attribute\n",
        "print(person.name)  # Output: Alice\n",
        "\n",
        "# Accessing protected attribute (not recommended)\n",
        "print(person._age)  # Output: 30\n",
        "\n",
        "# Accessing protected method (not recommended)\n",
        "person._display_age()  # Output: Age: 30\n"
      ],
      "metadata": {
        "colab": {
          "base_uri": "https://localhost:8080/"
        },
        "id": "ZKWHKAC6KfMC",
        "outputId": "2ce62e5a-1792-45c2-8d63-340aee4c5fdb"
      },
      "execution_count": null,
      "outputs": [
        {
          "output_type": "stream",
          "name": "stdout",
          "text": [
            "Name: Alice, Age: 30\n",
            "Alice\n",
            "30\n",
            "Age: 30\n"
          ]
        }
      ]
    },
    {
      "cell_type": "markdown",
      "source": [
        "In Python, classes and instances can have attributes that store data. These attributes can be classified into two types: class variables and instance variables. Understanding the difference between these two is crucial for managing data correctly in object-oriented programming.\n",
        "\n",
        "**Class Variables**\n",
        "\n",
        "**Definition:**\n",
        "\n",
        "**Class variables** are attributes that are shared by all instances of a class. They are defined within the class but outside any instance methods.\n",
        "\n",
        "\n",
        "**Scope:**\n",
        "They belong to the class itself and are shared among all instances of the class.\n",
        "\n",
        "\n",
        "**Usage:**\n",
        "Class variables are used when you want to have a common value that should be the same for all instances of the class.\n",
        "\n",
        "\n",
        "\n",
        "**Instance Variables**\n",
        "\n",
        "Definition:\n",
        "\n",
        "Instance variables are attributes that are specific to each instance of a class. They are usually defined within the __init__ method or other instance methods.\n",
        "\n",
        "**Scope:**\n",
        "\n",
        "They belong to the instance of the class and are not shared among instances.\n",
        "Usage:\n",
        "Instance variables are used to maintain data that is unique to each instance of the class.\n"
      ],
      "metadata": {
        "id": "cvDQfCSUMByj"
      }
    },
    {
      "cell_type": "code",
      "source": [
        "class Dog:\n",
        "    # Class variable\n",
        "    species = \"Canis familiaris\"\n",
        "\n",
        "    def __init__(self, name, age):\n",
        "        # Instance variables\n",
        "        self.name = name\n",
        "        self.age = age\n",
        "\n",
        "# Creating instances of the Dog class\n",
        "dog1 = Dog(\"Buddy\", 5)\n",
        "dog2 = Dog(\"Lucy\", 3)\n",
        "\n",
        "# Accessing class variables\n",
        "print(dog1.species)  # Output: Canis familiaris\n",
        "print(dog2.species)  # Output: Canis familiaris\n",
        "\n",
        "# Accessing instance variables\n",
        "print(dog1.name)  # Output: Buddy\n",
        "print(dog1.age)   # Output: 5\n",
        "print(dog2.name)  # Output: Lucy\n",
        "print(dog2.age)   # Output: 3\n",
        "\n",
        "# Modifying class variable\n",
        "Dog.species = \"Canis lupus familiaris\"\n",
        "print(dog1.species)  # Output: Canis lupus familiaris\n",
        "print(dog2.species)  # Output: Canis lupus familiaris\n",
        "\n",
        "# Modifying instance variable\n",
        "dog1.age = 6\n",
        "print(dog1.age)  # Output: 6\n",
        "print(dog2.age)  # Output: 3"
      ],
      "metadata": {
        "id": "-nTJHwBmMmF2"
      },
      "execution_count": null,
      "outputs": []
    },
    {
      "cell_type": "code",
      "source": [
        "class Dog:\n",
        "  species= \"German shephered\"\n",
        "  def __init__(self, name, age):   #instance variable: they are defined using __init__\n",
        "    self.name = name\n",
        "    self.age = age\n",
        "\n",
        "dog1 = Dog(\"Kitto\",4)\n",
        "dog2 = Dog(\"Chotu\",3)\n",
        "\n",
        "print(dog1.species)\n",
        "print(dog2.name,dog2.age)\n",
        "\n"
      ],
      "metadata": {
        "colab": {
          "base_uri": "https://localhost:8080/"
        },
        "id": "-A28MOSnNfNo",
        "outputId": "6f9d0556-6880-447e-cfb5-a9022a221708"
      },
      "execution_count": null,
      "outputs": [
        {
          "output_type": "stream",
          "name": "stdout",
          "text": [
            "German shephered\n",
            "Chotu 3\n"
          ]
        }
      ]
    },
    {
      "cell_type": "code",
      "source": [
        "class Person:\n",
        "  def __init__(self,name, age):\n",
        "    self.name = name\n",
        "    self._age = age\n",
        "\n",
        "  def display_info(self):\n",
        "    print(self.name, self._age)\n",
        "\n",
        "person = Person(\"Virat\", 34)\n",
        "person.display_info()\n",
        "\n",
        "\n"
      ],
      "metadata": {
        "colab": {
          "base_uri": "https://localhost:8080/"
        },
        "id": "8KOBnWnzPFNJ",
        "outputId": "c88a80e5-e78f-4f2f-dd1c-fa105f0249b5"
      },
      "execution_count": null,
      "outputs": [
        {
          "output_type": "stream",
          "name": "stdout",
          "text": [
            "Virat 34\n"
          ]
        }
      ]
    },
    {
      "cell_type": "code",
      "source": [
        "def findHCF(x,y):\n",
        "    if x > y:\n",
        "        smaller = y\n",
        "    else:\n",
        "        smaller = x\n",
        "    for i in range(1, smaller+1):\n",
        "        if ((x % i == 0) and (y % i == 0)):\n",
        "            HCF = i\n",
        "    return HCF\n",
        "\n",
        "\n",
        "inp1 = int(input(\"Enter 1st number to find HCF\\n\"))\n",
        "inp2 = int(input(\"Enter 2nd number to find HCF \\n:\"))\n",
        "\n",
        "print(\"HCF Of given two numbers is\", findHCF(inp1,inp2))\n",
        "\n"
      ],
      "metadata": {
        "id": "foF7Wg5zSARG",
        "colab": {
          "base_uri": "https://localhost:8080/"
        },
        "outputId": "752675e2-6612-4253-d2e4-12b2bad26bf7"
      },
      "execution_count": null,
      "outputs": [
        {
          "output_type": "stream",
          "name": "stdout",
          "text": [
            "Enter 1st number to find HCF\n",
            "7\n",
            "Enter 2nd number to find HCF \n",
            ":9\n",
            "HCF Of given two numbers is 1\n"
          ]
        }
      ]
    },
    {
      "cell_type": "code",
      "source": [
        "print(10*'jitesh')"
      ],
      "metadata": {
        "colab": {
          "base_uri": "https://localhost:8080/"
        },
        "id": "JO7jxkf_2g4M",
        "outputId": "aec23daf-a705-4839-de92-cfd569858635"
      },
      "execution_count": null,
      "outputs": [
        {
          "output_type": "stream",
          "name": "stdout",
          "text": [
            "jiteshjiteshjiteshjiteshjiteshjiteshjiteshjiteshjiteshjitesh\n"
          ]
        }
      ]
    },
    {
      "cell_type": "code",
      "source": [
        "x = input(\"Write a word to reversr it:\\n\")\n",
        "\n",
        "for i in  range(-1,-len(x)-1,-1):\n",
        "    print(x[i], end = \"\")\n",
        "\n"
      ],
      "metadata": {
        "colab": {
          "base_uri": "https://localhost:8080/"
        },
        "id": "pca6Gw78PPm3",
        "outputId": "665ea262-c17d-432a-ef4d-089987ad896b"
      },
      "execution_count": null,
      "outputs": [
        {
          "output_type": "stream",
          "name": "stdout",
          "text": [
            "Write a word to reversr it:\n",
            "Jitesh\n",
            "hsetiJ"
          ]
        }
      ]
    },
    {
      "cell_type": "code",
      "source": [
        "s = range(5)\n",
        "for i in s:\n",
        "    print(i)"
      ],
      "metadata": {
        "colab": {
          "base_uri": "https://localhost:8080/"
        },
        "id": "7xZQaYGF2Ib_",
        "outputId": "0b798b64-ce67-46fa-97a5-e85d0556ab44"
      },
      "execution_count": null,
      "outputs": [
        {
          "output_type": "stream",
          "name": "stdout",
          "text": [
            "0\n",
            "1\n",
            "2\n",
            "3\n",
            "4\n"
          ]
        }
      ]
    },
    {
      "cell_type": "code",
      "source": [
        "#Syntax of string slicing s[start:end:step]\n",
        "s = \"Python Programming\"\n",
        "for i in range(len(s)):\n",
        "    print(i,\" : \" ,s[i])\n",
        "\n",
        "s = \"Python Programming\"\n",
        "j = len(s)\n",
        "\n",
        "for i in range(j):\n",
        "    print(i,s[i],-j)\n",
        "    j -= 1\n"
      ],
      "metadata": {
        "id": "6pzOu_KgZYMK",
        "colab": {
          "base_uri": "https://localhost:8080/"
        },
        "outputId": "b737e2b5-8b79-45fe-a312-647e3af93d71"
      },
      "execution_count": null,
      "outputs": [
        {
          "output_type": "stream",
          "name": "stdout",
          "text": [
            "0  :  P\n",
            "1  :  y\n",
            "2  :  t\n",
            "3  :  h\n",
            "4  :  o\n",
            "5  :  n\n",
            "6  :   \n",
            "7  :  P\n",
            "8  :  r\n",
            "9  :  o\n",
            "10  :  g\n",
            "11  :  r\n",
            "12  :  a\n",
            "13  :  m\n",
            "14  :  m\n",
            "15  :  i\n",
            "16  :  n\n",
            "17  :  g\n",
            "0 P -18\n",
            "1 y -17\n",
            "2 t -16\n",
            "3 h -15\n",
            "4 o -14\n",
            "5 n -13\n",
            "6   -12\n",
            "7 P -11\n",
            "8 r -10\n",
            "9 o -9\n",
            "10 g -8\n",
            "11 r -7\n",
            "12 a -6\n",
            "13 m -5\n",
            "14 m -4\n",
            "15 i -3\n",
            "16 n -2\n",
            "17 g -1\n"
          ]
        }
      ]
    },
    {
      "cell_type": "code",
      "source": [
        "x = 5\n",
        "y = 10\n",
        "\n",
        "x,y = y,x\n",
        "\n",
        "print(x)\n",
        "print(y)"
      ],
      "metadata": {
        "colab": {
          "base_uri": "https://localhost:8080/"
        },
        "id": "-u2sO6GvzWVK",
        "outputId": "30b528cc-4156-4d86-bd6c-a860f14eec25"
      },
      "execution_count": null,
      "outputs": [
        {
          "output_type": "stream",
          "name": "stdout",
          "text": [
            "10\n",
            "5\n"
          ]
        }
      ]
    },
    {
      "cell_type": "code",
      "source": [
        "class Bank:\n",
        "    def __init__(self, pin, initial_balance=0):\n",
        "        self._pin = pin\n",
        "        self.balance = initial_balance\n",
        "\n",
        "    def _verify_pin(self, pin):\n",
        "        return self._pin == pin\n",
        "\n",
        "    def withdraw(self, amount, pin):\n",
        "        if self._verify_pin(pin):\n",
        "            if amount > self.balance:\n",
        "                print(\"Insufficient funds.\")\n",
        "            else:\n",
        "                self.balance -= amount\n",
        "                print(f\"Withdrawal successful. You withdrew {amount}. Your new balance is {self.balance}.\")\n",
        "        else:\n",
        "            print(\"Invalid PIN. Transaction failed.\")\n",
        "\n",
        "    def deposit(self, amount, pin):\n",
        "        if self._verify_pin(pin):\n",
        "            self.balance += amount\n",
        "            print(f\"Deposit successful. You deposited {amount}. Your new balance is {self.balance}.\")\n",
        "        else:\n",
        "            print(\"Invalid PIN. Transaction failed.\")\n",
        "\n",
        "# Example usage:\n",
        "# Create a Bank object with an initial balance of 1000 and PIN 1234\n",
        "my_bank = Bank(pin=1234, initial_balance=1000)\n",
        "\n",
        "# Try to withdraw 200 with the correct PIN\n",
        "my_bank.withdraw(amount=200, pin=1234)\n",
        "\n",
        "# Try to deposit 300 with the correct PIN\n",
        "my_bank.deposit(amount=300, pin=1234)\n",
        "\n",
        "# Try to withdraw 200 with an incorrect PIN\n",
        "my_bank.withdraw(amount=200, pin=1111)\n",
        "\n",
        "# Try to deposit 300 with an incorrect PIN\n",
        "my_bank.deposit(amount=300, pin=1111)\n"
      ],
      "metadata": {
        "id": "Ib_XRdtDCs88",
        "colab": {
          "base_uri": "https://localhost:8080/"
        },
        "outputId": "f2cdf4c7-2884-4f12-a0a5-450c84ad569f"
      },
      "execution_count": null,
      "outputs": [
        {
          "output_type": "stream",
          "name": "stdout",
          "text": [
            "Withdrawal successful. You withdrew 200. Your new balance is 800.\n",
            "Deposit successful. You deposited 300. Your new balance is 1100.\n",
            "Invalid PIN. Transaction failed.\n",
            "Invalid PIN. Transaction failed.\n"
          ]
        }
      ]
    },
    {
      "cell_type": "code",
      "source": [
        "class Bank:\n",
        "\n",
        "    def __init__(self, pin = 2580 , amount = 2000):\n",
        "        self.__pin = pin\n",
        "        self._amount = amount\n",
        "\n",
        "    def verify_pin(self, pin):\n",
        "        return self.__pin == pin\n",
        "\n",
        "    def check_balance(self , pin):\n",
        "        if self.verify_pin(pin):\n",
        "            return \"Available balance is\", self._amount\n",
        "        else:\n",
        "            return \"Invalid pin, Try again\"\n",
        "\n",
        "\n",
        "    def withdrawl(self, pin, withdrawl):\n",
        "        if self.verify_pin(pin):\n",
        "            if withdrawl > self._amount:\n",
        "                return \"Insufficient Fund\"\n",
        "            else:\n",
        "                self._amount -= withdrawl\n",
        "                print(f\"withdrawl amount is {withdrawl}, Available balance is  {self._amount}\")\n",
        "        else:\n",
        "            return \"Invalid Pin, Try again with corrected pin\"\n",
        "    def deposit(self, pin, deposit):\n",
        "        if self.verify_pin(pin):\n",
        "            self._amount += deposit\n",
        "            print(f\"Deposited amount is {deposit}, Available balance is {self._amount}\")\n",
        "        else:\n",
        "            return \"Invalid pin. Try again with valid pin\"\n",
        "\n",
        "\n",
        "my_bank = Bank()\n",
        "#amount = float(input(\"Enter the amount you want to withdraw \\n\"))\n",
        "enter_pin = int(input(\"Enter your secret pin to proceed the transaction \\n\"))\n",
        "print(my_bank.check_balance(enter_pin))\n",
        "\n",
        "#my_bank.withdrawl(enter_pin,amount)\n",
        "print(\"\\n\")\n",
        "#amount = float(input(\"Enter the amount you want to deposit \\n\"))\n",
        "#enter_pin = int(input(\"Enter your secret pin to proceed the transaction \\n\"))\n",
        "#my_bank.deposit(enter_pin,amount)\n",
        "\n",
        "\n",
        "\n",
        "\n",
        "\n"
      ],
      "metadata": {
        "colab": {
          "base_uri": "https://localhost:8080/"
        },
        "id": "pSmOl1Trj8gv",
        "outputId": "fa754188-e4a0-4c12-ffbb-298f773811f6"
      },
      "execution_count": null,
      "outputs": [
        {
          "output_type": "stream",
          "name": "stdout",
          "text": [
            "Enter your secret pin to proceed the transaction \n",
            "2580\n",
            "('Available balance is', 2000)\n",
            "\n",
            "\n"
          ]
        }
      ]
    },
    {
      "cell_type": "code",
      "source": [
        "class Srudents:\n",
        "    school = \"Hindu College\"\n",
        "\n",
        "\n",
        "    def __init__(self, m1, m2, m3):\n",
        "        self.m1 = m1\n",
        "        self.m2 = m2\n",
        "        self.m3 = m3\n",
        "\n",
        "\n",
        "    def get_average(self):\n",
        "        return (self.m1+self.m2+self.m3)/3\n",
        "    @classmethod\n",
        "    def info(cls):\n",
        "        return cls.school\n",
        "\n",
        "    @staticmethod\n",
        "    def get_info():\n",
        "        print(\"This is Hindu college batch\")\n",
        "\n",
        "s1 = Srudents(23,56,67)\n",
        "print(s1.get_average())\n",
        "s2 = Srudents( 34,89,65)\n",
        "print(s2.get_average())\n",
        "print(s1.info())\n",
        "\n",
        "print(s1.get_info())"
      ],
      "metadata": {
        "id": "z30lVpIassiG",
        "colab": {
          "base_uri": "https://localhost:8080/"
        },
        "outputId": "86730758-ff09-42e2-94d1-bc982ee13481"
      },
      "execution_count": null,
      "outputs": [
        {
          "output_type": "stream",
          "name": "stdout",
          "text": [
            "48.666666666666664\n",
            "62.666666666666664\n",
            "Hindu College\n",
            "This is Hindu college batch\n",
            "None\n"
          ]
        }
      ]
    },
    {
      "cell_type": "code",
      "source": [
        "class A:\n",
        "\n",
        "\n",
        "    def feature1(self):\n",
        "        print(\"Feature 1 is working\")\n",
        "\n",
        "    def feature2(self):\n",
        "        print(\"Feature 2 is working\")\n",
        "\n",
        "\n",
        "class B(A):\n",
        "\n",
        "    def feature3(self):\n",
        "        print(\"feature3 is working\")\n",
        "\n",
        "    def feature4(self):\n",
        "        print(\"feature4 is working\")\n",
        "\n",
        "class C(B):\n",
        "\n",
        "    def feature6(self):\n",
        "        print(\" Feature 6 is working\")\n",
        "\n",
        "    def feature5(self):\n",
        "        print(\" Feature 5 is working\")\n",
        "\n",
        "a1 = A()\n",
        "\n",
        "b1 = B()\n",
        "\n",
        "c1 = C()\n",
        "\n",
        "a1.feature1()\n",
        "a1.feature2()\n",
        "b1.feature1()\n",
        "b1.feature2()\n",
        "b1.feature3()\n",
        "c1.feature4()\n",
        "c1.feature1()\n",
        "c1.feature2()\n",
        "c1.feature3()\n",
        "c1.feature4()\n",
        "c1.feature5()\n",
        "c1.feature6()\n",
        "\n",
        "\n",
        "\n",
        "\n"
      ],
      "metadata": {
        "colab": {
          "base_uri": "https://localhost:8080/"
        },
        "id": "ZBiYcmXsBdzo",
        "outputId": "686bedca-308c-4afb-f156-833974078d2e"
      },
      "execution_count": null,
      "outputs": [
        {
          "output_type": "stream",
          "name": "stdout",
          "text": [
            "Feature 1 is working\n",
            "Feature 2 is working\n",
            "Feature 1 is working\n",
            "Feature 2 is working\n",
            "feature3 is working\n",
            "feature4 is working\n",
            "Feature 1 is working\n",
            "Feature 2 is working\n",
            "feature3 is working\n",
            "feature4 is working\n",
            " Feature 5 is working\n",
            " Feature 6 is working\n"
          ]
        }
      ]
    },
    {
      "cell_type": "code",
      "source": [
        "# Multi level inheritance\n",
        "\n",
        "class A:\n",
        "\n",
        "    def feature1(self):\n",
        "        print(\"Feature 1 is working\")\n",
        "\n",
        "\n",
        "class B:\n",
        "\n",
        "    def feature2(self):\n",
        "        print(\"Feature 2 is working\")\n",
        "\n",
        "\n",
        "class C(A,B):\n",
        "\n",
        "    def feature3(self):\n",
        "        print(\"feature 3 is working\")\n",
        "\n",
        "\n",
        "a1 = A()\n",
        "a1.feature1()\n",
        "\n",
        "b1 = B()\n",
        "\n",
        "b1.feature2()\n",
        "\n",
        "c1 = C()\n",
        "\n",
        "c1.feature1()\n",
        "c1.feature2()\n",
        "c1.feature3()"
      ],
      "metadata": {
        "colab": {
          "base_uri": "https://localhost:8080/"
        },
        "id": "V_ptifbhMM-c",
        "outputId": "bc0426cc-1d76-492f-aecd-4beb9abab823"
      },
      "execution_count": null,
      "outputs": [
        {
          "output_type": "stream",
          "name": "stdout",
          "text": [
            "Feature 1 is working\n",
            "Feature 2 is working\n",
            "Feature 1 is working\n",
            "Feature 2 is working\n",
            "feature 3 is working\n"
          ]
        }
      ]
    },
    {
      "cell_type": "code",
      "source": [
        "# Multilevel inheritance\n",
        "\n",
        "class A:\n",
        "    def __init__(self):\n",
        "        print(\"In _init_ of A\")\n",
        "\n",
        "    def feature1(self):\n",
        "        print(\"feature 1 is working\")\n",
        "\n",
        "\n",
        "class B(A):\n",
        "\n",
        "    def __init__(self):\n",
        "        super().__init__()\n",
        "        print(\"In _init_ of B\")\n",
        "\n",
        "    def feature2(self):\n",
        "        print(\"feature 2 is working\")\n",
        "\n",
        "\n",
        "class C(B,A):\n",
        "\n",
        "    def __init__(self):\n",
        "        super().__init__()\n",
        "        print(\"In _init_ of C\")\n",
        "\n",
        "    def feature3(self):\n",
        "        print(\"feature 3 is working\")\n",
        "\n",
        "\n",
        "a = A()\n",
        "a.feature1()\n",
        "\n",
        "b =B()\n",
        "b.feature1()\n",
        "b.feature2()\n",
        "\n",
        "\n",
        "c =C()\n",
        "c.feature2()\n",
        "c.feature1()\n",
        "c.feature3()"
      ],
      "metadata": {
        "colab": {
          "base_uri": "https://localhost:8080/"
        },
        "id": "oPjV_63ORCSm",
        "outputId": "1b1f8cac-2767-4c47-b890-02ca5127fd5a"
      },
      "execution_count": null,
      "outputs": [
        {
          "output_type": "stream",
          "name": "stdout",
          "text": [
            "In _init_ of A\n",
            "feature 1 is working\n",
            "In _init_ of A\n",
            "In _init_ of B\n",
            "feature 1 is working\n",
            "feature 2 is working\n",
            "In _init_ of A\n",
            "In _init_ of B\n",
            "In _init_ of C\n",
            "feature 2 is working\n",
            "feature 1 is working\n",
            "feature 3 is working\n"
          ]
        }
      ]
    },
    {
      "cell_type": "code",
      "source": [
        "class A:\n",
        "    def __init__(self):\n",
        "        print(\"In init of A\")\n",
        "\n",
        "\n",
        "    def feature1(self):\n",
        "        print(\"feature 1-A is working\")\n",
        "\n",
        "class B:\n",
        "\n",
        "    def __init__(self):\n",
        "        print(\"in init of B \")\n",
        "\n",
        "    def feature1(self):\n",
        "        print(\"Feature 1-B is working\")\n",
        "\n",
        "\n",
        "class C(A,B):\n",
        "\n",
        "    def __init__(self):\n",
        "        super().__init__()\n",
        "        print(\"In init of C\")\n",
        "\n",
        "    def feature3(self):\n",
        "        print(\"Feature 3 is working\")\n",
        "\n",
        "\n",
        "a = C()\n",
        "a.feature1()\n",
        "a.feature1()\n",
        "a.feature3()\n"
      ],
      "metadata": {
        "colab": {
          "base_uri": "https://localhost:8080/"
        },
        "id": "TGU5I4wsc8nC",
        "outputId": "0fb3e434-478d-4c49-d109-a198e57b3ed6"
      },
      "execution_count": null,
      "outputs": [
        {
          "output_type": "stream",
          "name": "stdout",
          "text": [
            "In init of A\n",
            "In init of C\n",
            "feature 1-A is working\n",
            "feature 1-A is working\n",
            "Feature 3 is working\n"
          ]
        }
      ]
    },
    {
      "cell_type": "code",
      "source": [],
      "metadata": {
        "id": "5Ci9Cg_kju-N"
      },
      "execution_count": null,
      "outputs": []
    }
  ]
}