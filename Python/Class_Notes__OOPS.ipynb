{
  "nbformat": 4,
  "nbformat_minor": 0,
  "metadata": {
    "colab": {
      "provenance": []
    },
    "kernelspec": {
      "name": "python3",
      "display_name": "Python 3"
    },
    "language_info": {
      "name": "python"
    }
  },
  "cells": [
    {
      "cell_type": "code",
      "execution_count": null,
      "metadata": {
        "colab": {
          "base_uri": "https://localhost:8080/"
        },
        "id": "wFn1WR7lRcJZ",
        "outputId": "351d1513-b621-4f86-f0c5-15d2b0e91ec6"
      },
      "outputs": [
        {
          "output_type": "stream",
          "name": "stdout",
          "text": [
            "Model S\n",
            "Tesla\n"
          ]
        }
      ],
      "source": [
        "#ENCAPSULATION\n",
        "\n",
        "class Car:\n",
        "    def __init__(self, brand, model, year):\n",
        "        # self.__brand = brand  # Encapsulate with double underscore #private attribute\n",
        "        self.__brand = brand\n",
        "        self.model = model\n",
        "        self.year = year\n",
        "\n",
        "    def get_brand(self):  # Public method to access private attribute\n",
        "        return self.__brand\n",
        "\n",
        "    def accelerate(self):\n",
        "        print(f\"The {self.model} is accelerating!\")\n",
        "\n",
        "# Create a Car object\n",
        "my_car = Car(\"Tesla\", \"Model S\", 2023)\n",
        "\n",
        "# Access public attribute\n",
        "print(my_car.model)  # Output: Model S\n",
        "\n",
        "print(my_car.get_brand())  # Output: Tesla\n"
      ]
    },
    {
      "cell_type": "code",
      "source": [
        "#POLYMORPHISM\n",
        "\n",
        "class Animal: #parent class\n",
        "    def make_sound(self):\n",
        "        print(\"Generic animal sound\")\n",
        "\n",
        "class Dog(Animal): #subclass \"dog\" inheriting from Animal  #subclasss - dog inherting from \"Animal\" class\n",
        "    def make_sound(self):\n",
        "        print(\"Woof!\")\n",
        "\n",
        "\n",
        "class Cat(Animal): #subclass \"cat\" inheriting from parent class \"Animal\"\n",
        "    def make_sound(self):\n",
        "        print(\"Meow!\")\n",
        "\n",
        "\n",
        "def speak(animal): #speak - method responsible for polymorphism, animal : object\n",
        "    animal.make_sound()  # Polymorphic behavior\n",
        "\n",
        "# Create Animal objects\n",
        "dog = Dog()\n",
        "cat = Cat()\n",
        "\n",
        "speak(dog)  # Output: Woof!\n",
        "speak(cat)  # Output: Meow!\n"
      ],
      "metadata": {
        "colab": {
          "base_uri": "https://localhost:8080/"
        },
        "id": "NfdFOEd1Rqiw",
        "outputId": "910c4610-8bae-4055-de9f-34801623f815"
      },
      "execution_count": null,
      "outputs": [
        {
          "output_type": "stream",
          "name": "stdout",
          "text": [
            "Woof!\n",
            "Meow!\n"
          ]
        }
      ]
    },
    {
      "cell_type": "code",
      "source": [
        "#SINGLE LEVEL INHERITANCE - one base class/ one dervied class\n",
        "\n",
        "# Base class\n",
        "class Animal:\n",
        "    def speak(self):\n",
        "        print(\"Animal speaks\")\n",
        "\n",
        "# Derived class\n",
        "class Dog(Animal):\n",
        "    def bark(self):\n",
        "        print(\"Dog barks\")\n",
        "\n",
        "# Create an instance of Dog\n",
        "dog = Dog()\n",
        "dog.speak()  # Inherited method #output - animal speaks\n",
        "dog.bark()   # Method of Dog class\n"
      ],
      "metadata": {
        "colab": {
          "base_uri": "https://localhost:8080/"
        },
        "id": "Uc5f2fVKRyl1",
        "outputId": "5e6ae4da-a526-46a8-e414-0f42e90efb10"
      },
      "execution_count": null,
      "outputs": [
        {
          "output_type": "stream",
          "name": "stdout",
          "text": [
            "Animal speaks\n",
            "Dog barks\n"
          ]
        }
      ]
    },
    {
      "cell_type": "code",
      "source": [
        "#multi level inheritance\n",
        "\n",
        "# Base class #self - use to acessing the instances variables and methods\n",
        "class Animal:\n",
        "    def speak(self):\n",
        "        print(\"Animal speaks\")\n",
        "\n",
        "# Derived class\n",
        "class Dog(Animal):\n",
        "    def bark(self):\n",
        "        print(\"Dog barks\")\n",
        "\n",
        "# Further derived class\n",
        "class Puppy(Dog):\n",
        "    def cry(self):\n",
        "        print(\"Puppy cries\")\n",
        "\n",
        "\n",
        "# Create an instance of Puppy\n",
        "puppy = Puppy()\n",
        "\n",
        "puppy.speak()  # Inherited from Animal\n",
        "puppy.bark()   # Inherited from Dog\n",
        "puppy.cry()    # Method of Puppy class\n"
      ],
      "metadata": {
        "colab": {
          "base_uri": "https://localhost:8080/"
        },
        "id": "vlwyG9xzrmjH",
        "outputId": "f3e7b182-cfb5-41d2-b590-31d566969049"
      },
      "execution_count": null,
      "outputs": [
        {
          "output_type": "stream",
          "name": "stdout",
          "text": [
            "Animal speaks\n",
            "Dog barks\n",
            "Puppy cries\n"
          ]
        }
      ]
    },
    {
      "cell_type": "code",
      "source": [
        "#METHOD OVERRIDING\n",
        "\n",
        "class Animal :\n",
        "  def make_sound (self) :\n",
        "    return \"generic\"\n",
        "\n",
        "class Dog(Animal):\n",
        "  def make_sound(self):\n",
        "    return \"woof\"\n",
        "\n",
        "class Cat(Animal):\n",
        "  def make_sound (self):\n",
        "    return \"meow\"\n",
        "\n",
        "# ques - do all the print statement will get printed in output ?\n",
        "\n",
        "# make instance+call instance\n",
        "\n",
        "dog=Dog()\n",
        "cat=Cat()\n",
        "\n",
        "print(dog.make_sound())\n",
        "print(cat.make_sound())\n",
        "\n"
      ],
      "metadata": {
        "colab": {
          "base_uri": "https://localhost:8080/"
        },
        "id": "bzXiie964nw4",
        "outputId": "c61623a7-6031-475b-866d-69cb46ed3d70"
      },
      "execution_count": null,
      "outputs": [
        {
          "output_type": "stream",
          "name": "stdout",
          "text": [
            "woof\n",
            "meow\n"
          ]
        }
      ]
    },
    {
      "cell_type": "code",
      "source": [
        "#multiple level\n",
        "\n",
        "# Base class 1\n",
        "class Father:\n",
        "    def skills(self):\n",
        "        print(\"Father's skills\")\n",
        "\n",
        "# Base class 2\n",
        "class Mother:\n",
        "    def skills(self):\n",
        "        print(\"Mother's skills\")\n",
        "\n",
        "# Derived class\n",
        "class Child(Father, Mother): #multiple level inheritance going on here!\n",
        "    def skills(self):\n",
        "        super().skills()  # Calls the first class in the MRO (Method Resolution Order)\n",
        "        print(\"Child's skills\")\n",
        "\n",
        "# Create an instance of Child\n",
        "child = Child()\n",
        "mother = Mother()\n",
        "child.skills()  # This will call Child's skills method\n",
        "\n"
      ],
      "metadata": {
        "colab": {
          "base_uri": "https://localhost:8080/"
        },
        "id": "abUWgpDxrtHb",
        "outputId": "7f7bec31-2ae0-4441-aead-da0a5c19e96d"
      },
      "execution_count": null,
      "outputs": [
        {
          "output_type": "stream",
          "name": "stdout",
          "text": [
            "Father's skills\n",
            "Child's skills\n",
            "Mother's skills\n"
          ]
        }
      ]
    },
    {
      "cell_type": "code",
      "source": [
        "#hierarichail\n",
        "\n",
        "# Base class\n",
        "class Animal:\n",
        "    def speak(self):\n",
        "        print(\"Animal speaks\")\n",
        "\n",
        "# Derived class 1\n",
        "class Dog(Animal):\n",
        "    def bark(self):\n",
        "        print(\"Dog barks\")\n",
        "\n",
        "# Derived class 2\n",
        "class Cat(Animal):\n",
        "    def meow(self):\n",
        "        print(\"Cat meows\")\n",
        "\n",
        "# Create instances of Dog and Cat\n",
        "dog = Dog()\n",
        "cat = Cat()\n",
        "\n",
        "dog.speak()  # Inherited method calls\n",
        "dog.bark()   # Method of Dog class\n",
        "\n",
        "cat.speak()  # Inherited method\n",
        "cat.meow()   # Method of Cat class\n"
      ],
      "metadata": {
        "colab": {
          "base_uri": "https://localhost:8080/"
        },
        "id": "WFCz5FzbsBsH",
        "outputId": "889fe8b8-be5a-4924-9146-80ce62be83e0"
      },
      "execution_count": null,
      "outputs": [
        {
          "output_type": "stream",
          "name": "stdout",
          "text": [
            "Animal speaks\n",
            "Dog barks\n",
            "Animal speaks\n",
            "Cat meows\n"
          ]
        }
      ]
    }
  ]
}