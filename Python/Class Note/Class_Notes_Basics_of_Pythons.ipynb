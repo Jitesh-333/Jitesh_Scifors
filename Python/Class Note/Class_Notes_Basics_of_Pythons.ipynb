{
  "nbformat": 4,
  "nbformat_minor": 0,
  "metadata": {
    "colab": {
      "provenance": []
    },
    "kernelspec": {
      "name": "python3",
      "display_name": "Python 3"
    },
    "language_info": {
      "name": "python"
    }
  },
  "cells": [
    {
      "cell_type": "markdown",
      "source": [
        "**Variables**, **Expression**, **and** **Standards**\n",
        "\n",
        "\n",
        "*   Fixes values such as numbers, letters, and Strings are called constants because their values does not change\n",
        "*   String Constants use singles (') or (\") double quotes.\n",
        "\n"
      ],
      "metadata": {
        "id": "sJi1stKU1sk-"
      }
    },
    {
      "cell_type": "code",
      "source": [
        "print(\"Hello Jitesh welcome back, Do well\")"
      ],
      "metadata": {
        "colab": {
          "base_uri": "https://localhost:8080/"
        },
        "id": "IsyAV2mU1k8s",
        "outputId": "1a26f790-0326-4d44-8cc0-0dd7cdfe1efe"
      },
      "execution_count": null,
      "outputs": [
        {
          "output_type": "stream",
          "name": "stdout",
          "text": [
            "Hello Jitesh welcome back, Do well\n"
          ]
        }
      ]
    },
    {
      "cell_type": "code",
      "source": [
        "print(98*98*98*8)"
      ],
      "metadata": {
        "colab": {
          "base_uri": "https://localhost:8080/"
        },
        "id": "t2FOoxkg3KwZ",
        "outputId": "42bf3da4-1cce-4a4f-ccf1-16dadde6d488"
      },
      "execution_count": null,
      "outputs": [
        {
          "output_type": "stream",
          "name": "stdout",
          "text": [
            "7529536\n"
          ]
        }
      ]
    },
    {
      "cell_type": "code",
      "source": [],
      "metadata": {
        "id": "zf3Gdphh3WoO"
      },
      "execution_count": null,
      "outputs": []
    },
    {
      "cell_type": "markdown",
      "source": [
        "****RESERVE WORDS****\n",
        "\n",
        "\n",
        "**False, class, return, is, finally, None, if, for, lambda, continue, True, def, from, white, nonlocal, and, global, not, with, as elif, try, or, yield, assest, else, import, pass, break, except, in, raise**"
      ],
      "metadata": {
        "id": "kV1qZuMT3iS8"
      }
    },
    {
      "cell_type": "markdown",
      "source": [
        "****VARIABLES****\n",
        "\n",
        "\n",
        "*   A variable is a named place in the memory where a programmer can store data later retrive the data using the variable \"name\"\n",
        "*   Programmers get to choose the name of the variables\n",
        "\n",
        "*   You can change the contents of a variable in a later statements\n",
        "\n",
        "\n",
        "\n",
        "\n",
        "\n"
      ],
      "metadata": {
        "id": "CBvoi4HK8Xj6"
      }
    },
    {
      "cell_type": "code",
      "source": [
        "x = 12.2\n",
        "y = 14\n",
        "print(x,y)"
      ],
      "metadata": {
        "colab": {
          "base_uri": "https://localhost:8080/"
        },
        "id": "Nlm3oHEG4v6l",
        "outputId": "c9b905f5-abb4-4938-fbfe-20b673589f98"
      },
      "execution_count": null,
      "outputs": [
        {
          "output_type": "stream",
          "name": "stdout",
          "text": [
            "12.2 14\n"
          ]
        }
      ]
    },
    {
      "cell_type": "code",
      "source": [
        "x = 144\n",
        "y = 14\n",
        "print(x,y)"
      ],
      "metadata": {
        "colab": {
          "base_uri": "https://localhost:8080/"
        },
        "id": "kPSHx5J59iAB",
        "outputId": "a2108d9e-adc5-4024-f11f-521d71cd50da"
      },
      "execution_count": null,
      "outputs": [
        {
          "output_type": "stream",
          "name": "stdout",
          "text": [
            "144 14\n"
          ]
        }
      ]
    },
    {
      "cell_type": "markdown",
      "source": [
        "\n",
        "\n",
        "> **Python variable Name rules**\n",
        "\n",
        "\n",
        "1.   Must start with a letter or underscore_\n",
        "2.   Must consists of a letters, numbers and underscores\n",
        "\n",
        "1.   Case sensitive\n",
        "\n",
        "**GOOD** : spam, eggs, spam23 _spam\n",
        "\n",
        "**BAD** : 23spam,   #sign, var.12\n",
        "\n",
        "**DIFFERENT** : Spam, spam, SPAM\n",
        "\n",
        "\n",
        "\n",
        "\n",
        "\n"
      ],
      "metadata": {
        "id": "D599bOKb-Rnb"
      }
    },
    {
      "cell_type": "markdown",
      "source": [
        "##**ASSIGMENT STATEMENTS**\n",
        "\n",
        "We assign a value to a variable using the assignment statements (=)\n",
        "\n",
        "An assignments statements consists of an expression on the right hand side and a variable to store the results."
      ],
      "metadata": {
        "id": "iTVXh4QEGJc4"
      }
    },
    {
      "cell_type": "code",
      "source": [
        "x = 3.9*0.6*(1-0.6)\n",
        "print(x)"
      ],
      "metadata": {
        "id": "umu3k1Ki_6f7",
        "colab": {
          "base_uri": "https://localhost:8080/"
        },
        "outputId": "6a03460e-3924-489e-9bc7-b617f6fa9986"
      },
      "execution_count": null,
      "outputs": [
        {
          "output_type": "stream",
          "name": "stdout",
          "text": [
            "0.9359999999999999\n"
          ]
        }
      ]
    },
    {
      "cell_type": "markdown",
      "source": [
        "##**Order of Evaluation**\n",
        "\n",
        "\n",
        "\n",
        "1.   Parenthesis are always respected\n",
        "2.   Exponentation( Raise to a power)\n",
        "\n",
        "1.   Multiplication, Division and Remainder\n",
        "2.   Addition & substraction\n",
        "\n",
        "1.   Left to right\n",
        "\n",
        "\n",
        "\n",
        "\n",
        "\n",
        "\n",
        "\n"
      ],
      "metadata": {
        "id": "Y9CZ90-GJMNU"
      }
    },
    {
      "cell_type": "code",
      "source": [
        "inp = input('Write lift number of europe:')\n",
        "usf = int(inp)+1\n",
        "print('us floor', usf)"
      ],
      "metadata": {
        "colab": {
          "base_uri": "https://localhost:8080/"
        },
        "id": "1PWevyxsJH2A",
        "outputId": "3513094a-3f04-4aad-fb38-b8ff428f69b9"
      },
      "execution_count": null,
      "outputs": [
        {
          "output_type": "stream",
          "name": "stdout",
          "text": [
            "Write lift number of europe:66\n",
            "us floor 67\n"
          ]
        }
      ]
    },
    {
      "cell_type": "markdown",
      "source": [
        "##**CONDITIONAL EXECUTION**\n",
        "Boolean expressions ask a question and produce True or False\n",
        "\n",
        "\n",
        "*   \">\" less than\n",
        "*   \">=\" less than or equal to\n",
        "\n",
        "*   \"==\" equal to\n",
        "\n",
        "*   \"<\" greater than\n",
        "*   \"<=\" greater than or equal to\n",
        "\n",
        "\n",
        "*   \"!=\" Not equal\n",
        "\n",
        "\n",
        "\n",
        "\n"
      ],
      "metadata": {
        "id": "4KOLsc-P4GXD"
      }
    },
    {
      "cell_type": "markdown",
      "source": [
        "##**INDENTATION**\n",
        "\n",
        "\n",
        "*   **Increase indent** indent after an if statement or for statement (after:)\n",
        "*  **Maintain indent** to indicate the scope of the block(which lines are effected by the if/for)\n",
        "\n",
        "*   **Reduce indent** back to the level of the if statement or for statement to indicate the end of the block\n",
        "*   **Blank lines** are ignored- they do not affect identation\n",
        "\n",
        "*   **Comments** on a line by themselves are ignored with regard to identation\n",
        "\n",
        "\n",
        "\n",
        "\n",
        "\n",
        "\n"
      ],
      "metadata": {
        "id": "mXR3GFOn-EZb"
      }
    },
    {
      "cell_type": "code",
      "source": [
        "inp = int(input(\"enter an integer\"))\n",
        "x = inp\n",
        "if x==5:\n",
        "  print(x)\n",
        "elif x<5:\n",
        "  print(x,'is less than 5')\n",
        "else:\n",
        "  print(x, 'is greater than 5')\n"
      ],
      "metadata": {
        "colab": {
          "base_uri": "https://localhost:8080/"
        },
        "id": "D8jcEcOyHy0t",
        "outputId": "08cd65fa-fa67-4641-8f9e-4c53e6b8c611"
      },
      "execution_count": null,
      "outputs": [
        {
          "output_type": "stream",
          "name": "stdout",
          "text": [
            "enter an integer-2\n",
            "-2 is less than 5\n"
          ]
        }
      ]
    },
    {
      "cell_type": "markdown",
      "source": [
        "##**The Try and Except Statements**##\n",
        "\n",
        "\n",
        "*   You surround a dangerous section of code with try and except\n",
        "*   If the code in the try works- the except is skipped\n",
        "\n",
        "*   If the code in the try fails- it jumps to the except section\n",
        "\n",
        "\n",
        "\n"
      ],
      "metadata": {
        "id": "UFpCw12RqjsF"
      }
    },
    {
      "cell_type": "code",
      "source": [
        "astr = \"Hello Jitesh\"\n",
        "try:\n",
        "  istr = int(astr)\n",
        "except:\n",
        "  istr = -1\n",
        "print(\"first\", istr)"
      ],
      "metadata": {
        "id": "bXCQWckVExIl",
        "colab": {
          "base_uri": "https://localhost:8080/"
        },
        "outputId": "d41d3aa9-bd1d-492a-b7ab-637a46f0b15d"
      },
      "execution_count": null,
      "outputs": [
        {
          "output_type": "stream",
          "name": "stdout",
          "text": [
            "first -1\n"
          ]
        }
      ]
    },
    {
      "cell_type": "code",
      "source": [
        "astr = \"123\"\n",
        "try:\n",
        "  istr = int(astr)\n",
        "except:\n",
        "  istr = -1\n",
        "print('second',istr)"
      ],
      "metadata": {
        "colab": {
          "base_uri": "https://localhost:8080/"
        },
        "id": "F8yKygiuvLLk",
        "outputId": "47544b42-b01b-4e26-910a-185e2d65408c"
      },
      "execution_count": null,
      "outputs": [
        {
          "output_type": "stream",
          "name": "stdout",
          "text": [
            "second 123\n"
          ]
        }
      ]
    },
    {
      "cell_type": "code",
      "source": [
        "astr = \"Hello Jitesh\"\n",
        "try:\n",
        "  print(\"I am here\")\n",
        "  istr = int(astr)\n",
        "  print(\"I am after blown of code\")        #Beware of this technique as soon as try statements gets executed and it gets false,\n",
        "                                            #python will move directly to except: whether there is line of code or not.\n",
        "except:\n",
        "  istr = -1\n",
        "print(\"first\", istr)"
      ],
      "metadata": {
        "colab": {
          "base_uri": "https://localhost:8080/"
        },
        "id": "kAaIHMVBvrAZ",
        "outputId": "e7fca2dd-093e-495c-de9f-e4d253733602"
      },
      "execution_count": null,
      "outputs": [
        {
          "output_type": "stream",
          "name": "stdout",
          "text": [
            "I am here\n",
            "first -1\n"
          ]
        }
      ]
    },
    {
      "cell_type": "code",
      "source": [
        "rstr = input(\"Enter a number: \")\n",
        "\n",
        "try:\n",
        "    istr = int(rstr)\n",
        "except ValueError:\n",
        "    print(\"Not a number\")\n",
        "else:\n",
        "    if istr >= 0:\n",
        "        print(\"Entered numered is a positive\", istr)\n",
        "    elif istr < 0:\n",
        "        print(\"Entered number is negative\", istr)\n"
      ],
      "metadata": {
        "colab": {
          "base_uri": "https://localhost:8080/"
        },
        "id": "kykSFjlyzmQE",
        "outputId": "e036b84d-79b0-4dcf-fd8a-d7751c2cacc9"
      },
      "execution_count": null,
      "outputs": [
        {
          "output_type": "stream",
          "name": "stdout",
          "text": [
            "Enter a number: -222222\n",
            "Entered number is negative -222222\n"
          ]
        }
      ]
    },
    {
      "cell_type": "code",
      "source": [
        "rstr = input(\"Enter a number: \")\n",
        "try:\n",
        "    istr = int(rstr)\n",
        "except ValueError:\n",
        "    istr = -1\n",
        "\n",
        "if istr == -1:\n",
        "    print(\"Not a number\")\n",
        "elif istr >= 0:\n",
        "    print(\"Entered a positive number\", istr)\n",
        "else:\n",
        "    print(\"Entered number is negative\", istr)\n"
      ],
      "metadata": {
        "colab": {
          "base_uri": "https://localhost:8080/"
        },
        "id": "egH7P5g207Zr",
        "outputId": "03141735-f304-41a6-a802-e0f264b13380"
      },
      "execution_count": null,
      "outputs": [
        {
          "output_type": "stream",
          "name": "stdout",
          "text": [
            "Enter a number: -1\n",
            "Not a number\n"
          ]
        }
      ]
    },
    {
      "cell_type": "markdown",
      "source": [
        "##**PYTHON FUNCTION**##\n",
        "\n",
        "\n",
        "*   There are two kinds of functions in python.\n",
        "    \n",
        "*   Built_in function that are provided as a part of python- print(),input(),\n",
        "type(),float(),int()\n",
        "        \n",
        "* Functions that we define ourself and then use\n",
        "\n",
        "*  We treat buit-in function words as a new reserve word\n",
        "\n"
      ],
      "metadata": {
        "id": "Y85fIMP1l3As"
      }
    },
    {
      "cell_type": "markdown",
      "source": [
        "##**FUNCTION DEFINITION**##\n",
        "\n",
        "*   A function is some reusable code that takes arguments(s) as input and then returns a result or results\n",
        "* We call/invoke the functions by using the function name, parenthesis, and arguements in an expression\n",
        "* We define function by using reserve word def:\n",
        "\n"
      ],
      "metadata": {
        "id": "jl1UnYRln5a3"
      }
    },
    {
      "cell_type": "code",
      "source": [
        "big= max(\"Hello world\")\n",
        "print(big)\n"
      ],
      "metadata": {
        "colab": {
          "base_uri": "https://localhost:8080/"
        },
        "id": "TL9q8iYc5h9R",
        "outputId": "2ead3636-7998-4c60-e158-7059f97458c6"
      },
      "execution_count": null,
      "outputs": [
        {
          "output_type": "stream",
          "name": "stdout",
          "text": [
            "w\n",
            " \n"
          ]
        }
      ]
    },
    {
      "cell_type": "code",
      "source": [
        "tiny = min(\"Helloworld\")\n",
        "print(tiny)"
      ],
      "metadata": {
        "colab": {
          "base_uri": "https://localhost:8080/"
        },
        "id": "tztrbhjGpuKu",
        "outputId": "e1cc045e-1b48-441c-c558-e5c1828f8710"
      },
      "execution_count": null,
      "outputs": [
        {
          "output_type": "stream",
          "name": "stdout",
          "text": [
            "H\n"
          ]
        }
      ]
    },
    {
      "cell_type": "markdown",
      "source": [
        "##**ARGUEMENTS**\n",
        "\n",
        "\n",
        "\n",
        "*   An arguements is a value we pass into the function as its input when we call the function.\n",
        "*   We use arguements so we can direct the function to do different kinds of work when we call it at different times\n",
        "*   We put arguements in the parantheses after the name of the function.\n",
        "\n"
      ],
      "metadata": {
        "id": "Q5pL-U5fl2cv"
      }
    },
    {
      "cell_type": "markdown",
      "source": [
        "##**PARAMETERS**  \n",
        "\n",
        "A parametre is a variable which we use in the function definition. It is a \"handle\" that allows the codes in the function to access the arguemnets for a particular function invocations."
      ],
      "metadata": {
        "id": "kZuwCJoI1x44"
      }
    },
    {
      "cell_type": "code",
      "source": [
        "def greet(lang):\n",
        "  if lang == 'es':\n",
        "    print(\"hello\")\n",
        "  elif lang == \"hindi\":\n",
        "    print(\"Namaste\")\n",
        "  else:\n",
        "    print(\"Hello how are u\")\n",
        "\n",
        "print(greet(\"h\"))"
      ],
      "metadata": {
        "colab": {
          "base_uri": "https://localhost:8080/"
        },
        "id": "k6hvWk941j0u",
        "outputId": "109e2835-e0bd-4866-e323-c06b349b5e6a"
      },
      "execution_count": null,
      "outputs": [
        {
          "output_type": "stream",
          "name": "stdout",
          "text": [
            "Hello how are u\n",
            "None\n"
          ]
        }
      ]
    },
    {
      "cell_type": "markdown",
      "source": [
        "##**RETURN VALUES**\n",
        "\n",
        "often a function will takes its arguements, do some computation and return a value to be used as a value of the function call in the calling expression."
      ],
      "metadata": {
        "id": "E4YQzPR14lcc"
      }
    },
    {
      "cell_type": "code",
      "source": [
        "def greet():\n",
        "  return \"hello\"\n",
        "\n",
        "print(greet(), \"Jitesh\")\n",
        "print(greet(), \"Anoop\")"
      ],
      "metadata": {
        "colab": {
          "base_uri": "https://localhost:8080/"
        },
        "id": "ZdkJC5TI3oCv",
        "outputId": "ad93fd38-9104-4c74-92a1-7acfbba6bd62"
      },
      "execution_count": null,
      "outputs": [
        {
          "output_type": "stream",
          "name": "stdout",
          "text": [
            "hello Jitesh\n",
            "hello Anoop\n"
          ]
        }
      ]
    },
    {
      "cell_type": "markdown",
      "source": [
        "##**LOOPS AND ITERATIONS**\n",
        "\n",
        "**LOOPS**   have iterabale variables that change each time through a loop. Often these iterations variables go through a sequences of numbers"
      ],
      "metadata": {
        "id": "ATuzJ_Cg9Uvg"
      }
    },
    {
      "cell_type": "code",
      "source": [
        "n=5\n",
        "while n>0:\n",
        "  print(n)\n",
        "  n=n-1\n",
        "print(\"done\",n)"
      ],
      "metadata": {
        "colab": {
          "base_uri": "https://localhost:8080/"
        },
        "id": "QqvRoM3V54PI",
        "outputId": "bb9fdff0-4a5e-4ec6-8b62-8f2751395f97"
      },
      "execution_count": null,
      "outputs": [
        {
          "output_type": "stream",
          "name": "stdout",
          "text": [
            "5\n",
            "4\n",
            "3\n",
            "2\n",
            "1\n",
            "done 0\n"
          ]
        }
      ]
    },
    {
      "cell_type": "markdown",
      "source": [
        "##**BREAKING OUT OF LOOP**\n",
        "\n",
        "\n",
        "*   The break statements ends the current loop and jumps to the statements immediately following the loop\n",
        "*   It is like a loop test that can happen anywhere in the body of the loop\n",
        "\n"
      ],
      "metadata": {
        "id": "lgUtaf2OAUaj"
      }
    },
    {
      "cell_type": "code",
      "source": [
        "while True:\n",
        "  line = input('>')\n",
        "  if line ==\"done\":\n",
        "     break\n",
        "  print(line)\n",
        "print(\"done\")"
      ],
      "metadata": {
        "colab": {
          "base_uri": "https://localhost:8080/"
        },
        "id": "xZ5KBC6D-NC9",
        "outputId": "3628c2bc-e3d9-4a0e-d691-54701a695798"
      },
      "execution_count": null,
      "outputs": [
        {
          "output_type": "stream",
          "name": "stdout",
          "text": [
            ">I love my india \n",
            "I love my india \n",
            ">RCB\n",
            "RCB\n",
            ">DONE\n",
            "DONE\n",
            ">done\n",
            "done\n"
          ]
        }
      ]
    },
    {
      "cell_type": "markdown",
      "source": [
        "##**FINISHING AN ITERATIONS WITH CONTINUE**\n",
        "\n",
        "The contniue statements ends the current iterations and jumps to the top of the loops and statrs the next iterations"
      ],
      "metadata": {
        "id": "YIjO-dh3Dxqs"
      }
    },
    {
      "cell_type": "code",
      "source": [
        "while True:\n",
        "  line = input('>')\n",
        "  if line[0] == \"#\":\n",
        "    continue\n",
        "  if line == \"done\":\n",
        "    break\n",
        "  print(line)\n",
        "print(\"completed\")"
      ],
      "metadata": {
        "colab": {
          "base_uri": "https://localhost:8080/"
        },
        "id": "6NAK_CGJClKW",
        "outputId": "dd2b04a8-8ffc-4bdb-b286-dbbfb55241b5"
      },
      "execution_count": null,
      "outputs": [
        {
          "output_type": "stream",
          "name": "stdout",
          "text": [
            ">#Eeee\n",
            ">FFF\n",
            "FFF\n",
            ">#HHHDGH\n",
            ">done\n",
            "completed\n"
          ]
        }
      ]
    },
    {
      "cell_type": "markdown",
      "source": [
        "##**INDEFINITE LOOPS**\n",
        "\n",
        "\n",
        "*   While loops are called \"indefinite loops\" because they keep going until a logical condition becomes False\n",
        "*   The loops we have seen so far are pretty easy to examine to see if they will terminate or if they will be \"infinte loops\"\n",
        "* Sometimes it is a little harder to be sure if a loop will terminate\n",
        "\n"
      ],
      "metadata": {
        "id": "PYb2dQCfFzli"
      }
    },
    {
      "cell_type": "markdown",
      "source": [
        "##**DEFINITE LOOPS**\n",
        "\n",
        "\n",
        "*   Quite often we have a list of items of the lines in a file - effectiviely a finite set of things.\n",
        "*   We can write a loop to run the loop once for each of the items in a set using python for construct.\n",
        "* These loops are called definite loops because they execute an exact number of times.\n",
        "* We say that \" definite loops iterate through the members of a set.\n",
        "\n"
      ],
      "metadata": {
        "id": "Eq-VhiWRIMyt"
      }
    },
    {
      "cell_type": "code",
      "source": [
        "for i in range(1,10):\n",
        "  print(i**2)\n",
        "print(\"out of the loop\")"
      ],
      "metadata": {
        "colab": {
          "base_uri": "https://localhost:8080/"
        },
        "id": "FdM4mjk7FT3V",
        "outputId": "4869d12e-5171-4bd4-f3f7-e5639cc8e85f"
      },
      "execution_count": null,
      "outputs": [
        {
          "output_type": "stream",
          "name": "stdout",
          "text": [
            "1\n",
            "4\n",
            "9\n",
            "16\n",
            "25\n",
            "36\n",
            "49\n",
            "64\n",
            "81\n",
            "out of the loop\n"
          ]
        }
      ]
    },
    {
      "cell_type": "code",
      "source": [
        "friends = ['Abhishek', 'Anoop', 'Ravi B']\n",
        "for i in friends:\n",
        "  print(\"Happy new year\", i)\n",
        "print('Done doing this')"
      ],
      "metadata": {
        "colab": {
          "base_uri": "https://localhost:8080/"
        },
        "id": "iP1F1b08J3C9",
        "outputId": "245d0c7d-7a6d-466e-ca1d-ca65591a75d8"
      },
      "execution_count": null,
      "outputs": [
        {
          "output_type": "stream",
          "name": "stdout",
          "text": [
            "Happy new year Abhishek\n",
            "Happy new year Anoop\n",
            "Happy new year Ravi B\n",
            "Done doing this\n"
          ]
        }
      ]
    },
    {
      "cell_type": "code",
      "source": [
        "#2:32:34"
      ],
      "metadata": {
        "id": "7UKvOuGOKvTm"
      },
      "execution_count": null,
      "outputs": []
    },
    {
      "cell_type": "code",
      "source": [
        "#write a function to find factorial of a given number\n",
        "\n",
        "def factorial(n):\n",
        "  if n<0:\n",
        "    return \"factorial is not possible for negative number\"\n",
        "  elif n ==0 or n ==1:\n",
        "    return \" factorial is 1\"\n",
        "  else:\n",
        "    result =1\n",
        "    for i in range(2, n+1):\n",
        "      result = result *i\n",
        "    return result\n",
        "\n",
        "inp = int(input(\"Write a number to calculate the factorial:\"))\n",
        "fact = factorial(inp)\n",
        "print(\"the factorial of a given number\",inp,\"is\",fact)"
      ],
      "metadata": {
        "colab": {
          "base_uri": "https://localhost:8080/"
        },
        "id": "jVJZCluVyLc0",
        "outputId": "98326fd3-c3cf-4696-a812-d9eafd43a086"
      },
      "execution_count": null,
      "outputs": [
        {
          "output_type": "stream",
          "name": "stdout",
          "text": [
            "Write a number to calculate the factorial:5\n",
            "the factorial of a given number 5 is 120\n"
          ]
        }
      ]
    },
    {
      "cell_type": "code",
      "source": [
        "# Write a function that takes two numbers and returns\n",
        "def add(a,b):\n",
        "  return (a+b)\n",
        "\n",
        "print(add(44,4))"
      ],
      "metadata": {
        "colab": {
          "base_uri": "https://localhost:8080/"
        },
        "id": "Nb-Buj5P0Vq6",
        "outputId": "5f9d6165-13e3-4976-ba4a-f81e8f8804c2"
      },
      "execution_count": null,
      "outputs": [
        {
          "output_type": "stream",
          "name": "stdout",
          "text": [
            "48\n"
          ]
        }
      ]
    },
    {
      "cell_type": "code",
      "source": [
        "# Write a function is_even that takes a number\n",
        "def is_even(n):\n",
        "  if n%2==0:\n",
        "    return \"Number is even\"\n",
        "  else:\n",
        "    return \"number is odd\"\n",
        "\n",
        "inp = int(input(\"write a number to check whwteher it is even or odd:\"))\n",
        "chec = is_even(inp)\n",
        "print(chec)\n"
      ],
      "metadata": {
        "colab": {
          "base_uri": "https://localhost:8080/"
        },
        "id": "lTScFVb83uX7",
        "outputId": "e9497f6f-1ba7-485b-ba41-44827c68b794"
      },
      "execution_count": null,
      "outputs": [
        {
          "output_type": "stream",
          "name": "stdout",
          "text": [
            "write a number to check whwteher it is even or odd:7\n",
            "number is odd\n"
          ]
        }
      ]
    },
    {
      "cell_type": "code",
      "source": [
        "#Write a function is_prime(n) that checks if a given number n is a prime number.\n",
        "\n",
        "def is_prime(n):\n",
        "  if n == 1:\n",
        "    return False\n",
        "  for i in range(2,n):\n",
        "    if n%i ==0:\n",
        "      return False\n",
        "    else:\n",
        "      return True\n",
        "inp = int(input(\"Write a number to check whether it is prime or not:\"))\n",
        "chec= is_prime(inp)\n",
        "print(chec)"
      ],
      "metadata": {
        "colab": {
          "base_uri": "https://localhost:8080/"
        },
        "id": "YSsO2NkW5iSC",
        "outputId": "c4e39e39-2834-48b7-9207-3f83f1aaf573"
      },
      "execution_count": null,
      "outputs": [
        {
          "output_type": "stream",
          "name": "stdout",
          "text": [
            "Write a number to check whether it is prime or not:3\n",
            "True\n"
          ]
        }
      ]
    },
    {
      "cell_type": "code",
      "source": [
        "def factorial(n):\n",
        "  if n<0:\n",
        "    return \"Factorial of negative number is not defined\"\n",
        "  if n ==0 or n ==1:\n",
        "    return 1\n",
        "  else:\n",
        "    return n*factorial(n-1)\n",
        "inp = int(input(\"enter num to compute factorial:\"))\n",
        "print(factorial(inp))"
      ],
      "metadata": {
        "colab": {
          "base_uri": "https://localhost:8080/"
        },
        "id": "7nuo1a0d92i6",
        "outputId": "10126e0f-233d-4466-b2a6-1cb2221ace28"
      },
      "execution_count": null,
      "outputs": [
        {
          "output_type": "stream",
          "name": "stdout",
          "text": [
            "enter num to compute factorial:-5\n",
            "Factorial of negative number is not defined\n"
          ]
        }
      ]
    },
    {
      "cell_type": "code",
      "source": [
        "def fibannouci(n):\n",
        "  if n ==0:\n",
        "    return 0\n",
        "  if n==1:\n",
        "    return 1\n",
        "  else:\n",
        "    return fibannouci(n-1) + fibannouci(n-2)\n",
        "inp = int(input(\"enter n:\"))\n",
        "print(fibannouci(inp))"
      ],
      "metadata": {
        "colab": {
          "base_uri": "https://localhost:8080/"
        },
        "id": "LUFg-VJOiXOO",
        "outputId": "471eddfe-9cd2-4ab3-a6ce-7b5fc89bb014"
      },
      "execution_count": null,
      "outputs": [
        {
          "output_type": "stream",
          "name": "stdout",
          "text": [
            "enter n:2\n",
            "1\n"
          ]
        }
      ]
    },
    {
      "cell_type": "code",
      "source": [
        "def fact(n):\n",
        "  if n<0:\n",
        "    return \"factorial of negative number is not defined\"\n",
        "  elif n==0 or n==1:\n",
        "      return 1\n",
        "  else:\n",
        "    result =1\n",
        "    for i in range(2,n+1):\n",
        "      result = result *i\n",
        "      print(result)\n",
        "\n"
      ],
      "metadata": {
        "id": "6aWWtQmIpvyX"
      },
      "execution_count": null,
      "outputs": []
    },
    {
      "cell_type": "code",
      "source": [
        "def factorial(n):\n",
        "  if n<0:\n",
        "    return \"factorial is not defined for negative number\"\n",
        "  elif n==0 or n==1:\n",
        "    return 1\n",
        "  else:\n",
        "    return n*factorial(n-1)\n",
        "inp = int(input(\"Enter number to compute factorial:\"))\n",
        "print(factorial(inp))"
      ],
      "metadata": {
        "colab": {
          "base_uri": "https://localhost:8080/"
        },
        "id": "0bJIOiqdsxNU",
        "outputId": "57281a18-6d74-44f9-a382-91c4a799a905"
      },
      "execution_count": null,
      "outputs": [
        {
          "output_type": "stream",
          "name": "stdout",
          "text": [
            "Enter number to compute factorial:122\n",
            "98750442008336013624115798714482080125644041369783596059584700502676714572050143649033796427745042294071023050579626404736512939596842694895821378210620013388054747214795243520000000000000000000000000000\n"
          ]
        }
      ]
    },
    {
      "cell_type": "code",
      "source": [
        "def fibn(n):\n",
        "  if n == 0:\n",
        "    return 0\n",
        "  if n ==1:\n",
        "    return 1\n",
        "  else:\n",
        "    return fibn(n-1)+fibn(n-2)\n",
        "\n"
      ],
      "metadata": {
        "id": "uEJ6-_Spwy4J"
      },
      "execution_count": null,
      "outputs": []
    },
    {
      "cell_type": "code",
      "source": [
        "\n",
        "largest_num = -1\n",
        "for num in [9,14,13,3,74,15]:\n",
        "  if num > largest_num:\n",
        "    largest_num = num\n",
        "print(largest_num)\n",
        "print(\"after\")"
      ],
      "metadata": {
        "id": "vZHKVNv-1io2",
        "colab": {
          "base_uri": "https://localhost:8080/"
        },
        "outputId": "d5cffc9f-7714-4def-f087-a16184135d84"
      },
      "execution_count": null,
      "outputs": [
        {
          "output_type": "stream",
          "name": "stdout",
          "text": [
            "74\n",
            "after\n"
          ]
        }
      ]
    },
    {
      "cell_type": "markdown",
      "source": [
        "To count how many times we executed a loop, we introduce a counter variable that starts at 0 we add 1 to each time through the loop"
      ],
      "metadata": {
        "id": "kUgCsRslDE7U"
      }
    },
    {
      "cell_type": "code",
      "source": [
        "counter = 0\n",
        "for i in [9,14,13,3,74,15]:\n",
        "  counter +=1\n",
        "  print(counter, i)\n",
        "print(counter)"
      ],
      "metadata": {
        "colab": {
          "base_uri": "https://localhost:8080/"
        },
        "id": "8jO32iTA-yBT",
        "outputId": "79abaa18-a2d5-4565-bb3f-73b5da482322"
      },
      "execution_count": null,
      "outputs": [
        {
          "output_type": "stream",
          "name": "stdout",
          "text": [
            "1 9\n",
            "2 14\n",
            "3 13\n",
            "4 3\n",
            "5 74\n",
            "6 15\n",
            "6\n"
          ]
        }
      ]
    },
    {
      "cell_type": "code",
      "source": [
        "l =[9,14,13,3,74,15]\n",
        "sum=0\n",
        "for i in l:\n",
        "  sum = sum +i\n",
        "print(sum)"
      ],
      "metadata": {
        "id": "MD7qUJtkEB14",
        "colab": {
          "base_uri": "https://localhost:8080/"
        },
        "outputId": "85c2cb12-b6db-42b1-949e-0bdf45c7a4db"
      },
      "execution_count": null,
      "outputs": [
        {
          "output_type": "stream",
          "name": "stdout",
          "text": [
            "128\n"
          ]
        }
      ]
    },
    {
      "cell_type": "code",
      "source": [
        "# find largest number in a given series\n",
        "l = [9,14,13,3,74,15]\n",
        "compare = -1\n",
        "for i in l:\n",
        "  if i>compare:\n",
        "    compare = i\n",
        "print(compare)"
      ],
      "metadata": {
        "colab": {
          "base_uri": "https://localhost:8080/"
        },
        "id": "PDtf0ZQBWAiu",
        "outputId": "6d159f70-918d-4edf-8c85-c03c1eb94117"
      },
      "execution_count": null,
      "outputs": [
        {
          "output_type": "stream",
          "name": "stdout",
          "text": [
            "74\n"
          ]
        }
      ]
    },
    {
      "cell_type": "code",
      "source": [
        "#find the average in a loop\n",
        "l = [9,14,13,3,74,15]\n",
        "sum =0\n",
        "count =0\n",
        "for i in l:\n",
        "  count = count+1\n",
        "  sum =sum + i\n",
        "  print(count)\n",
        "  print(sum)\n",
        "print(count,sum,sum/count)"
      ],
      "metadata": {
        "colab": {
          "base_uri": "https://localhost:8080/"
        },
        "id": "YmDkE_35XtAB",
        "outputId": "3220aa67-e0b4-4052-e377-8f98dd5f41a7"
      },
      "execution_count": null,
      "outputs": [
        {
          "output_type": "stream",
          "name": "stdout",
          "text": [
            "1\n",
            "9\n",
            "2\n",
            "23\n",
            "3\n",
            "36\n",
            "4\n",
            "39\n",
            "5\n",
            "113\n",
            "6\n",
            "128\n",
            "6 128 21.333333333333332\n"
          ]
        }
      ]
    },
    {
      "cell_type": "code",
      "source": [
        "# find the number greater than 20 in the given lists.\n",
        "\n",
        "l = [9,14,13,3,4,5]\n",
        "\n",
        "for value in l:\n",
        "    if value >20:\n",
        "       print(value)\n",
        "if value <20 :\n",
        "  print('all num are less than 20')"
      ],
      "metadata": {
        "colab": {
          "base_uri": "https://localhost:8080/"
        },
        "id": "n3YmHo_nZo0r",
        "outputId": "3ddb5ecc-2bd2-4bcf-a2c9-7ad25d8e21f7"
      },
      "execution_count": null,
      "outputs": [
        {
          "output_type": "stream",
          "name": "stdout",
          "text": [
            "all num are less than 20 True\n"
          ]
        }
      ]
    },
    {
      "cell_type": "code",
      "source": [
        "#Search using boolean variable\n",
        "l = [9,14,13,3,4,5]\n",
        "\n",
        "found = False\n",
        "for num in l:\n",
        "  if num ==3:\n",
        "    found = True\n",
        "    print(found, num)\n",
        "print(\"After\",found)"
      ],
      "metadata": {
        "colab": {
          "base_uri": "https://localhost:8080/"
        },
        "id": "JDh4vCLla14o",
        "outputId": "c8759d51-6558-4952-fbde-04efc747fa70"
      },
      "execution_count": null,
      "outputs": [
        {
          "output_type": "stream",
          "name": "stdout",
          "text": [
            "True 3\n",
            "After True\n"
          ]
        }
      ]
    },
    {
      "cell_type": "code",
      "source": [
        "l = [9,14,13,3,4,5]\n",
        "\n",
        "greatest = l[0]\n",
        "for num in l:\n",
        "  if  num< greatest:\n",
        "    greatest = num\n",
        "print(greatest)\n"
      ],
      "metadata": {
        "colab": {
          "base_uri": "https://localhost:8080/"
        },
        "id": "YR6X_gvtZ4MP",
        "outputId": "4d1c1082-f26c-4c83-d723-fbbb4f74e5ad"
      },
      "execution_count": null,
      "outputs": [
        {
          "output_type": "stream",
          "name": "stdout",
          "text": [
            "3\n"
          ]
        }
      ]
    },
    {
      "cell_type": "code",
      "source": [
        "l = [9,14,13,3,4,5]\n",
        "greatest = None\n",
        "for num in l:\n"
      ],
      "metadata": {
        "colab": {
          "base_uri": "https://localhost:8080/"
        },
        "id": "GsdEVWJbvmVW",
        "outputId": "6a3b1d38-fb4a-4667-fadc-3988ac7cac15"
      },
      "execution_count": null,
      "outputs": [
        {
          "output_type": "stream",
          "name": "stdout",
          "text": [
            "5\n"
          ]
        }
      ]
    },
    {
      "cell_type": "code",
      "source": [
        "l = [9, 14, 13, 3, 4, 5]\n",
        "\n",
        "greatest = None\n",
        "for num in l:\n",
        "    if greatest is None:\n",
        "        greatest = num\n",
        "    elif num > greatest:\n",
        "        greatest = num\n",
        "print(greatest)\n"
      ],
      "metadata": {
        "colab": {
          "base_uri": "https://localhost:8080/"
        },
        "id": "pu-NOLQ0zMIW",
        "outputId": "7a13edc5-f24a-4117-e2d6-23d5a8a1f54e"
      },
      "execution_count": null,
      "outputs": [
        {
          "output_type": "stream",
          "name": "stdout",
          "text": [
            "14\n"
          ]
        }
      ]
    },
    {
      "cell_type": "code",
      "source": [
        "l = [9, 14, 13, 3, 4, 5]\n",
        "greatest =l[0]\n",
        "for num in l:\n",
        "    if num > greatest:\n",
        "        greatest = num\n",
        "print(greatest)\n"
      ],
      "metadata": {
        "colab": {
          "base_uri": "https://localhost:8080/"
        },
        "id": "4qBDzcOy2Ycz",
        "outputId": "1a579d75-7f53-444d-ab3f-184559d332b4"
      },
      "execution_count": null,
      "outputs": [
        {
          "output_type": "stream",
          "name": "stdout",
          "text": [
            "14\n"
          ]
        }
      ]
    },
    {
      "cell_type": "code",
      "source": [
        "# Finding the smallest number\n",
        "smallest = None\n",
        "print(\"before\")\n",
        "for value in [9, 14, 13, 3, 4, 5]:\n",
        "    if smallest is None:\n",
        "        smallest = value\n",
        "    if smallest > value:\n",
        "        smallest = value\n",
        "print(smallest)"
      ],
      "metadata": {
        "colab": {
          "base_uri": "https://localhost:8080/"
        },
        "id": "3DknPvF424n3",
        "outputId": "e4feaff0-b048-4cd4-a7a4-478e9a6ba36f"
      },
      "execution_count": null,
      "outputs": [
        {
          "output_type": "stream",
          "name": "stdout",
          "text": [
            "before\n",
            "3\n"
          ]
        }
      ]
    },
    {
      "cell_type": "markdown",
      "source": [
        "* Python has is operator that can be used in logical expressions\n",
        "* Implies **\"is the same as\"**\n",
        "* Similiar to **==** but stronger too\n",
        "* **is not** also a logical operator\n",
        "* For safety side use **is** as operator with boolean and\n",
        "none"
      ],
      "metadata": {
        "id": "HFfVjqU35Zzg"
      }
    },
    {
      "cell_type": "code",
      "source": [
        "0 ==0.0"
      ],
      "metadata": {
        "colab": {
          "base_uri": "https://localhost:8080/"
        },
        "id": "XpKxPu4c33ch",
        "outputId": "733df955-4bd4-471f-9380-a4ed146dee4d"
      },
      "execution_count": null,
      "outputs": [
        {
          "output_type": "execute_result",
          "data": {
            "text/plain": [
              "True"
            ]
          },
          "metadata": {},
          "execution_count": 28
        }
      ]
    },
    {
      "cell_type": "code",
      "source": [
        "0 is 0.0"
      ],
      "metadata": {
        "colab": {
          "base_uri": "https://localhost:8080/"
        },
        "id": "o3bgMr8P60b0",
        "outputId": "1b5f1428-38b5-49fb-bc11-c282eff40f88"
      },
      "execution_count": null,
      "outputs": [
        {
          "output_type": "stream",
          "name": "stderr",
          "text": [
            "<>:1: SyntaxWarning: \"is\" with a literal. Did you mean \"==\"?\n",
            "<>:1: SyntaxWarning: \"is\" with a literal. Did you mean \"==\"?\n",
            "<ipython-input-29-6aaf729ba8f4>:1: SyntaxWarning: \"is\" with a literal. Did you mean \"==\"?\n",
            "  0 is 0.0\n"
          ]
        },
        {
          "output_type": "execute_result",
          "data": {
            "text/plain": [
              "False"
            ]
          },
          "metadata": {},
          "execution_count": 29
        }
      ]
    },
    {
      "cell_type": "markdown",
      "source": [
        "### **STRING DATA TYPE**\n",
        "\n",
        "* A string is a sequences of charecters\n",
        "* A strings literally uses quotes\n",
        "* For string **'+'** means concatenate\n",
        "* When strings contains number it is still a strings\n",
        "* We can convert string number into int as int() function\n"
      ],
      "metadata": {
        "id": "WdWZgI5S7SlD"
      }
    },
    {
      "cell_type": "code",
      "source": [
        "print(\"hello\"+ \" \"+ \"world\")"
      ],
      "metadata": {
        "colab": {
          "base_uri": "https://localhost:8080/"
        },
        "id": "ZXulTOg263y3",
        "outputId": "43972d31-3063-4c3a-ed10-7e7f2a387bd1"
      },
      "execution_count": null,
      "outputs": [
        {
          "output_type": "stream",
          "name": "stdout",
          "text": [
            "hello world\n"
          ]
        }
      ]
    },
    {
      "cell_type": "markdown",
      "source": [
        "* We can get at any single character in a string using an index specified in **square brackets**\n",
        "* The index value must be integer and starts with 0\n",
        "* The index value can be an expression that is computed"
      ],
      "metadata": {
        "id": "Aj5zh-Pz9M8-"
      }
    },
    {
      "cell_type": "code",
      "source": [
        "s = \"abcdefghijklmnopqrstuvwxyz\"\n",
        "\n",
        "for index, char in enumerate(s):\n",
        "    print(index, char)\n",
        "\n",
        "\n"
      ],
      "metadata": {
        "colab": {
          "base_uri": "https://localhost:8080/"
        },
        "id": "IroiLIGX958X",
        "outputId": "8ba7389d-e214-4f40-ee03-65bd3798d4d7"
      },
      "execution_count": null,
      "outputs": [
        {
          "output_type": "stream",
          "name": "stdout",
          "text": [
            "0 a\n",
            "1 b\n",
            "2 c\n",
            "3 d\n",
            "4 e\n",
            "5 f\n",
            "6 g\n",
            "7 h\n",
            "8 i\n",
            "9 j\n",
            "10 k\n",
            "11 l\n",
            "12 m\n",
            "13 n\n",
            "14 o\n",
            "15 p\n",
            "16 q\n",
            "17 r\n",
            "18 s\n",
            "19 t\n",
            "20 u\n",
            "21 v\n",
            "22 w\n",
            "23 x\n",
            "24 y\n",
            "25 z\n"
          ]
        }
      ]
    },
    {
      "cell_type": "code",
      "source": [
        "letters = \"Banana\"\n",
        "letters[0]"
      ],
      "metadata": {
        "colab": {
          "base_uri": "https://localhost:8080/",
          "height": 35
        },
        "id": "kWsbrsJY-N9k",
        "outputId": "f8a8b546-2c47-49be-e23e-e8b5ef52c917"
      },
      "execution_count": null,
      "outputs": [
        {
          "output_type": "execute_result",
          "data": {
            "text/plain": [
              "'B'"
            ],
            "application/vnd.google.colaboratory.intrinsic+json": {
              "type": "string"
            }
          },
          "metadata": {},
          "execution_count": 40
        }
      ]
    },
    {
      "cell_type": "code",
      "source": [
        "let = \"jitesh\"\n",
        "count = 0\n",
        "for i in let:\n",
        "    i = count\n",
        "    count += 1\n",
        "print(count)"
      ],
      "metadata": {
        "colab": {
          "base_uri": "https://localhost:8080/"
        },
        "id": "LwQWiBHxAvv2",
        "outputId": "70284591-d7bd-425f-d32f-25f618f94e08"
      },
      "execution_count": null,
      "outputs": [
        {
          "output_type": "stream",
          "name": "stdout",
          "text": [
            "6\n"
          ]
        }
      ]
    },
    {
      "cell_type": "code",
      "source": [
        "# define a function to count number of character in a given string\n",
        "\n",
        "def string_count(s):\n",
        "     count = 0\n",
        "     for i in s:\n",
        "        i = count\n",
        "        count +=1\n",
        "     print(count)\n",
        "\n",
        "strin = input(\"Write a string to count characters:\")\n",
        "string_count(strin)\n"
      ],
      "metadata": {
        "colab": {
          "base_uri": "https://localhost:8080/"
        },
        "id": "ipjWyiPTBVUY",
        "outputId": "78fd3eec-e8d4-49d9-f11a-e932cace654b"
      },
      "execution_count": null,
      "outputs": [
        {
          "output_type": "stream",
          "name": "stdout",
          "text": [
            "Write a string to count characters:Jitesh Srivastava\n",
            "17\n"
          ]
        }
      ]
    },
    {
      "cell_type": "markdown",
      "source": [
        "### **Looping through strings**\n",
        "\n",
        "Using a while loop and an iterable variable, and the len() function. We can construct a loop to look at each of the letter in a string individualy."
      ],
      "metadata": {
        "id": "DOmmJX39F0TD"
      }
    },
    {
      "cell_type": "code",
      "source": [
        "fruit = 'oranges'\n",
        "index = 0\n",
        "while index < len(fruit):\n",
        "    letter = fruit[index]\n",
        "    print(letter,index)\n",
        "    index += 1"
      ],
      "metadata": {
        "colab": {
          "base_uri": "https://localhost:8080/"
        },
        "id": "rZy_FLiOD3De",
        "outputId": "090fc2c2-0af2-4c0b-831c-3cde137ae617"
      },
      "execution_count": null,
      "outputs": [
        {
          "output_type": "stream",
          "name": "stdout",
          "text": [
            "o 0\n",
            "r 1\n",
            "a 2\n",
            "n 3\n",
            "g 4\n",
            "e 5\n",
            "s 6\n"
          ]
        }
      ]
    },
    {
      "cell_type": "code",
      "source": [
        "name = \"jitesh\"\n",
        "index = 0\n",
        "while index < len(name):\n",
        "    letter = name[index]\n",
        "    print(index, letter)\n",
        "    index += 1"
      ],
      "metadata": {
        "id": "hkpxvEnmHZiu",
        "colab": {
          "base_uri": "https://localhost:8080/"
        },
        "outputId": "77ec9d36-3dc2-4663-f67c-995da2dd50fc"
      },
      "execution_count": null,
      "outputs": [
        {
          "output_type": "stream",
          "name": "stdout",
          "text": [
            "0 j\n",
            "1 i\n",
            "2 t\n",
            "3 e\n",
            "4 s\n",
            "5 h\n"
          ]
        }
      ]
    },
    {
      "cell_type": "code",
      "source": [
        "name = \"jitesh\"\n",
        "count = 0\n",
        "for i in name:\n",
        "    i = count\n",
        "    count += 1\n",
        "print(count)"
      ],
      "metadata": {
        "colab": {
          "base_uri": "https://localhost:8080/"
        },
        "id": "svdKvb-rfWNI",
        "outputId": "9be537a4-1889-4fbf-a123-5a44cc0c1967"
      },
      "execution_count": null,
      "outputs": [
        {
          "output_type": "stream",
          "name": "stdout",
          "text": [
            "6\n"
          ]
        }
      ]
    },
    {
      "cell_type": "code",
      "source": [
        "l = [6,9,9999,555,878767,909]\n",
        "\n",
        "numbers = l[0]\n",
        "\n",
        "for num in l:\n",
        "    if num > numbers:\n",
        "        numbers = num\n",
        "\n",
        "print(numbers)\n"
      ],
      "metadata": {
        "colab": {
          "base_uri": "https://localhost:8080/"
        },
        "id": "j-WN4nv5gItG",
        "outputId": "0bf282c7-8199-4213-d78b-b0d0e0ec5f54"
      },
      "execution_count": null,
      "outputs": [
        {
          "output_type": "stream",
          "name": "stdout",
          "text": [
            "878767\n"
          ]
        }
      ]
    },
    {
      "cell_type": "code",
      "source": [
        "name = \"jitesh\"\n",
        "\n",
        "for l in name:\n",
        "    print(l)"
      ],
      "metadata": {
        "colab": {
          "base_uri": "https://localhost:8080/"
        },
        "id": "FCCC_wUhjNc6",
        "outputId": "9f21de91-4717-4dc6-89d6-64843f5a085e"
      },
      "execution_count": null,
      "outputs": [
        {
          "output_type": "stream",
          "name": "stdout",
          "text": [
            "j\n",
            "i\n",
            "t\n",
            "e\n",
            "s\n",
            "h\n"
          ]
        }
      ]
    },
    {
      "cell_type": "markdown",
      "source": [
        "* A Definte loop using for statements is much more elegant\n",
        "* The iterable variable is completely taken care of by the for loop"
      ],
      "metadata": {
        "id": "wgRWqR68tvuG"
      }
    },
    {
      "cell_type": "code",
      "source": [
        "print(\"result using for loop\")\n",
        "fruit = \"oranges\"\n",
        "\n",
        "for i in fruit:\n",
        "    print(i)\n",
        "\n",
        "print(\"Results using while loop\")\n",
        "index = 0\n",
        "while index < len(fruit):\n",
        "    letter = fruit[index]\n",
        "    print(letter)\n",
        "    index += 1"
      ],
      "metadata": {
        "colab": {
          "base_uri": "https://localhost:8080/"
        },
        "id": "GpvJQgeDoxGf",
        "outputId": "228cea33-0ea2-4176-c61c-9a0eb51f75fe"
      },
      "execution_count": null,
      "outputs": [
        {
          "output_type": "stream",
          "name": "stdout",
          "text": [
            "result using for loop\n",
            "o\n",
            "r\n",
            "a\n",
            "n\n",
            "g\n",
            "e\n",
            "s\n",
            "Results using while loop\n",
            "o\n",
            "r\n",
            "a\n",
            "n\n",
            "g\n",
            "e\n",
            "s\n"
          ]
        }
      ]
    },
    {
      "cell_type": "markdown",
      "source": [
        "### **LOOPING AND COUNTING**\n",
        "\n",
        "This is a simple loop through each letter in a strings and counts the number of times loop encounters 'a' character"
      ],
      "metadata": {
        "id": "sA6QJjBCvUPb"
      }
    },
    {
      "cell_type": "code",
      "source": [
        "word = \"banana\"\n",
        "\n",
        "count = 0\n",
        "\n",
        "for i in word:\n",
        "    if i == \"a\":\n",
        "        count += 1\n",
        "    print(count)\n",
        "print(count)"
      ],
      "metadata": {
        "colab": {
          "base_uri": "https://localhost:8080/"
        },
        "id": "b3EFI9iwuY6U",
        "outputId": "3998025b-51c4-4053-bc15-8bf74dc27be3"
      },
      "execution_count": null,
      "outputs": [
        {
          "output_type": "stream",
          "name": "stdout",
          "text": [
            "0\n",
            "1\n",
            "1\n",
            "2\n",
            "2\n",
            "3\n",
            "3\n"
          ]
        }
      ]
    },
    {
      "cell_type": "markdown",
      "source": [
        "\n",
        "### Looking deeper into in\n",
        "* The iteration variable \"iterates\" through the sequence(ordered set)\n",
        "* The block(body) of code is executed once for each value in the sequence\n",
        "* The iteration variables moves through all of the values in the sequence\n",
        "\n",
        "for letter in \"banana\":   \n",
        "* Here letter is \"**itereable variable**\" and \"banana\" is a string\n",
        "\n"
      ],
      "metadata": {
        "id": "sF2Rox1nvSnz"
      }
    },
    {
      "cell_type": "markdown",
      "source": [
        "### **SLICING STRINGS**\n",
        "* We can also look at any continous section of a string using a : colon operator\n",
        "* The second number is one beyond the end of the slice - \"upto but not including\"\n",
        "* if the second number is beyond the  end of the string it stops at that end"
      ],
      "metadata": {
        "id": "4m1YzIwizH8W"
      }
    },
    {
      "cell_type": "code",
      "source": [
        "s = \"Jeetesh Kumar Srivastava\"\n",
        "print(s[0:8]) #read as s sub zero through 8\n",
        "print(s[2:15])\n",
        "print(s[0:56])\n",
        "print(s[1:5])\n",
        "print(s[:])\n"
      ],
      "metadata": {
        "colab": {
          "base_uri": "https://localhost:8080/"
        },
        "id": "ceS3MLsqyt-f",
        "outputId": "1bca0c4e-c516-477b-cbf6-c2cd6f0a83f7"
      },
      "execution_count": null,
      "outputs": [
        {
          "output_type": "stream",
          "name": "stdout",
          "text": [
            "Jeetesh \n",
            "etesh Kumar S\n",
            "Jeetesh Kumar Srivastava\n",
            "eete\n",
            "Jeetesh Kumar Srivastava\n"
          ]
        }
      ]
    },
    {
      "cell_type": "markdown",
      "source": [
        "### **Using in as a logical operator**\n",
        "\n",
        "*   The **in** keyword can also be used to check to see if one string is in other string\n",
        "*   The in expression is logical expression that returns True or False and can be in if statements\n",
        "\n"
      ],
      "metadata": {
        "id": "u9on7sNCg6ZE"
      }
    },
    {
      "cell_type": "code",
      "source": [
        "fruits = \"banana\"\n",
        "\"n\" in fruits\n",
        "if \"a\" in fruits:\n",
        "    print(\"a is present in fruits\")"
      ],
      "metadata": {
        "colab": {
          "base_uri": "https://localhost:8080/"
        },
        "id": "in7tKklo09jf",
        "outputId": "4e563d6a-dc6b-4064-9657-c49543a6ddcb"
      },
      "execution_count": null,
      "outputs": [
        {
          "output_type": "stream",
          "name": "stdout",
          "text": [
            "a is present in fruits\n"
          ]
        }
      ]
    },
    {
      "cell_type": "code",
      "source": [
        "word = \"banana\"\n",
        "if word == \"banana\":\n",
        "    print(\"All right\", word)"
      ],
      "metadata": {
        "colab": {
          "base_uri": "https://localhost:8080/"
        },
        "id": "QfDxwN86iAsb",
        "outputId": "fdc5ed8e-1529-4af3-9703-4bea1d889a79"
      },
      "execution_count": null,
      "outputs": [
        {
          "output_type": "stream",
          "name": "stdout",
          "text": [
            "All right banana\n"
          ]
        }
      ]
    },
    {
      "cell_type": "code",
      "source": [
        "word = \"banana\"\n",
        "word.upper()"
      ],
      "metadata": {
        "colab": {
          "base_uri": "https://localhost:8080/",
          "height": 35
        },
        "id": "cFxDnzY0kWkm",
        "outputId": "322d99f5-e060-4ad6-af45-2798fbb856fc"
      },
      "execution_count": null,
      "outputs": [
        {
          "output_type": "execute_result",
          "data": {
            "text/plain": [
              "'BANANA'"
            ],
            "application/vnd.google.colaboratory.intrinsic+json": {
              "type": "string"
            }
          },
          "metadata": {},
          "execution_count": 7
        }
      ]
    },
    {
      "cell_type": "code",
      "source": [
        "print(\"hi there\".upper())"
      ],
      "metadata": {
        "colab": {
          "base_uri": "https://localhost:8080/"
        },
        "id": "Hpk0Ya7mltho",
        "outputId": "6d2e3dc4-a8b8-4738-9d18-1f6db7c1d104"
      },
      "execution_count": null,
      "outputs": [
        {
          "output_type": "stream",
          "name": "stdout",
          "text": [
            "HI THERE\n"
          ]
        }
      ]
    },
    {
      "cell_type": "code",
      "source": [
        "dir(word)\n",
        "word.count(\"a\")"
      ],
      "metadata": {
        "colab": {
          "base_uri": "https://localhost:8080/"
        },
        "id": "H3qWpCVxnPWQ",
        "outputId": "573b222d-9838-49a2-bceb-62574e1bffb8"
      },
      "execution_count": null,
      "outputs": [
        {
          "output_type": "execute_result",
          "data": {
            "text/plain": [
              "3"
            ]
          },
          "metadata": {},
          "execution_count": 11
        }
      ]
    },
    {
      "cell_type": "code",
      "source": [
        "s = \"Hello Jitesh How are u?\"\n",
        "s.replace('Hello',\"Hola\")"
      ],
      "metadata": {
        "colab": {
          "base_uri": "https://localhost:8080/",
          "height": 35
        },
        "id": "MfkwGa6InjCS",
        "outputId": "dbbc7b9d-526d-425d-c263-20f803c0d21a"
      },
      "execution_count": null,
      "outputs": [
        {
          "output_type": "execute_result",
          "data": {
            "text/plain": [
              "'Hola Jitesh How are u?'"
            ],
            "application/vnd.google.colaboratory.intrinsic+json": {
              "type": "string"
            }
          },
          "metadata": {},
          "execution_count": 12
        }
      ]
    },
    {
      "cell_type": "markdown",
      "source": [
        "### **Stripping Whitespaces**\n",
        "\n",
        "\n",
        "*   Sometimes we want to take a string and removes whitespaces at the beginning and/or end.\n",
        "*   lstrip(), and rstrip() removes whitespaces at left or right\n",
        "* strip() removes both beginning and ending whitespace\n"
      ],
      "metadata": {
        "id": "09F4l1auqucy"
      }
    },
    {
      "cell_type": "code",
      "source": [
        "x = \"   hello bob   \"\n",
        "print(x.lstrip())\n",
        "print(x.rstrip())\n",
        "print(x.strip())"
      ],
      "metadata": {
        "colab": {
          "base_uri": "https://localhost:8080/"
        },
        "id": "1tV83jr7o7VT",
        "outputId": "50cfefce-52d0-4477-d424-46ba4d3c8811"
      },
      "execution_count": null,
      "outputs": [
        {
          "output_type": "stream",
          "name": "stdout",
          "text": [
            "hello bob   \n",
            "   hello bob\n",
            "hello bob\n"
          ]
        }
      ]
    },
    {
      "cell_type": "code",
      "source": [
        "line = \"Smoking is injurious to health\"\n",
        "print(line.startswith(\"Smoking\"))\n",
        "print(line.startswith(\"s\"))\n",
        "\n",
        "\n"
      ],
      "metadata": {
        "colab": {
          "base_uri": "https://localhost:8080/"
        },
        "id": "O1NGle2bs-7i",
        "outputId": "09ba37de-ceea-4e79-dbb7-17526f5524f7"
      },
      "execution_count": null,
      "outputs": [
        {
          "output_type": "stream",
          "name": "stdout",
          "text": [
            "True\n",
            "False\n"
          ]
        }
      ]
    },
    {
      "cell_type": "markdown",
      "source": [
        "### **Parsing and Extracting**\n"
      ],
      "metadata": {
        "id": "T5OzK-A0LReb"
      }
    },
    {
      "cell_type": "code",
      "source": [
        "data = \"https://mail.google.com/mail/u/0/?tab=rm&ogbl#inbox\"\n",
        "\n",
        "atpos = data.find('.com')\n",
        "print(atpos)\n",
        "\n",
        "uptpos = data.find(\"#\")\n",
        "print(uptpos)\n",
        "\n",
        "extr = data[atpos+1:uptpos]\n",
        "print(extr)"
      ],
      "metadata": {
        "id": "LdPGr0quvpyp",
        "colab": {
          "base_uri": "https://localhost:8080/"
        },
        "outputId": "cd0db36b-5e80-4443-aae1-720b3f97553f"
      },
      "execution_count": null,
      "outputs": [
        {
          "output_type": "stream",
          "name": "stdout",
          "text": [
            "19\n",
            "45\n",
            "com/mail/u/0/?tab=rm&ogbl\n"
          ]
        }
      ]
    },
    {
      "cell_type": "code",
      "source": [
        "l = [2, 44, 8, 0, 55645, 8318]\n",
        "\n",
        "lsorted = sorted(set(l))\n",
        "print(lsorted)\n",
        "print(lsorted[1])\n",
        "print(lsorted[-2])"
      ],
      "metadata": {
        "colab": {
          "base_uri": "https://localhost:8080/"
        },
        "id": "A3LkyHgPNKSe",
        "outputId": "ac7e4f50-182e-4df3-8103-8ef1fed2340d"
      },
      "execution_count": null,
      "outputs": [
        {
          "output_type": "stream",
          "name": "stdout",
          "text": [
            "[0, 2, 8, 44, 8318, 55645]\n",
            "2\n",
            "8318\n"
          ]
        }
      ]
    },
    {
      "cell_type": "markdown",
      "source": [
        "### **LIST**\n",
        "* A set of rules or steps used to solve a problem is called as **Algorithm**\n",
        "* A particular way of organizing data in a computer is called as **Data structures**"
      ],
      "metadata": {
        "id": "zaHq-i5iREAL"
      }
    },
    {
      "cell_type": "markdown",
      "source": [
        "A list is a kind of collection\n",
        "\n",
        "* A collection allows us to put many values in a single variable.\n",
        "* A collection is nice because we can carry many values around in one conventional packages.\n",
        "\n",
        "e.g --\n",
        "friends = ['Anoop', 'Ritesh']\n",
        "\n",
        "* List constants are surrounded by square brackets and the elements in the list are seperated by commas.\n",
        "* A list can be any python object- even another list\n",
        "* A list can be empty.\n",
        "\n"
      ],
      "metadata": {
        "id": "T5t_fU_nSdTf"
      }
    },
    {
      "cell_type": "code",
      "source": [
        "type([2,3,4,5,6])\n"
      ],
      "metadata": {
        "colab": {
          "base_uri": "https://localhost:8080/"
        },
        "id": "VDhK4UpcO92y",
        "outputId": "03e31053-db24-48da-9d7f-aea00d02bdbb"
      },
      "execution_count": null,
      "outputs": [
        {
          "output_type": "execute_result",
          "data": {
            "text/plain": [
              "list"
            ]
          },
          "metadata": {},
          "execution_count": 12
        }
      ]
    },
    {
      "cell_type": "code",
      "source": [],
      "metadata": {
        "id": "pD5sU-SZQYFl"
      },
      "execution_count": null,
      "outputs": []
    }
  ]
}
