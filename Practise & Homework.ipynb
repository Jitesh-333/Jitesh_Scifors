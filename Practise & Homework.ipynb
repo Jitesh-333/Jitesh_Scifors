{
  "nbformat": 4,
  "nbformat_minor": 0,
  "metadata": {
    "colab": {
      "provenance": [],
      "authorship_tag": "ABX9TyMyraipUgkzylpSWMdaqtBM",
      "include_colab_link": true
    },
    "kernelspec": {
      "name": "python3",
      "display_name": "Python 3"
    },
    "language_info": {
      "name": "python"
    }
  },
  "cells": [
    {
      "cell_type": "markdown",
      "metadata": {
        "id": "view-in-github",
        "colab_type": "text"
      },
      "source": [
        "<a href=\"https://colab.research.google.com/github/Jitesh-333/Jitesh_Scifors/blob/main/Practise%20%26%20Homework.ipynb\" target=\"_parent\"><img src=\"https://colab.research.google.com/assets/colab-badge.svg\" alt=\"Open In Colab\"/></a>"
      ]
    },
    {
      "cell_type": "markdown",
      "source": [
        "###  **Three Question on conditions**"
      ],
      "metadata": {
        "id": "PDla4CQphk_E"
      }
    },
    {
      "cell_type": "markdown",
      "source": [
        " 1) Checking a given input number is a even or odd.\n"
      ],
      "metadata": {
        "id": "gHcKRj-AbLxv"
      }
    },
    {
      "cell_type": "code",
      "execution_count": null,
      "metadata": {
        "colab": {
          "base_uri": "https://localhost:8080/"
        },
        "id": "Qv49x6d4c1BR",
        "outputId": "4ed2bd8e-9de8-40ee-ef05-37ddd2585b3f"
      },
      "outputs": [
        {
          "output_type": "stream",
          "name": "stdout",
          "text": [
            "Enter an integer:44\n",
            "44 is even.\n"
          ]
        }
      ],
      "source": [
        "num = int(input(\"Enter an integer:\"))     #taking input from the user as int\n",
        "if num % 2 ==0:                           #Checking the num as it is divided by 2 or not\n",
        "  print(num, \"is even.\")\n",
        "else:\n",
        "  print(num, \"is odd\")"
      ]
    },
    {
      "cell_type": "markdown",
      "source": [
        "2) Checking a string is palindrome or not ?\n",
        "\n",
        "Palindrome is a word, phrase, or sequence that reads the same backwards as forwards, e.g. madam"
      ],
      "metadata": {
        "id": "sH8j6cSlbzAk"
      }
    },
    {
      "cell_type": "code",
      "source": [
        "user_input = input()                       #taking input from users by default it is string\n",
        "if user_input[::1] == user_input[::-1]:    # reverse the order of character using slicing\n",
        "  print('Given word is palindrome')\n",
        "else:\n",
        "  print('Given word is not palindrome')"
      ],
      "metadata": {
        "colab": {
          "base_uri": "https://localhost:8080/"
        },
        "id": "uG7c0Ir2d41a",
        "outputId": "4c751496-ec3c-4fb0-e772-0fa5bd796119"
      },
      "execution_count": null,
      "outputs": [
        {
          "output_type": "stream",
          "name": "stdout",
          "text": [
            "66\n",
            "Given word is palindrome\n"
          ]
        }
      ]
    },
    {
      "cell_type": "markdown",
      "source": [
        "3) Checking a given person is elligible to vote in ongoing election?  \n",
        "\n",
        "Minimum age required to cast the vote is 18 or more."
      ],
      "metadata": {
        "id": "zqpnlHlsdpw7"
      }
    },
    {
      "cell_type": "code",
      "source": [
        "age = int(input(\"Enter your age:\")) #Asking users to input their age\n",
        "if age >=18:                        #Checking the condition\n",
        "  print(\"eligible to vote\")\n",
        "else:\n",
        "  print(\"Not eligible\")"
      ],
      "metadata": {
        "colab": {
          "base_uri": "https://localhost:8080/"
        },
        "id": "OxzhMdO3ekJL",
        "outputId": "22416de5-3f37-4a48-dcab-476871f62ba5"
      },
      "execution_count": 2,
      "outputs": [
        {
          "output_type": "stream",
          "name": "stdout",
          "text": [
            "Enter your age:22\n",
            "eligible to vote\n"
          ]
        }
      ]
    },
    {
      "cell_type": "markdown",
      "source": [
        "### **Three questions on function**"
      ],
      "metadata": {
        "id": "9sNy5VfTfn-U"
      }
    },
    {
      "cell_type": "markdown",
      "source": [
        "Function 1\n",
        "\n",
        "Defining a function to reverse a given input string from the users"
      ],
      "metadata": {
        "id": "9TdwL74chfUl"
      }
    },
    {
      "cell_type": "code",
      "source": [
        "\n",
        "def reverse_string(s):            #defining the function\n",
        "  return s[::-1]\n",
        "\n",
        "\n",
        "string = input(\"Enter a string:\") #taking the input from the users\n",
        "print(reverse_string(string))     #printing the results by calling the functions"
      ],
      "metadata": {
        "colab": {
          "base_uri": "https://localhost:8080/"
        },
        "id": "GrtAEXf9e-8N",
        "outputId": "cb4067f6-ee25-4f50-e4f7-fb4b668a6357"
      },
      "execution_count": null,
      "outputs": [
        {
          "output_type": "stream",
          "name": "stdout",
          "text": [
            "Enter a string:jitesh\n",
            "hsetij\n"
          ]
        }
      ]
    },
    {
      "cell_type": "markdown",
      "source": [
        "Function\n",
        "\n",
        "Creating a function to compute the power of a given number by taking the input of base and power from users"
      ],
      "metadata": {
        "id": "FNdgwZjMhbxQ"
      }
    },
    {
      "cell_type": "code",
      "source": [
        "def power(base, exponent):           #Defining the function\n",
        "  return base**exponent\n",
        "\n",
        "base_num =int(input('enter base'))   #Taking the base input from users\n",
        "expo = int(input('enter exponents')) #Taking the exponents input from users\n",
        "print(power(base_num,expo))"
      ],
      "metadata": {
        "colab": {
          "base_uri": "https://localhost:8080/"
        },
        "id": "ueOWPljEf6XC",
        "outputId": "8cc907ca-cec4-4ae9-894f-643bc67f77c6"
      },
      "execution_count": 3,
      "outputs": [
        {
          "output_type": "stream",
          "name": "stdout",
          "text": [
            "enter base677375\n",
            "enter exponents10\n",
            "20337222506434958281150637616092826985754072666168212890625\n"
          ]
        }
      ]
    },
    {
      "cell_type": "markdown",
      "source": [
        "Function 3\n",
        "\n",
        "Creating the function to compute the area of a given rectangle by taking the length and breadth from user as input."
      ],
      "metadata": {
        "id": "fv7b6bWbhYQq"
      }
    },
    {
      "cell_type": "code",
      "source": [
        "def area_rectangle(length, breadth):         #Defining the function\n",
        "  area_of_rectangle =(length*breadth)\n",
        "  return area_of_rectangle\n",
        "\n",
        "length = int(input(\"Enter the length:\"))    #Taking the length as input from users\n",
        "breadth = int(input(\"Enter the breadth:\"))  #Taking the breadth as input from users\n",
        "\n",
        "Area = area_rectangle(length,breadth)\n",
        "print(Area)\n",
        "\n"
      ],
      "metadata": {
        "colab": {
          "base_uri": "https://localhost:8080/"
        },
        "id": "Gqqp9S2EgyeX",
        "outputId": "bb9c2520-3bfe-4527-de01-0c24ef2616f9"
      },
      "execution_count": 5,
      "outputs": [
        {
          "output_type": "stream",
          "name": "stdout",
          "text": [
            "Enter the length:2\n",
            "Enter the breadth:8\n",
            "16\n"
          ]
        }
      ]
    },
    {
      "cell_type": "code",
      "source": [],
      "metadata": {
        "id": "BsXw7_rqhKsn"
      },
      "execution_count": null,
      "outputs": []
    }
  ]
}